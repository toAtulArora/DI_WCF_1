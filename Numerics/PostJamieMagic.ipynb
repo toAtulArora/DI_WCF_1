{
 "cells": [
  {
   "cell_type": "markdown",
   "metadata": {},
   "source": [
    "# Libraries"
   ]
  },
  {
   "cell_type": "code",
   "execution_count": 17,
   "metadata": {
    "init_cell": true
   },
   "outputs": [],
   "source": [
    "# from sympy.physics.quantum.qubit import Qubit\n",
    "# from sympy.physics.quantum.dagger import Dagger\n",
    "# from sympy.physics.quantum import TensorProduct as sTP\n",
    "# import sympy.physics.quantum as sq\n",
    "# import sympy as sp\n",
    "\n",
    "\n",
    "import qutip as qt\n",
    "\n",
    "import cvxpy as cp\n",
    "import numpy as np\n",
    "import itertools\n",
    "\n",
    "\n",
    "\n",
    "\n",
    "# # from multiprocessing import Pool\n",
    "\n",
    "# #Because the arrays are large (over 4GB), they are not getting pickled (something multiprocessing needs to do)\n",
    "# import pickle4reducer\n",
    "# import multiprocessing as mp\n",
    "# ctx = mp.get_context()\n",
    "# ctx.reducer = pickle4reducer.Pickle4Reducer()\n",
    "\n"
   ]
  },
  {
   "cell_type": "markdown",
   "metadata": {},
   "source": [
    "## Partial Trace for cvxpy"
   ]
  },
  {
   "cell_type": "code",
   "execution_count": 18,
   "metadata": {
    "init_cell": true
   },
   "outputs": [],
   "source": [
    "##\n",
    "##https://github.com/cvxgrp/cvxpy/issues/563\n",
    "\n",
    "import numpy as np\n",
    "import cvxpy\n",
    "from cvxpy.expressions.expression import Expression\n",
    "\n",
    "\n",
    "def expr_as_np_array(cvx_expr):\n",
    "    if cvx_expr.is_scalar():\n",
    "        return np.array(cvx_expr)\n",
    "    elif len(cvx_expr.shape) == 1:\n",
    "        return np.array([v for v in cvx_expr])\n",
    "    else:\n",
    "        # then cvx_expr is a 2d array\n",
    "        rows = []\n",
    "        for i in range(cvx_expr.shape[0]):\n",
    "            row = [cvx_expr[i,j] for j in range(cvx_expr.shape[1])]\n",
    "            rows.append(row)\n",
    "        arr = np.array(rows)\n",
    "        return arr\n",
    "\n",
    "\n",
    "def np_array_as_expr(np_arr):\n",
    "    aslist = np_arr.tolist()\n",
    "    expr = cvxpy.bmat(aslist)\n",
    "    return expr\n",
    "\n",
    "\n",
    "def np_partial_trace(rho, dims, axis=0):\n",
    "    \"\"\"\n",
    "    Takes partial trace over the subsystem defined by 'axis'\n",
    "    rho: a matrix\n",
    "    dims: a list containing the dimension of each subsystem\n",
    "    axis: the index of the subsytem to be traced out\n",
    "    (We assume that each subsystem is square)\n",
    "    \"\"\"\n",
    "    dims_ = np.array(dims)\n",
    "    # Reshape the matrix into a tensor with the following shape:\n",
    "    # [dim_0, dim_1, ..., dim_n, dim_0, dim_1, ..., dim_n]\n",
    "    # Each subsystem gets one index for its row and another one for its column\n",
    "    reshaped_rho = np.reshape(rho, np.concatenate((dims_, dims_), axis=None))\n",
    "\n",
    "    # Move the subsystems to be traced towards the end\n",
    "    reshaped_rho = np.moveaxis(reshaped_rho, axis, -1)\n",
    "    reshaped_rho = np.moveaxis(reshaped_rho, len(dims)+axis-1, -1)\n",
    "\n",
    "    # Trace over the very last row and column indices\n",
    "    traced_out_rho = np.trace(reshaped_rho, axis1=-2, axis2=-1)\n",
    "\n",
    "    # traced_out_rho is still in the shape of a tensor\n",
    "    # Reshape back to a matrix\n",
    "    dims_untraced = np.delete(dims_, axis)\n",
    "    rho_dim = np.prod(dims_untraced)\n",
    "    return traced_out_rho.reshape([rho_dim, rho_dim])\n",
    "\n",
    "\n",
    "def partial_trace(rho, dims, axis=0,debug=False):\n",
    "    if not isinstance(rho, Expression):\n",
    "        rho = cvxpy.Constant(shape=rho.shape, value=rho)\n",
    "    rho_np = expr_as_np_array(rho)\n",
    "    traced_rho = np_partial_trace(rho_np, dims, axis)\n",
    "    if(debug):\n",
    "        print(\"this is what numpy said\")\n",
    "        print(traced_rho)\n",
    "        for row in traced_rho:\n",
    "            for element in row:\n",
    "                print(element)\n",
    "    ##########                \n",
    "    #traced_rho = np_array_as_expr(traced_rho)\n",
    "    ####################\n",
    "    # if(debug):\n",
    "    #     print(\"this is what the expression became\")\n",
    "    #     print(traced_rho)\n",
    "    return traced_rho\n",
    "\n"
   ]
  },
  {
   "cell_type": "markdown",
   "metadata": {},
   "source": [
    "## Tensor product with cvxpy"
   ]
  },
  {
   "cell_type": "code",
   "execution_count": 19,
   "metadata": {
    "init_cell": true
   },
   "outputs": [],
   "source": [
    "def general_kron(a, b):\n",
    "    \"\"\"\n",
    "    Returns a CVXPY Expression representing the Kronecker product of a and b.\n",
    "    \n",
    "    At most one of \"a\" and \"b\" may be CVXPY Variable objects.\n",
    "    \n",
    "    :param a: 2D numpy ndarray, or a CVXPY Variable with a.ndim == 2\n",
    "    :param b: 2D numpy ndarray, or a CVXPY Variable with b.ndim == 2\n",
    "    \"\"\"\n",
    "    expr = np.kron(a, b)\n",
    "    num_rows = expr.shape[0]\n",
    "    rows = [cvxpy.hstack(expr[i,:]) for i in range(num_rows)]\n",
    "    full_expr = cvxpy.vstack(rows)\n",
    "    return full_expr"
   ]
  },
  {
   "cell_type": "markdown",
   "metadata": {},
   "source": [
    "# QuTiP | DI CF with Alice testing rigidity + Weak ET"
   ]
  },
  {
   "cell_type": "code",
   "execution_count": 20,
   "metadata": {
    "init_cell": true
   },
   "outputs": [],
   "source": [
    "verbose=True\n",
    "#fileName = \"cache_temp_1\""
   ]
  },
  {
   "cell_type": "markdown",
   "metadata": {},
   "source": [
    "## Bare Kets"
   ]
  },
  {
   "cell_type": "code",
   "execution_count": 21,
   "metadata": {
    "init_cell": true
   },
   "outputs": [],
   "source": [
    "o=qt.basis(2,0)\n",
    "l=qt.basis(2,1)\n",
    "\n",
    "\n",
    "I=qt.identity(2)\n",
    "\n",
    "ι = 0+1j\n",
    "\n",
    "TP = qt.tensor\n",
    "\n",
    "def D(obj):\n",
    "    return obj.dag()"
   ]
  },
  {
   "cell_type": "markdown",
   "metadata": {},
   "source": [
    "## The unitary and the projector"
   ]
  },
  {
   "cell_type": "markdown",
   "metadata": {},
   "source": [
    "### Projectors for measurement etc"
   ]
  },
  {
   "cell_type": "code",
   "execution_count": 22,
   "metadata": {
    "init_cell": true
   },
   "outputs": [
    {
     "data": {
      "text/latex": [
       "Quantum object: dims = [[2], [2]], shape = (2, 2), type = oper, isherm = True\\begin{equation*}\\left(\\begin{array}{*{11}c}1.0 & 0.0\\\\0.0 & 0.0\\\\\\end{array}\\right)\\end{equation*}"
      ],
      "text/plain": [
       "Quantum object: dims = [[2], [2]], shape = (2, 2), type = oper, isherm = True\n",
       "Qobj data =\n",
       "[[1. 0.]\n",
       " [0. 0.]]"
      ]
     },
     "metadata": {},
     "output_type": "display_data"
    },
    {
     "data": {
      "text/latex": [
       "Quantum object: dims = [[2], [2]], shape = (2, 2), type = oper, isherm = True\\begin{equation*}\\left(\\begin{array}{*{11}c}0.0 & 0.0\\\\0.0 & 1.0\\\\\\end{array}\\right)\\end{equation*}"
      ],
      "text/plain": [
       "Quantum object: dims = [[2], [2]], shape = (2, 2), type = oper, isherm = True\n",
       "Qobj data =\n",
       "[[0. 0.]\n",
       " [0. 1.]]"
      ]
     },
     "metadata": {},
     "output_type": "display_data"
    },
    {
     "data": {
      "text/latex": [
       "Quantum object: dims = [[2], [2]], shape = (2, 2), type = oper, isherm = True\\begin{equation*}\\left(\\begin{array}{*{11}c}0.500 & 0.500\\\\0.500 & 0.500\\\\\\end{array}\\right)\\end{equation*}"
      ],
      "text/plain": [
       "Quantum object: dims = [[2], [2]], shape = (2, 2), type = oper, isherm = True\n",
       "Qobj data =\n",
       "[[0.5 0.5]\n",
       " [0.5 0.5]]"
      ]
     },
     "metadata": {},
     "output_type": "display_data"
    },
    {
     "data": {
      "text/latex": [
       "Quantum object: dims = [[2], [2]], shape = (2, 2), type = oper, isherm = True\\begin{equation*}\\left(\\begin{array}{*{11}c}0.500 & 0.500\\\\0.500 & 0.500\\\\\\end{array}\\right)\\end{equation*}"
      ],
      "text/plain": [
       "Quantum object: dims = [[2], [2]], shape = (2, 2), type = oper, isherm = True\n",
       "Qobj data =\n",
       "[[0.5 0.5]\n",
       " [0.5 0.5]]"
      ]
     },
     "metadata": {},
     "output_type": "display_data"
    },
    {
     "data": {
      "text/latex": [
       "Quantum object: dims = [[2], [2]], shape = (2, 2), type = oper, isherm = True\\begin{equation*}\\left(\\begin{array}{*{11}c}0.500 & -0.500j\\\\0.500j & 0.500\\\\\\end{array}\\right)\\end{equation*}"
      ],
      "text/plain": [
       "Quantum object: dims = [[2], [2]], shape = (2, 2), type = oper, isherm = True\n",
       "Qobj data =\n",
       "[[0.5+0.j  0. -0.5j]\n",
       " [0. +0.5j 0.5+0.j ]]"
      ]
     },
     "metadata": {},
     "output_type": "display_data"
    },
    {
     "data": {
      "text/latex": [
       "Quantum object: dims = [[2], [2]], shape = (2, 2), type = oper, isherm = True\\begin{equation*}\\left(\\begin{array}{*{11}c}0.500 & 0.500j\\\\-0.500j & 0.500\\\\\\end{array}\\right)\\end{equation*}"
      ],
      "text/plain": [
       "Quantum object: dims = [[2], [2]], shape = (2, 2), type = oper, isherm = True\n",
       "Qobj data =\n",
       "[[0.5+0.j  0. +0.5j]\n",
       " [0. -0.5j 0.5+0.j ]]"
      ]
     },
     "metadata": {},
     "output_type": "display_data"
    },
    {
     "data": {
      "text/latex": [
       "Quantum object: dims = [[2], [2]], shape = (2, 2), type = oper, isherm = True\\begin{equation*}\\left(\\begin{array}{*{11}c}0.0 & 1.0\\\\1.0 & 0.0\\\\\\end{array}\\right)\\end{equation*}"
      ],
      "text/plain": [
       "Quantum object: dims = [[2], [2]], shape = (2, 2), type = oper, isherm = True\n",
       "Qobj data =\n",
       "[[0. 1.]\n",
       " [1. 0.]]"
      ]
     },
     "metadata": {},
     "output_type": "display_data"
    }
   ],
   "source": [
    "Π_z0 = o * D(o)\n",
    "Π_z1 = l * D(l)\n",
    "display(Π_z0,Π_z1)\n",
    "\n",
    "def Π_z(i):\n",
    "    if i==0:\n",
    "        return Π_z0\n",
    "    else:\n",
    "        return Π_z1\n",
    "\n",
    "\n",
    "x0 = (o + l)/np.sqrt(2)\n",
    "x1 = (o + l)/np.sqrt(2)\n",
    "\n",
    "\n",
    "Π_x0 = x0 * D(x0)\n",
    "Π_x1 = x1 * D(x1)\n",
    "display(Π_x0,Π_x1)\n",
    "\n",
    "\n",
    "y0 = (o + ι*l)/np.sqrt(2)\n",
    "y1 = (o - ι*l)/np.sqrt(2)\n",
    "\n",
    "\n",
    "Π_y0 = y0 * D(y0)\n",
    "Π_y1 = y1 * D(y1)\n",
    "display(Π_y0,Π_y1)\n",
    "\n",
    "\n",
    "X_hat = o * D(l) + l *D(o)\n",
    "display(X_hat)"
   ]
  },
  {
   "cell_type": "markdown",
   "metadata": {},
   "source": [
    "### The state, the unitary and the projectors\n",
    "\n",
    "We define ```U, ρ1, Π``` (qutip objects), ready to use."
   ]
  },
  {
   "cell_type": "code",
   "execution_count": 23,
   "metadata": {
    "init_cell": true
   },
   "outputs": [
    {
     "name": "stdout",
     "output_type": "stream",
     "text": [
      "0.9999999999999998\n"
     ]
    },
    {
     "data": {
      "text/latex": [
       "Quantum object: dims = [[2, 2, 2], [2, 2, 2]], shape = (8, 8), type = oper, isherm = True\\begin{equation*}\\left(\\begin{array}{*{11}c}0.125 & 0.0 & 0.125 & 0.0 & 0.125 & 0.0 & 0.0 & 0.125\\\\0.0 & 0.125 & 0.0 & 0.125 & 0.0 & 0.125 & 0.125 & 0.0\\\\0.125 & 0.0 & 0.125 & 0.0 & 0.125 & 0.0 & 0.0 & 0.125\\\\0.0 & 0.125 & 0.0 & 0.125 & 0.0 & 0.125 & 0.125 & 0.0\\\\0.125 & 0.0 & 0.125 & 0.0 & 0.125 & 0.0 & 0.0 & 0.125\\\\0.0 & 0.125 & 0.0 & 0.125 & 0.0 & 0.125 & 0.125 & 0.0\\\\0.0 & 0.125 & 0.0 & 0.125 & 0.0 & 0.125 & 0.125 & 0.0\\\\0.125 & 0.0 & 0.125 & 0.0 & 0.125 & 0.0 & 0.0 & 0.125\\\\\\end{array}\\right)\\end{equation*}"
      ],
      "text/plain": [
       "Quantum object: dims = [[2, 2, 2], [2, 2, 2]], shape = (8, 8), type = oper, isherm = True\n",
       "Qobj data =\n",
       "[[0.125 0.    0.125 0.    0.125 0.    0.    0.125]\n",
       " [0.    0.125 0.    0.125 0.    0.125 0.125 0.   ]\n",
       " [0.125 0.    0.125 0.    0.125 0.    0.    0.125]\n",
       " [0.    0.125 0.    0.125 0.    0.125 0.125 0.   ]\n",
       " [0.125 0.    0.125 0.    0.125 0.    0.    0.125]\n",
       " [0.    0.125 0.    0.125 0.    0.125 0.125 0.   ]\n",
       " [0.    0.125 0.    0.125 0.    0.125 0.125 0.   ]\n",
       " [0.125 0.    0.125 0.    0.125 0.    0.    0.125]]"
      ]
     },
     "metadata": {},
     "output_type": "display_data"
    },
    {
     "data": {
      "text/latex": [
       "Quantum object: dims = [[2, 2, 2, 2, 2, 2, 2], [2, 2, 2, 2, 2, 2, 2]], shape = (128, 128), type = oper, isherm = True\\begin{equation*}\\left(\\begin{array}{*{11}c}0.0 & 0.0 & 0.0 & 0.0 & 0.0 & \\cdots & 0.0 & 0.0 & 0.0 & 0.0 & 0.0\\\\0.0 & 0.0 & 0.0 & 0.0 & 0.0 & \\cdots & 0.0 & 0.0 & 0.0 & 0.0 & 0.0\\\\0.0 & 0.0 & 0.0 & 0.0 & 0.0 & \\cdots & 0.0 & 0.0 & 0.0 & 0.0 & 0.0\\\\0.0 & 0.0 & 0.0 & 1.0 & 0.0 & \\cdots & 0.0 & 0.0 & 0.0 & 0.0 & 0.0\\\\0.0 & 0.0 & 0.0 & 0.0 & 0.0 & \\cdots & 0.0 & 0.0 & 0.0 & 0.0 & 0.0\\\\\\vdots & \\vdots & \\vdots & \\vdots & \\vdots & \\ddots & \\vdots & \\vdots & \\vdots & \\vdots & \\vdots\\\\0.0 & 0.0 & 0.0 & 0.0 & 0.0 & \\cdots & 0.0 & 0.0 & 0.0 & 0.0 & 0.0\\\\0.0 & 0.0 & 0.0 & 0.0 & 0.0 & \\cdots & 0.0 & 1.0 & 0.0 & 0.0 & 0.0\\\\0.0 & 0.0 & 0.0 & 0.0 & 0.0 & \\cdots & 0.0 & 0.0 & 1.0 & 0.0 & 0.0\\\\0.0 & 0.0 & 0.0 & 0.0 & 0.0 & \\cdots & 0.0 & 0.0 & 0.0 & 0.0 & 0.0\\\\0.0 & 0.0 & 0.0 & 0.0 & 0.0 & \\cdots & 0.0 & 0.0 & 0.0 & 0.0 & 0.0\\\\\\end{array}\\right)\\end{equation*}"
      ],
      "text/plain": [
       "Quantum object: dims = [[2, 2, 2, 2, 2, 2, 2], [2, 2, 2, 2, 2, 2, 2]], shape = (128, 128), type = oper, isherm = True\n",
       "Qobj data =\n",
       "[[0. 0. 0. ... 0. 0. 0.]\n",
       " [0. 0. 0. ... 0. 0. 0.]\n",
       " [0. 0. 0. ... 0. 0. 0.]\n",
       " ...\n",
       " [0. 0. 0. ... 1. 0. 0.]\n",
       " [0. 0. 0. ... 0. 0. 0.]\n",
       " [0. 0. 0. ... 0. 0. 0.]]"
      ]
     },
     "metadata": {},
     "output_type": "display_data"
    }
   ],
   "source": [
    "#Constructing the unitary\n",
    "\n",
    "#XRSGYBC\n",
    "#XRSG\n",
    "\n",
    "\n",
    "bi = [0,1]\n",
    "\n",
    "\n",
    "U = None\n",
    "def f(a,x,r):\n",
    "    return (a+(x*r))%2\n",
    "\n",
    "\n",
    "for a,x,r in itertools.product(bi,bi,bi):        \n",
    "    #print(a,x,r,f(a,x,r))\n",
    "    if (f(a,x,r)):\n",
    "        _ = TP(Π_z(a),Π_z(x),Π_z(r),X_hat)        #AXRS\n",
    "    else:\n",
    "        _ = TP(Π_z(a),Π_z(x),Π_z(r),I)        #AXRS\n",
    "\n",
    "    if U is None:\n",
    "        U = _\n",
    "        #display(rep(_))\n",
    "        #display(_)\n",
    "    else:\n",
    "        U += _\n",
    "        #display(_)\n",
    "    #Qubit(0)\n",
    "#display(U_II)\n",
    "\n",
    "\n",
    "ρ = (U*TP(I/2.0,x0*D(x0),x0*D(x0),o*D(o))*D(U)).ptrace([1,2,3])\n",
    "\n",
    "print(ρ.tr())\n",
    "display(ρ)\n",
    "\n",
    "#display(U*D(U))\n",
    "# print(\"Constructed the unitary\")\n",
    "# if(verbose): \n",
    "#     display(U)\n",
    "\n",
    "\n",
    "# ρ1=ψ1.ptrace([0,3,4,5,6,7,8,9,10,11])\n",
    "\n",
    "# Uρ1U=U*ρ1*D(U)\n",
    "\n",
    "# #        0     12345   678   9\n",
    "# #ψ1=TP(ψ_ABC,ψ_XYZYZ,ψ_ASS,ψ_R)\n",
    "# #We also need to trace out S' (the first S above, i.e. index 7)\n",
    "# trS_Uρ1U= Uρ1U.ptrace([0,1,2,3,4,5,6,8,9])\n",
    "\n",
    "# if verbose:\n",
    "#     print(\"Trace S' of this should equal trace G' σ1\")\n",
    "#     display(Uρ1U)\n",
    "\n",
    "\n",
    "\n",
    "# ####################Constructing the projector\n",
    "\n",
    "#XRSGYBC\n",
    "\n",
    "Π = None\n",
    "_ = None\n",
    "#GHZ winning condition\n",
    "def f(x,y, b,c, r,s,g):\n",
    "    if( (x+g)%2 == 1 and (s+(x*r)+b+c+1)%2 == x*y*((1+x+y)%2)):\n",
    "        return 1\n",
    "    else:\n",
    "        return 0    \n",
    "\n",
    "for b,c, x,y, r,s,g in itertools.product(bi,bi,bi, bi,bi,bi, bi):        \n",
    "    if (f(b,c, x,y, r,s,g)==1):\n",
    "        #print(a,b,c, x,y,z, g, f(a,b,c,x,y,z,g))\n",
    "        #XRSGYBC\n",
    "        _ = TP(Π_z(x),Π_z(r),Π_z(s),Π_z(g),Π_z(y),Π_z(b),Π_z(c))\n",
    "        if Π is None:\n",
    "            Π = _\n",
    "            # print(\"calculated the symbolic part, working on the representation\")\n",
    "            # Π_ = rep(_)\n",
    "            # print(\"completed the representation\")\n",
    "        else:\n",
    "            Π += _\n",
    "            # Π_ = rep(_)\n",
    "\n",
    "\n",
    "display(Π)\n",
    "\n",
    "\n",
    "# Π = None\n",
    "# _ = None\n",
    "# #GHZ winning condition\n",
    "# def f(a,b,c,x,y,z,g):\n",
    "#     if( (x+g)%2 == 1 and (a+b+c+1)%2 == (x*y*z)):\n",
    "#         return 1\n",
    "#     else:\n",
    "#         return 0    \n",
    "# Π_ = None\n",
    "# #I_ = Π_z0 + Π_z1\n",
    "\n",
    "# for a,b,c, x,y,z, g in itertools.product(bi,bi,bi, bi,bi,bi, bi):        \n",
    "#     if (f(a,b,c, x,y,z, g)==1):\n",
    "#         #print(a,b,c, x,y,z, g, f(a,b,c,x,y,z,g))\n",
    "#         _ = TP(I,        #A(BC)\n",
    "#             Π_z(x), Π_z(y),Π_z(z),   #X(YZ) YZ  \n",
    "#             Π_z(a),I,I,Π_z(g),Π_z(b),Π_z(c)) #A(S)SRGBC\n",
    "\n",
    "#         if Π is None:\n",
    "#             Π = _\n",
    "#             # print(\"calculated the symbolic part, working on the representation\")\n",
    "#             # Π_ = rep(_)\n",
    "#             # print(\"completed the representation\")\n",
    "#         else:\n",
    "#             Π += _\n",
    "#             # Π_ = rep(_)\n",
    "\n",
    "\n",
    "# print(\"Constructed the projector\")            \n",
    "# if(verbose): \n",
    "#     display(Π)\n",
    "#     # display(Π_)\n",
    "#     #display(sq.represent(Π))\n",
    "#     #display(rep(Π))\n",
    "\n",
    "# #     dill.dump([U,U_I,U_II,Π], open(fileName, \"wb\"))\n",
    "# #     print(\"Saved to disk\")\n"
   ]
  },
  {
   "cell_type": "markdown",
   "metadata": {},
   "source": [
    "# The SDP itself"
   ]
  },
  {
   "cell_type": "markdown",
   "metadata": {},
   "source": [
    "## Provisional implementation (doesn't quite work)"
   ]
  },
  {
   "cell_type": "code",
   "execution_count": 24,
   "metadata": {
    "init_cell": true
   },
   "outputs": [],
   "source": [
    "#should ideally be hermitian\n",
    "\n",
    "#XRSGYBC\n",
    "ρ2 = cp.Variable((2**7,2**7), hermitian=True)\n",
    "\n",
    "#XRSG\n",
    "ρ1 = cp.Variable((2**4,2**4),hermitian=True)\n",
    "\n",
    "\n",
    "#constraints += [cp.trace(σ1)==1,cp.trace(σ2)==1]\n",
    "\n",
    "\n",
    "#The non-trivial constraints\n",
    "\n",
    "#So what I've done here is the following\n",
    "#When converting back from numpy, it was using Vstac and Hstac\n",
    "#This seemed to make everything inefficient\n",
    "#So now, I just return the numpy expression for partial_trace\n",
    "#and then to trace again, I use the numpy expression\n",
    "\n",
    "trG_ρ1 = partial_trace(ρ1,[2]*4,3) #XRS(G)\n",
    "\n",
    "trC_ρ2 = partial_trace(ρ2,[2]*7,6) #XRSGYB(C)\n",
    "trBC_ρ2 = np_partial_trace(trC_ρ2,[2]*6,5) #XRSGY(B)\n",
    "\n",
    "\n",
    "# trB_σ2=partial_trace(σ2,[2]*10,8) #trace out C'; AXYZASR(B)CG\n",
    "# # trBC_σ2=np_array_as_expr(np_partial_trace(trB_σ2,[2]*9,8)) #trace out C'; AXYZASR(C)G\n",
    "# trBC_σ2=np_partial_trace(trB_σ2,[2]*9,8) #trace out C'; AXYZASR(C)G\n",
    "\n",
    "# trG_σ1=partial_trace(σ1,[2]*10,9) #trace out G; AXYZYZASR(G)\n",
    "\n",
    "# trY_σ1=partial_trace(σ1,[2]*10,2) #trace out Y; AX(Y)ZYZASRG\n",
    "# # trYZ_σ1=np_array_as_expr(np_partial_trace(trY_σ1,[2]*9,2)) #trace out Z; AX(Z)YZASRG\n",
    "# trYZ_σ1=np_partial_trace(trY_σ1,[2]*9,2) #trace out Z; AX(Z)YZASRG"
   ]
  },
  {
   "cell_type": "code",
   "execution_count": 83,
   "metadata": {},
   "outputs": [
    {
     "name": "stdout",
     "output_type": "stream",
     "text": [
      "var223606[0, 0] + var223606[1, 1] + var223606[2, 2] + var223606[3, 3]\n"
     ]
    }
   ],
   "source": [
    "print(trBC_ρ2[0,0])"
   ]
  },
  {
   "cell_type": "code",
   "execution_count": 25,
   "metadata": {
    "init_cell": true,
    "scrolled": false
   },
   "outputs": [
    {
     "name": "stdout",
     "output_type": "stream",
     "text": [
      "Working\n",
      "0\r",
      "1\r",
      "2\r",
      "3\r",
      "4\r",
      "5\r",
      "6\r",
      "7\r",
      "8\r",
      "9\r",
      "10\r",
      "11\r",
      "12\r",
      "13\r",
      "14\r",
      "15\r",
      "16\r",
      "17\r",
      "18\r",
      "19\r",
      "20\r",
      "21\r",
      "22\r",
      "23\r",
      "24\r",
      "25\r",
      "26\r",
      "27\r",
      "28\r",
      "29\r",
      "30\r",
      "31\r",
      "32\n",
      "completed 1 of 2\n",
      "Working\n",
      "0\r",
      "1\r",
      "2\r",
      "3\r",
      "4\r",
      "5\r",
      "6\r",
      "7\r",
      "8\n",
      "completed 2 of 2\n",
      "var37696[0, 8] + var37696[1, 9] + var37696[2, 10] + var37696[3, 11] == Vstack(Hstack(var37697 @ Promote(0.5, (16, 16)), var37697 @ Promote(0.0, (16, 16))), Hstack(var37697 @ Promote(0.0, (16, 16)), var37697 @ Promote(0.5, (16, 16))))[0, 2]\n"
     ]
    }
   ],
   "source": [
    "#constraints = [σ1>>0] #[σ1>>0, σ2>>0]\n",
    "constraints = [ρ1>>0,ρ2>>0]\n",
    "\n",
    "#Just to test, I am using the numpy expression\n",
    "#And adding the condition for each element\n",
    "#cvxpy wasn't accepting these numpy matrices directly\n",
    "\n",
    "#print(trYZ_σ1[0,0])\n",
    "\n",
    "ρ1_Y = general_kron(ρ1,np.eye(2)/2.0)\n",
    "\n",
    "\n",
    "\n",
    "print(\"Working\")\n",
    "\n",
    "#BRSGY BC\n",
    "n=len(trBC_ρ2) #int(len(trBC_ρ2)/(2**0))\n",
    "\n",
    "for i in range(n):\n",
    "    print(i,end='\\r')\n",
    "    for j in range(int(n)):\n",
    "        constraints += [trBC_ρ2[i,j] == ρ1_Y[i,j]] #np.eye(n)[i,j]] #ρ1_Y[i,j]] #np.kron(ρ1,np.eye(2)/2.0)[i,j]]\n",
    "print(n)\n",
    "print(\"completed 1 of 2\")\n",
    "\n",
    "#XRS G\n",
    "n=len(trG_ρ1) # int(len(trG_ρ1)/(2**0))\n",
    "print(\"Working\")\n",
    "for i in range(n):\n",
    "    print(i,end='\\r')\n",
    "    for j in range(n): #range(int(len(trG_σ1)/2)):\n",
    "        constraints += [trG_ρ1[i,j] == ρ[i,j]]\n",
    "print(n)\n",
    "print(\"completed 2 of 2\")\n",
    "\n",
    "\n",
    "\n",
    "\n",
    "print(constraints[4])\n",
    "\n",
    "# constraints += [trG_σ1 == trS_Uρ1U.data, trBC_σ2 == trYZ_σ1 ]\n",
    "\n",
    "#constraints += [ cp.trace(σ1) == cp.trace(trS_Uρ1U),cp.trace(σ2)==cp.trace(σ1) ]\n"
   ]
  },
  {
   "cell_type": "code",
   "execution_count": null,
   "metadata": {},
   "outputs": [],
   "source": [
    "#trG_σ1\n",
    "#trS_Uρ1U.data\n",
    "#print(trBC_σ2[0,0])"
   ]
  },
  {
   "cell_type": "code",
   "execution_count": null,
   "metadata": {
    "scrolled": false
   },
   "outputs": [],
   "source": [
    "#trYZ_σ1[1,1]"
   ]
  },
  {
   "cell_type": "code",
   "execution_count": 27,
   "metadata": {
    "init_cell": true,
    "scrolled": false
   },
   "outputs": [
    {
     "name": "stdout",
     "output_type": "stream",
     "text": [
      "\n",
      "\n",
      "Problem\n",
      "  Name                   :                 \n",
      "  Objective sense        : min             \n",
      "  Type                   : CONIC (conic optimization problem)\n",
      "  Constraints            : 68736           \n",
      "  Cones                  : 0               \n",
      "  Scalar variables       : 25032           \n",
      "  Matrix variables       : 2               \n",
      "  Integer variables      : 0               \n",
      "\n",
      "Optimizer started.\n",
      "Problem\n",
      "  Name                   :                 \n",
      "  Objective sense        : min             \n",
      "  Type                   : CONIC (conic optimization problem)\n",
      "  Constraints            : 68736           \n",
      "  Cones                  : 0               \n",
      "  Scalar variables       : 25032           \n",
      "  Matrix variables       : 2               \n",
      "  Integer variables      : 0               \n",
      "\n",
      "Optimizer  - threads                : 20              \n",
      "Optimizer  - solved problem         : the primal      \n",
      "Optimizer  - Constraints            : 66560\n",
      "Optimizer  - Cones                  : 1\n",
      "Optimizer  - Scalar variables       : 15553             conic                  : 15553           \n",
      "Optimizer  - Semi-definite variables: 2                 scalarized             : 33424           \n",
      "Factor     - setup time             : 442.98            dense det. time        : 0.00            \n",
      "Factor     - ML order time          : 103.97            GP order time          : 0.00            \n",
      "Factor     - nonzeros before factor : 2.15e+09          after factor           : 2.15e+09        \n",
      "Factor     - dense dim.             : 2                 flops                  : 9.38e+13        \n",
      "ITE PFEAS    DFEAS    GFEAS    PRSTATUS   POBJ              DOBJ              MU       TIME  \n",
      "0   1.0e+00  1.0e+00  1.0e+00  0.00e+00   -2.500000000e-01  -2.500000000e-01  1.0e+00  443.43\n",
      "1   9.1e-02  9.1e-02  3.1e-02  1.42e-01   -4.185348954e+00  -4.188761963e+00  9.1e-02  1016.71\n",
      "2   6.5e-03  6.5e-03  5.5e-04  2.42e+00   -7.507011471e-01  -7.475611122e-01  6.5e-03  1578.62\n",
      "3   1.1e-03  1.1e-03  5.6e-05  7.84e-02   -4.867122639e-01  -4.853440212e-01  1.1e-03  2151.49\n",
      "4   9.7e-05  9.7e-05  1.7e-06  6.81e-01   -4.469824925e-01  -4.467984298e-01  9.7e-05  2728.09\n",
      "5   2.4e-05  2.4e-05  2.2e-07  3.16e-01   -4.423597736e-01  -4.423178199e-01  2.4e-05  3277.42\n",
      "6   4.4e-06  4.4e-06  2.4e-08  6.02e-01   -4.399315634e-01  -4.399113787e-01  4.4e-06  3838.16\n",
      "7   1.3e-06  1.3e-06  5.4e-09  4.32e-01   -4.389888039e-01  -4.389762957e-01  1.3e-06  4385.85\n",
      "8   3.5e-07  3.5e-07  1.1e-09  4.19e-01   -4.384073633e-01  -4.383997570e-01  3.5e-07  4932.59\n",
      "9   8.9e-08  8.7e-08  1.9e-10  4.69e-01   -4.380706226e-01  -4.380662046e-01  8.7e-08  5475.14\n",
      "10  2.6e-08  1.4e-08  2.4e-11  3.03e-01   -4.378150050e-01  -4.378121307e-01  1.4e-08  6032.71\n",
      "11  1.7e-08  9.0e-09  1.5e-11  3.72e-01   -4.377679832e-01  -4.377654031e-01  9.1e-09  6568.00\n",
      "12  1.1e-08  1.6e-09  1.9e-12  4.66e-01   -4.376601065e-01  -4.376588362e-01  1.6e-09  7132.28\n",
      "13  7.3e-09  1.0e-09  1.1e-12  1.40e-01   -4.376333733e-01  -4.376321051e-01  1.0e-09  9231.19\n",
      "14  2.4e-09  3.4e-10  2.2e-13  3.58e-01   -4.375814956e-01  -4.375807981e-01  2.6e-10  9789.46\n",
      "15  2.4e-09  3.4e-10  2.2e-13  4.58e-01   -4.375814956e-01  -4.375807981e-01  2.6e-10  10371.33\n",
      "16  2.4e-09  3.4e-10  2.2e-13  9.92e-01   -4.375814956e-01  -4.375807981e-01  2.6e-10  10932.64\n",
      "Optimizer terminated. Time: 11497.03\n",
      "\n",
      "\n",
      "Interior-point solution summary\n",
      "  Problem status  : PRIMAL_AND_DUAL_FEASIBLE\n",
      "  Solution status : OPTIMAL\n",
      "  Primal.  obj: -4.3758149561e-01   nrm: 1e-01    Viol.  con: 1e-07    var: 0e+00    barvar: 0e+00  \n",
      "  Dual.    obj: -4.3758079809e-01   nrm: 5e+02    Viol.  con: 0e+00    var: 1e-08    barvar: 2e-08  \n"
     ]
    },
    {
     "data": {
      "text/plain": [
       "0.437581495612759"
      ]
     },
     "execution_count": 27,
     "metadata": {},
     "output_type": "execute_result"
    }
   ],
   "source": [
    "prob = cp.Problem(cp.Maximize(cp.trace(cp.real(Π.data @ ρ2 ))),constraints)\n",
    "#prob = cp.Problem(cp.Maximize(cp.trace(ρ2)),constraints)\n",
    "prob.solve(solver=cp.MOSEK,verbose=True) #MOSEK or SCS\n"
   ]
  },
  {
   "cell_type": "code",
   "execution_count": null,
   "metadata": {},
   "outputs": [],
   "source": [
    "MOSEK solved the same problem \n",
    "\n",
    "Problem\n",
    "  Name                   :                 \n",
    "  Objective sense        : min             \n",
    "  Type                   : CONIC (conic optimization problem)\n",
    "  Constraints            : 68736           \n",
    "  Cones                  : 0               \n",
    "  Scalar variables       : 25032           \n",
    "  Matrix variables       : 2               \n",
    "  Integer variables      : 0               \n",
    "\n",
    "Optimizer started.\n",
    "Problem\n",
    "  Name                   :                 \n",
    "  Objective sense        : min             \n",
    "  Type                   : CONIC (conic optimization problem)\n",
    "  Constraints            : 68736           \n",
    "  Cones                  : 0               \n",
    "  Scalar variables       : 25032           \n",
    "  Matrix variables       : 2               \n",
    "  Integer variables      : 0               \n",
    "\n",
    "Optimizer  - threads                : 20              \n",
    "Optimizer  - solved problem         : the primal      \n",
    "Optimizer  - Constraints            : 66560\n",
    "Optimizer  - Cones                  : 1\n",
    "Optimizer  - Scalar variables       : 15553             conic                  : 15553           \n",
    "Optimizer  - Semi-definite variables: 2                 scalarized             : 33424           \n",
    "Factor     - setup time             : 442.98            dense det. time        : 0.00            \n",
    "Factor     - ML order time          : 103.97            GP order time          : 0.00            \n",
    "Factor     - nonzeros before factor : 2.15e+09          after factor           : 2.15e+09        \n",
    "Factor     - dense dim.             : 2                 flops                  : 9.38e+13        \n",
    "ITE PFEAS    DFEAS    GFEAS    PRSTATUS   POBJ              DOBJ              MU       TIME  \n",
    "0   1.0e+00  1.0e+00  1.0e+00  0.00e+00   -2.500000000e-01  -2.500000000e-01  1.0e+00  443.43\n",
    "1   9.1e-02  9.1e-02  3.1e-02  1.42e-01   -4.185348954e+00  -4.188761963e+00  9.1e-02  1016.71\n",
    "2   6.5e-03  6.5e-03  5.5e-04  2.42e+00   -7.507011471e-01  -7.475611122e-01  6.5e-03  1578.62\n",
    "3   1.1e-03  1.1e-03  5.6e-05  7.84e-02   -4.867122639e-01  -4.853440212e-01  1.1e-03  2151.49\n",
    "4   9.7e-05  9.7e-05  1.7e-06  6.81e-01   -4.469824925e-01  -4.467984298e-01  9.7e-05  2728.09\n",
    "5   2.4e-05  2.4e-05  2.2e-07  3.16e-01   -4.423597736e-01  -4.423178199e-01  2.4e-05  3277.42\n",
    "6   4.4e-06  4.4e-06  2.4e-08  6.02e-01   -4.399315634e-01  -4.399113787e-01  4.4e-06  3838.16\n",
    "7   1.3e-06  1.3e-06  5.4e-09  4.32e-01   -4.389888039e-01  -4.389762957e-01  1.3e-06  4385.85\n",
    "8   3.5e-07  3.5e-07  1.1e-09  4.19e-01   -4.384073633e-01  -4.383997570e-01  3.5e-07  4932.59\n",
    "9   8.9e-08  8.7e-08  1.9e-10  4.69e-01   -4.380706226e-01  -4.380662046e-01  8.7e-08  5475.14\n",
    "10  2.6e-08  1.4e-08  2.4e-11  3.03e-01   -4.378150050e-01  -4.378121307e-01  1.4e-08  6032.71\n",
    "11  1.7e-08  9.0e-09  1.5e-11  3.72e-01   -4.377679832e-01  -4.377654031e-01  9.1e-09  6568.00\n",
    "12  1.1e-08  1.6e-09  1.9e-12  4.66e-01   -4.376601065e-01  -4.376588362e-01  1.6e-09  7132.28\n",
    "13  7.3e-09  1.0e-09  1.1e-12  1.40e-01   -4.376333733e-01  -4.376321051e-01  1.0e-09  9231.19\n",
    "14  2.4e-09  3.4e-10  2.2e-13  3.58e-01   -4.375814956e-01  -4.375807981e-01  2.6e-10  9789.46\n",
    "15  2.4e-09  3.4e-10  2.2e-13  4.58e-01   -4.375814956e-01  -4.375807981e-01  2.6e-10  10371.33\n",
    "16  2.4e-09  3.4e-10  2.2e-13  9.92e-01   -4.375814956e-01  -4.375807981e-01  2.6e-10  10932.64\n",
    "Optimizer terminated. Time: 11497.03\n",
    "\n",
    "\n",
    "Interior-point solution summary\n",
    "  Problem status  : PRIMAL_AND_DUAL_FEASIBLE\n",
    "  Solution status : OPTIMAL\n",
    "  Primal.  obj: -4.3758149561e-01   nrm: 1e-01    Viol.  con: 1e-07    var: 0e+00    barvar: 0e+00  \n",
    "  Dual.    obj: -4.3758079809e-01   nrm: 5e+02    Viol.  con: 0e+00    var: 1e-08    barvar: 2e-08  \n",
    "0.437581495612759"
   ]
  },
  {
   "cell_type": "code",
   "execution_count": null,
   "metadata": {},
   "outputs": [],
   "source": [
    "Post Jamie Magic #1\n",
    "\n",
    "----------------------------------------------------------------------------\n",
    "\tSCS v2.1.2 - Splitting Conic Solver\n",
    "\t(c) Brendan O'Donoghue, Stanford University, 2012\n",
    "----------------------------------------------------------------------------\n",
    "Lin-sys: sparse-direct, nnz in A = 63632\n",
    "eps = 1.00e-04, alpha = 1.50, max_iters = 5000, normalize = 1, scale = 1.00\n",
    "acceleration_lookback = 10, rho_x = 1.00e-03\n",
    "Variables n = 25032, constraints m = 35600\n",
    "Cones:\tprimal zero / dual free vars: 2176\n",
    "\tsd vars: 33424, sd blks: 2\n",
    "Setup time: 1.07e-01s\n",
    "----------------------------------------------------------------------------\n",
    " Iter | pri res | dua res | rel gap | pri obj | dua obj | kap/tau | time (s)\n",
    "----------------------------------------------------------------------------\n",
    "     0| 4.62e+20  2.03e+21  1.00e+00 -2.34e+21  5.02e+21  1.47e+21  4.72e-02 \n",
    "   100| 1.68e-03  7.53e-03  4.59e-04 -4.36e-01 -4.35e-01  6.35e-17  1.95e+00 \n",
    "   200| 2.22e-03  7.93e-03  7.24e-04 -4.40e-01 -4.42e-01  1.56e-16  3.92e+00 \n",
    "   300| 4.12e-04  1.46e-03  5.52e-04 -4.38e-01 -4.37e-01  2.20e-18  5.91e+00 \n",
    "   400| 3.97e+17  1.28e+18  1.55e-03  2.71e+17  2.70e+17  1.68e+18  7.87e+00 \n",
    "   500| 1.00e-04  3.98e-04  2.32e-04 -4.38e-01 -4.38e-01  4.24e-16  9.78e+00 \n",
    "   600| 9.82e-04  3.21e-03  2.12e-03 -4.37e-01 -4.41e-01  2.50e-16  1.17e+01 \n",
    "   700| 6.53e-03  2.07e-02  1.47e-02 -4.34e-01 -4.62e-01  1.53e-16  1.35e+01 \n",
    "   800| 3.59e-04  1.15e-03  7.86e-04 -4.37e-01 -4.39e-01  3.79e-16  1.54e+01 \n",
    "   900| 3.98e-04  1.39e-03  6.97e-04 -4.37e-01 -4.39e-01  2.41e-16  1.73e+01 \n",
    "  1000| 2.23e-03  7.10e-03  4.83e-03 -4.36e-01 -4.45e-01  2.59e-16  1.92e+01 \n",
    "  1100| 1.67e+15  5.39e+15  3.88e-03  1.14e+15  1.13e+15  7.03e+15  2.11e+01 \n",
    "  1200| 2.99e+15  9.63e+15  1.99e-03  2.03e+15  2.02e+15  1.25e+16  2.30e+01 \n",
    "  1300| 5.01e-02  1.71e-01  8.12e-04 -4.41e-01 -4.43e-01  9.25e-17  2.50e+01 \n",
    "  1400| 8.06e-04  2.62e-03  1.76e-03 -4.37e-01 -4.40e-01  3.34e-18  2.69e+01 \n",
    "  1500| 1.95e-03  6.39e-03  4.55e-03 -4.37e-01 -4.46e-01  1.31e-16  2.88e+01 \n",
    "  1600| 1.43e+15  4.60e+15  1.82e-03  9.44e+14  9.41e+14  5.87e+15  3.07e+01 \n",
    "  1700| 2.97e+15  9.55e+15  1.81e-03  2.02e+15  2.01e+15  1.25e+16  3.26e+01 \n",
    "  1800| 3.51e-04  1.15e-03  7.18e-04 -4.38e-01 -4.39e-01  1.66e-16  3.46e+01 \n",
    "  1900| 7.83e-04  2.55e-03  1.67e-03 -4.37e-01 -4.40e-01  2.19e-16  3.65e+01 \n",
    "  2000| 1.75e-03  5.44e-03  4.20e-03 -4.37e-01 -4.45e-01  4.12e-16  3.84e+01 \n",
    "  2100| 2.21e-03  7.12e-03  4.93e-03 -4.36e-01 -4.45e-01  3.74e-17  4.03e+01 \n",
    "  2200| 9.27e-04  3.00e-03  2.06e-03 -4.37e-01 -4.41e-01  3.82e-16  4.22e+01 \n",
    "  2300| 8.87e-04  2.66e-03  2.33e-03 -4.37e-01 -4.41e-01  3.95e-16  4.41e+01 \n",
    "  2400| 4.75e-04  1.50e-03  8.38e-04 -4.37e-01 -4.38e-01  6.16e-17  4.61e+01 \n",
    "  2500| 6.44e-04  2.15e-03  1.30e-03 -4.37e-01 -4.40e-01  1.62e-16  4.80e+01 \n",
    "  2600| 3.90e-02  1.39e-01  8.03e-04 -4.39e-01 -4.38e-01  2.65e-16  4.99e+01 \n",
    "  2700| 6.06e-04  1.93e-03  1.39e-03 -4.37e-01 -4.40e-01  1.98e-16  5.18e+01 \n",
    "  2800| 8.83e-04  2.89e-03  1.85e-03 -4.37e-01 -4.40e-01  6.59e-17  5.37e+01 \n",
    "  2900| 5.84e-05  2.52e-04  1.36e-05 -4.37e-01 -4.37e-01  1.27e-16  5.57e+01 \n",
    "  3000| 4.24e+15  1.37e+16  8.99e-04  2.81e+15  2.82e+15  1.75e+16  5.76e+01 \n",
    "  3100| 7.00e-05  2.10e-04  5.89e-05 -4.37e-01 -4.38e-01  4.36e-16  5.96e+01 \n",
    "  3160| 2.50e-05  6.26e-05  4.69e-06 -4.38e-01 -4.38e-01  6.04e-17  6.08e+01 \n",
    "----------------------------------------------------------------------------\n",
    "Status: Solved\n",
    "Timing: Solve time: 6.08e+01s\n",
    "\tLin-sys: nnz in L factor: 133624, avg solve time: 6.50e-04s\n",
    "\tCones: avg projection time: 1.36e-02s\n",
    "\tAcceleration: avg step time: 3.16e-03s\n",
    "----------------------------------------------------------------------------\n",
    "Error metrics:\n",
    "dist(s, K) = 7.5980e-09, dist(y, K*) = 3.1513e-09, s'y/|s||y| = -2.0472e-10\n",
    "primal res: |Ax + s - b|_2 / (1 + |b|_2) = 2.4997e-05\n",
    "dual res:   |A'y + c|_2 / (1 + |c|_2) = 6.2568e-05\n",
    "rel gap:    |c'x + b'y| / (1 + |c'x| + |b'y|) = 4.6943e-06\n",
    "----------------------------------------------------------------------------\n",
    "c'x = -0.4375, -b'y = -0.4375\n",
    "============================================================================\n",
    "0.4375148594226565"
   ]
  },
  {
   "cell_type": "raw",
   "metadata": {},
   "source": [
    "error mem: Memory requirement exceeds availability\n",
    "\n",
    "Without any PSD constraint, 2 equalities of 256*256 matrices—error mem\n",
    "Without any PSD, without any other constraints, less than 4 + 6 GB\n",
    "With only SDP; did not really return an answer.\n",
    "\n",
    "\n",
    "\n",
    "\n",
    "###########\n",
    "Status: Unbounded\n",
    "Timing: Solve time: 8.39e+00s\n",
    "\tLin-sys: nnz in L factor: 3149829, avg solve time: 3.11e-02s\n",
    "\tCones: avg projection time: 2.95e-07s\n",
    "\tAcceleration: avg step time: 2.69e-01s\n",
    "----------------------------------------------------------------------------\n",
    "Certificate of dual infeasibility:\n",
    "dist(s, K) = 8.2174e-32\n",
    "|Ax + s|_2 * |c|_2 = 1.3869e-14\n",
    "c'x = -1.0000\n",
    "============================================================================\n",
    "inf\n",
    "###############"
   ]
  },
  {
   "cell_type": "raw",
   "metadata": {},
   "source": [
    "Working\n",
    "32\n",
    "completed 1 of 2\n",
    "Working\n",
    "32\n",
    "completed 2 of 2\n",
    "\n",
    "2^3\n",
    "2^4\n",
    "\n",
    "----------------------------------------------------------------------------\n",
    "\tSCS v2.1.2 - Splitting Conic Solver\n",
    "\t(c) Brendan O'Donoghue, Stanford University, 2012\n",
    "----------------------------------------------------------------------------\n",
    "Lin-sys: sparse-direct, nnz in A = 6307360\n",
    "eps = 1.00e-04, alpha = 1.50, max_iters = 5000, normalize = 1, scale = 1.00\n",
    "acceleration_lookback = 10, rho_x = 1.00e-03\n",
    "Variables n = 3146752, constraints m = 4198340\n",
    "Cones:\tprimal zero / dual free vars: 1988\n",
    "\tsd vars: 4196352, sd blks: 2\n",
    "Setup time: 6.43e+00s\n",
    "----------------------------------------------------------------------------\n",
    " Iter | pri res | dua res | rel gap | pri obj | dua obj | kap/tau | time (s)\n",
    "----------------------------------------------------------------------------\n",
    "     0| 1.16e+00  3.14e-01  8.58e-01 -1.67e+01 -8.15e-01  0.00e+00  1.76e+00 \n",
    "    16| 9.09e-12  2.59e-11  5.10e-13 -1.00e+00 -1.00e+00  5.82e-17  3.35e+01 \n",
    "----------------------------------------------------------------------------\n",
    "Status: Solved\n",
    "Timing: Solve time: 3.36e+01s\n",
    "\tLin-sys: nnz in L factor: 14704725, avg solve time: 2.20e-01s\n",
    "\tCones: avg projection time: 7.10e-01s\n",
    "\tAcceleration: avg step time: 7.45e-01s\n",
    "----------------------------------------------------------------------------\n",
    "Error metrics:\n",
    "dist(s, K) = 6.0262e-18, dist(y, K*) = 0.0000e+00, s'y/|s||y| = 6.6997e-17\n",
    "primal res: |Ax + s - b|_2 / (1 + |b|_2) = 9.0858e-12\n",
    "dual res:   |A'y + c|_2 / (1 + |c|_2) = 2.5867e-11\n",
    "rel gap:    |c'x + b'y| / (1 + |c'x| + |b'y|) = 5.0967e-13\n",
    "----------------------------------------------------------------------------\n",
    "c'x = -1.0000, -b'y = -1.0000\n",
    "============================================================================\n",
    "1.0000000000138294"
   ]
  },
  {
   "cell_type": "raw",
   "metadata": {},
   "source": [
    "10**1\n",
    "\n",
    "10**2\n",
    "\n",
    "----------------------------------------------------------------------------\n",
    "\tSCS v2.1.2 - Splitting Conic Solver\n",
    "\t(c) Brendan O'Donoghue, Stanford University, 2012\n",
    "----------------------------------------------------------------------------\n",
    "Lin-sys: sparse-direct, nnz in A = 6299740\n",
    "eps = 1.00e-04, alpha = 1.50, max_iters = 5000, normalize = 1, scale = 1.00\n",
    "acceleration_lookback = 10, rho_x = 1.00e-03\n",
    "Variables n = 3146752, constraints m = 4196976\n",
    "Cones:\tprimal zero / dual free vars: 624\n",
    "\tsd vars: 4196352, sd blks: 2\n",
    "Setup time: 6.98e+00s\n",
    "----------------------------------------------------------------------------\n",
    " Iter | pri res | dua res | rel gap | pri obj | dua obj | kap/tau | time (s)\n",
    "----------------------------------------------------------------------------\n",
    "     0| 1.16e+00  3.13e-01  8.58e-01 -1.67e+01 -8.15e-01  4.26e-15  1.72e+00 \n",
    "    17| 4.55e-13  5.88e-13  1.35e-13 -1.00e+00 -1.00e+00  1.42e-17  2.81e+01 \n",
    "----------------------------------------------------------------------------\n",
    "Status: Solved\n",
    "Timing: Solve time: 2.82e+01s\n",
    "\tLin-sys: nnz in L factor: 14693421, avg solve time: 1.69e-01s\n",
    "\tCones: avg projection time: 5.81e-01s\n",
    "\tAcceleration: avg step time: 5.49e-01s\n",
    "----------------------------------------------------------------------------\n",
    "Error metrics:\n",
    "dist(s, K) = 1.0199e-17, dist(y, K*) = 0.0000e+00, s'y/|s||y| = -1.9062e-15\n",
    "primal res: |Ax + s - b|_2 / (1 + |b|_2) = 4.5524e-13\n",
    "dual res:   |A'y + c|_2 / (1 + |c|_2) = 5.8771e-13\n",
    "rel gap:    |c'x + b'y| / (1 + |c'x| + |b'y|) = 1.3530e-13\n",
    "----------------------------------------------------------------------------\n",
    "c'x = -1.0000, -b'y = -1.0000\n",
    "============================================================================\n",
    "1.0000000000002611"
   ]
  },
  {
   "cell_type": "markdown",
   "metadata": {
    "heading_collapsed": true
   },
   "source": [
    "# Temporary"
   ]
  },
  {
   "cell_type": "code",
   "execution_count": null,
   "metadata": {
    "hidden": true
   },
   "outputs": [],
   "source": [
    "#Uttam Bhai's formula\n",
    "#उत्तम भाई\n",
    "\n",
    "for i in [True,False]:\n",
    "    for j in [True,False]:\n",
    "        for k in [True,False]:\n",
    "            print ((i or (j and k)), ((i or j) and (i or k)))            "
   ]
  },
  {
   "cell_type": "code",
   "execution_count": null,
   "metadata": {
    "hidden": true
   },
   "outputs": [],
   "source": []
  }
 ],
 "metadata": {
  "celltoolbar": "Initialization Cell",
  "kernelspec": {
   "display_name": "Python 3",
   "language": "python",
   "name": "python3"
  },
  "language_info": {
   "codemirror_mode": {
    "name": "ipython",
    "version": 3
   },
   "file_extension": ".py",
   "mimetype": "text/x-python",
   "name": "python",
   "nbconvert_exporter": "python",
   "pygments_lexer": "ipython3",
   "version": "3.6.10"
  },
  "toc": {
   "base_numbering": 1,
   "nav_menu": {},
   "number_sections": true,
   "sideBar": true,
   "skip_h1_title": false,
   "title_cell": "Table of Contents",
   "title_sidebar": "Contents",
   "toc_cell": false,
   "toc_position": {
    "height": "calc(100% - 180px)",
    "left": "10px",
    "top": "150px",
    "width": "165px"
   },
   "toc_section_display": true,
   "toc_window_display": true
  }
 },
 "nbformat": 4,
 "nbformat_minor": 2
}
