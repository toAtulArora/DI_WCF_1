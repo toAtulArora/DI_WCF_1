{
 "cells": [
  {
   "cell_type": "markdown",
   "metadata": {
    "heading_collapsed": true
   },
   "source": [
    "# \\[Ignore\\] Learning by Examples"
   ]
  },
  {
   "cell_type": "markdown",
   "metadata": {
    "heading_collapsed": true,
    "hidden": true
   },
   "source": [
    "## Simple SDP solver"
   ]
  },
  {
   "cell_type": "code",
   "execution_count": null,
   "metadata": {
    "hidden": true
   },
   "outputs": [],
   "source": [
    "import cvxpy as cp\n",
    "import numpy as np\n",
    "\n",
    "# Generate a random SDP.\n",
    "n = 3\n",
    "p = 3\n",
    "np.random.seed(1)\n",
    "C = np.random.randn(n, n)\n",
    "A = []\n",
    "b = []\n",
    "for i in range(p):\n",
    "    A.append(np.random.randn(n, n))\n",
    "    b.append(np.random.randn())\n",
    "\n",
    "# Define and solve the CVXPY problem.\n",
    "# Create a symmetric matrix variable.\n",
    "X = cp.Variable((n,n), symmetric=True)\n",
    "# The operator >> denotes matrix inequality.\n",
    "\n",
    "constraints = [X >> 0]\n",
    "constraints += [\n",
    "    cp.trace(A[i] @ X) == b[i] for i in range(p)\n",
    "]\n",
    "\n",
    "prob = cp.Problem(cp.Minimize(cp.trace(C @ X)),\n",
    "                  constraints)\n",
    "prob.solve(solver=cp.CVXOPT,verbose=True)\n",
    "\n",
    "# Print result.\n",
    "print(\"The optimal value is\", prob.value)\n",
    "print(\"A solution X is\")\n",
    "print(X.value)"
   ]
  },
  {
   "cell_type": "markdown",
   "metadata": {
    "heading_collapsed": true
   },
   "source": [
    "# \\[Ignore\\] Figuring how to use Tensor products"
   ]
  },
  {
   "cell_type": "code",
   "execution_count": null,
   "metadata": {
    "hidden": true
   },
   "outputs": [],
   "source": [
    "from sympy.physics.quantum.qubit import Qubit\n",
    "from sympy.physics.quantum.dagger import Dagger\n",
    "from sympy.physics.quantum import TensorProduct\n",
    "import sympy.physics.quantum as sq\n",
    "import sympy as sp"
   ]
  },
  {
   "cell_type": "markdown",
   "metadata": {
    "hidden": true
   },
   "source": [
    "## Extending the functionality of sympy Quantum \n",
    "(imported from the swapKCBS project)"
   ]
  },
  {
   "cell_type": "markdown",
   "metadata": {
    "heading_collapsed": true,
    "hidden": true
   },
   "source": [
    "### Extending tensor"
   ]
  },
  {
   "cell_type": "code",
   "execution_count": null,
   "metadata": {
    "hidden": true
   },
   "outputs": [],
   "source": [
    "\n",
    "def powerDrop(expr):\n",
    "    if isinstance(expr,sp.Pow): #TODO: make sure the base is not too complex\n",
    "        # print(\"PowerEncountered\")\n",
    "        if expr.exp>=2:\n",
    "            # print(\"glaba\")\n",
    "            # display(expr.base)\n",
    "            _=sq.qapply(sp.Mul(expr.base,expr.base))\n",
    "            if expr.exp>2:\n",
    "                return powerDrop(_*sp.Pow(expr.base,expr.exp-2))\n",
    "            else:\n",
    "                return _\n",
    "        else:\n",
    "            return expr #autoDropDim(sp.Mul(expr.base,expr.base))\n",
    "    else:\n",
    "        if expr.has(sp.Pow):\n",
    "            #if it is a sum or a product, run this function for each part and then combine the parts; return the result\n",
    "            if isinstance(expr,sp.Mul) or isinstance(expr,sp.Add) or isinstance(expr,sq.TensorProduct):\n",
    "                new_args=[] #list(expr.args)\n",
    "                for _ in expr.args:\n",
    "                    new_args.append(powerDrop(_))\n",
    "                if isinstance(expr,sp.Mul):        \n",
    "                    return sp.Mul(*new_args)\n",
    "                elif isinstance(expr,sp.Add):\n",
    "                    return sp.Add(*new_args)  \n",
    "                elif isinstance(expr,sq.TensorProduct):\n",
    "                    return sq.TensorProduct(*new_args)  \n",
    "\n",
    "            else:\n",
    "                return expr\n",
    "            #There would be no else here because tensor product simp would have removed that part\n",
    "        else:\n",
    "            return expr        \n",
    "    \n",
    "def autoDropDim(expr):\n",
    "    #print(\"Expression\")\n",
    "    #if isinstance(expr,sp.Mul):\n",
    "        #print(\"type:multiplier\")\n",
    "    #display(expr)\n",
    "    \n",
    "    \n",
    "    if isinstance(expr,sq.TensorProduct):\n",
    "        new_args=[]\n",
    "        for _ in expr.args:\n",
    "            #display(_)\n",
    "            #print(type(_))\n",
    "            if _ != sp.Integer(1):\n",
    "            #if not isinstance(_,core.numbers.One):\n",
    "                new_args.append(_)\n",
    "        #print(\"TensorProduct with %d non-ones in the tensor product\"%len(new_args))\n",
    "        if(len(new_args)==0):\n",
    "            return sp.Integer(1)\n",
    "        else:\n",
    "            return sq.TensorProduct(*new_args)\n",
    "    else:\n",
    "        if expr.has(sq.TensorProduct):\n",
    "            #if it is a sum or a product, run this function for each part and then combine the parts; return the result\n",
    "            if isinstance(expr,sp.Mul) or isinstance(expr,sp.Add):\n",
    "                new_args=[] #list(expr.args)\n",
    "                for _ in expr.args:\n",
    "                    new_args.append(autoDropDim(_))\n",
    "                if isinstance(expr,sp.Mul):        \n",
    "                    return sp.Mul(*new_args)\n",
    "                elif isinstance(expr,sp.Add):\n",
    "                    return sp.Add(*new_args)  \n",
    "                \n",
    "            #There would be no else here because tensor product simp would have removed that part\n",
    "        else:\n",
    "            return expr #when the expression is just an integer or some such\n",
    "\n",
    "\n",
    "        \n",
    "def tsimp(e,pruneMe=True):\n",
    "    res=sq.qapply(powerDrop(sq.tensorproduct.tensor_product_simp(sq.qapply(e)).doit()))\n",
    "    if pruneMe:\n",
    "        return prune(res)\n",
    "    else:\n",
    "        return res\n",
    "\n",
    "def tdsimp(e,pruneMe=True):\n",
    "    res=autoDropDim(sq.qapply(powerDrop(autoDropDim(sq.tensorproduct.tensor_product_simp(sq.qapply(e)).doit()))))\n",
    "    if pruneMe:\n",
    "        return prune(res)\n",
    "    else:\n",
    "        return res\n",
    "    #return autoDropDim(sq.tensorproduct.tensor_product_simp_Mul(e).doit())\n",
    "    #return autoDropDim(sq.tensorproduct.tensor_product_simp_Mul(sq.qapply(e)).doit())\n",
    "    #return autoDropDim(sq.tensorproduct.tensor_product_simp(e).doit())"
   ]
  },
  {
   "cell_type": "markdown",
   "metadata": {
    "heading_collapsed": true,
    "hidden": true
   },
   "source": [
    "### Prune"
   ]
  },
  {
   "cell_type": "code",
   "execution_count": null,
   "metadata": {
    "hidden": true
   },
   "outputs": [],
   "source": [
    "def prune(expr,thr=10,remNum=False):\n",
    "    if isinstance(expr,sp.Number): \n",
    "        if remNum==False:\n",
    "            if sp.Abs(expr)<10**(-thr):\n",
    "                return sp.Integer(0)\n",
    "            else:\n",
    "                return expr\n",
    "        else:\n",
    "            return sp.Integer(1)\n",
    "    else:\n",
    "        if expr.has(sp.Number):\n",
    "            #if it is a sum or a product, run this function for each part and then combine the parts; return the result\n",
    "            if isinstance(expr,sp.Mul) or isinstance(expr,sp.Add) or isinstance(expr,sq.TensorProduct):\n",
    "                new_args=[] #list(expr.args)\n",
    "                for _ in expr.args:\n",
    "                    new_args.append(prune(_,thr,remNum))\n",
    "                if isinstance(expr,sp.Mul):        \n",
    "                    return sp.Mul(*new_args)\n",
    "                elif isinstance(expr,sp.Add):\n",
    "                    return sp.Add(*new_args)  \n",
    "                elif isinstance(expr,sq.TensorProduct):\n",
    "                    return sq.TensorProduct(*new_args)  \n",
    "\n",
    "            else:\n",
    "                return expr\n",
    "            #There would be no else here because tensor product simp would have removed that part\n",
    "        else:\n",
    "            return expr        \n",
    "\n",
    "# test=(A[0]*2)\n",
    "# test.has(sp.Number)\n",
    "# prune(test,remNum=True)"
   ]
  },
  {
   "cell_type": "markdown",
   "metadata": {
    "hidden": true
   },
   "source": [
    "## Testing now"
   ]
  },
  {
   "cell_type": "code",
   "execution_count": null,
   "metadata": {
    "hidden": true
   },
   "outputs": [],
   "source": [
    "k0=Qubit(0)\n",
    "k1=Qubit(1)"
   ]
  },
  {
   "cell_type": "code",
   "execution_count": null,
   "metadata": {
    "hidden": true
   },
   "outputs": [],
   "source": [
    "v=TensorProduct(k0,k1)\n",
    "w=TensorProduct(k1,k1)\n",
    "#sp.Integer(1)"
   ]
  },
  {
   "cell_type": "code",
   "execution_count": null,
   "metadata": {
    "hidden": true
   },
   "outputs": [],
   "source": [
    "w"
   ]
  },
  {
   "cell_type": "code",
   "execution_count": null,
   "metadata": {
    "hidden": true
   },
   "outputs": [],
   "source": [
    "tdsimp(Dagger(v)*v)"
   ]
  },
  {
   "cell_type": "code",
   "execution_count": null,
   "metadata": {
    "hidden": true
   },
   "outputs": [],
   "source": [
    "tdsimp(Dagger(w)*v)"
   ]
  },
  {
   "cell_type": "markdown",
   "metadata": {},
   "source": [
    "# Libraries"
   ]
  },
  {
   "cell_type": "code",
   "execution_count": null,
   "metadata": {
    "init_cell": true
   },
   "outputs": [],
   "source": [
    "# from sympy.physics.quantum.qubit import Qubit\n",
    "# from sympy.physics.quantum.dagger import Dagger\n",
    "# from sympy.physics.quantum import TensorProduct as sTP\n",
    "# import sympy.physics.quantum as sq\n",
    "# import sympy as sp\n",
    "\n",
    "\n",
    "import qutip as qt\n",
    "\n",
    "import cvxpy as cp\n",
    "import numpy as np\n",
    "import itertools\n",
    "\n",
    "\n",
    "\n",
    "\n",
    "# from multiprocessing import Pool\n",
    "\n",
    "#Because the arrays are large (over 4GB), they are not getting pickled (something multiprocessing needs to do)\n",
    "import pickle4reducer\n",
    "import multiprocessing as mp\n",
    "ctx = mp.get_context()\n",
    "ctx.reducer = pickle4reducer.Pickle4Reducer()\n",
    "\n"
   ]
  },
  {
   "cell_type": "markdown",
   "metadata": {},
   "source": [
    "## Partial Trace for cvxpy"
   ]
  },
  {
   "cell_type": "code",
   "execution_count": null,
   "metadata": {
    "init_cell": true
   },
   "outputs": [],
   "source": [
    "import numpy as np\n",
    "import cvxpy\n",
    "from cvxpy.expressions.expression import Expression\n",
    "\n",
    "\n",
    "def expr_as_np_array(cvx_expr):\n",
    "    if cvx_expr.is_scalar():\n",
    "        return np.array(cvx_expr)\n",
    "    elif len(cvx_expr.shape) == 1:\n",
    "        return np.array([v for v in cvx_expr])\n",
    "    else:\n",
    "        # then cvx_expr is a 2d array\n",
    "        rows = []\n",
    "        for i in range(cvx_expr.shape[0]):\n",
    "            row = [cvx_expr[i,j] for j in range(cvx_expr.shape[1])]\n",
    "            rows.append(row)\n",
    "        arr = np.array(rows)\n",
    "        return arr\n",
    "\n",
    "\n",
    "def np_array_as_expr(np_arr):\n",
    "    aslist = np_arr.tolist()\n",
    "    expr = cvxpy.bmat(aslist)\n",
    "    return expr\n",
    "\n",
    "\n",
    "def np_partial_trace(rho, dims, axis=0):\n",
    "    \"\"\"\n",
    "    Takes partial trace over the subsystem defined by 'axis'\n",
    "    rho: a matrix\n",
    "    dims: a list containing the dimension of each subsystem\n",
    "    axis: the index of the subsytem to be traced out\n",
    "    (We assume that each subsystem is square)\n",
    "    \"\"\"\n",
    "    dims_ = np.array(dims)\n",
    "    # Reshape the matrix into a tensor with the following shape:\n",
    "    # [dim_0, dim_1, ..., dim_n, dim_0, dim_1, ..., dim_n]\n",
    "    # Each subsystem gets one index for its row and another one for its column\n",
    "    reshaped_rho = np.reshape(rho, np.concatenate((dims_, dims_), axis=None))\n",
    "\n",
    "    # Move the subsystems to be traced towards the end\n",
    "    reshaped_rho = np.moveaxis(reshaped_rho, axis, -1)\n",
    "    reshaped_rho = np.moveaxis(reshaped_rho, len(dims)+axis-1, -1)\n",
    "\n",
    "    # Trace over the very last row and column indices\n",
    "    traced_out_rho = np.trace(reshaped_rho, axis1=-2, axis2=-1)\n",
    "\n",
    "    # traced_out_rho is still in the shape of a tensor\n",
    "    # Reshape back to a matrix\n",
    "    dims_untraced = np.delete(dims_, axis)\n",
    "    rho_dim = np.prod(dims_untraced)\n",
    "    return traced_out_rho.reshape([rho_dim, rho_dim])\n",
    "\n",
    "\n",
    "def partial_trace(rho, dims, axis=0):\n",
    "    if not isinstance(rho, Expression):\n",
    "        rho = cvxpy.Constant(shape=rho.shape, value=rho)\n",
    "    rho_np = expr_as_np_array(rho)\n",
    "    traced_rho = np_partial_trace(rho_np, dims, axis)\n",
    "    traced_rho = np_array_as_expr(traced_rho)\n",
    "    return traced_rho\n",
    "\n"
   ]
  },
  {
   "cell_type": "markdown",
   "metadata": {
    "heading_collapsed": true
   },
   "source": [
    "## \\[Ignore\\] Extending the tensor product functionality"
   ]
  },
  {
   "cell_type": "markdown",
   "metadata": {
    "heading_collapsed": true,
    "hidden": true
   },
   "source": [
    "### Prune"
   ]
  },
  {
   "cell_type": "code",
   "execution_count": null,
   "metadata": {
    "hidden": true
   },
   "outputs": [],
   "source": [
    "def prune(expr,thr=10,remNum=False):\n",
    "    if isinstance(expr,sp.Number): \n",
    "        if remNum==False:\n",
    "            if sp.Abs(expr)<10**(-thr):\n",
    "                return sp.Integer(0)\n",
    "            else:\n",
    "                return expr\n",
    "        else:\n",
    "            return sp.Integer(1)\n",
    "    else:\n",
    "        if expr.has(sp.Number):\n",
    "            #if it is a sum or a product, run this function for each part and then combine the parts; return the result\n",
    "            if isinstance(expr,sp.Mul) or isinstance(expr,sp.Add) or isinstance(expr,sq.TensorProduct):\n",
    "                new_args=[] #list(expr.args)\n",
    "                for _ in expr.args:\n",
    "                    new_args.append(prune(_,thr,remNum))\n",
    "                if isinstance(expr,sp.Mul):        \n",
    "                    return sp.Mul(*new_args)\n",
    "                elif isinstance(expr,sp.Add):\n",
    "                    return sp.Add(*new_args)  \n",
    "                elif isinstance(expr,sq.TensorProduct):\n",
    "                    return sq.TensorProduct(*new_args)  \n",
    "\n",
    "            else:\n",
    "                return expr\n",
    "            #There would be no else here because tensor product simp would have removed that part\n",
    "        else:\n",
    "            return expr        \n",
    "\n",
    "# test=(A[0]*2)\n",
    "# test.has(sp.Number)\n",
    "# prune(test,remNum=True)"
   ]
  },
  {
   "cell_type": "markdown",
   "metadata": {
    "heading_collapsed": true,
    "hidden": true
   },
   "source": [
    "### Extending Tensor"
   ]
  },
  {
   "cell_type": "code",
   "execution_count": null,
   "metadata": {
    "hidden": true
   },
   "outputs": [],
   "source": [
    "\n",
    "def powerDrop(expr):\n",
    "    if isinstance(expr,sp.Pow): #TODO: make sure the base is not too complex\n",
    "        # print(\"PowerEncountered\")\n",
    "        if expr.exp>=2:\n",
    "            # print(\"glaba\")\n",
    "            # display(expr.base)\n",
    "            _=sq.qapply(sp.Mul(expr.base,expr.base))\n",
    "            if expr.exp>2:\n",
    "                return powerDrop(_*sp.Pow(expr.base,expr.exp-2))\n",
    "            else:\n",
    "                return _\n",
    "        else:\n",
    "            return expr #autoDropDim(sp.Mul(expr.base,expr.base))\n",
    "    else:\n",
    "        if expr.has(sp.Pow):\n",
    "            #if it is a sum or a product, run this function for each part and then combine the parts; return the result\n",
    "            if isinstance(expr,sp.Mul) or isinstance(expr,sp.Add) or isinstance(expr,sq.TensorProduct):\n",
    "                new_args=[] #list(expr.args)\n",
    "                for _ in expr.args:\n",
    "                    new_args.append(powerDrop(_))\n",
    "                if isinstance(expr,sp.Mul):        \n",
    "                    return sp.Mul(*new_args)\n",
    "                elif isinstance(expr,sp.Add):\n",
    "                    return sp.Add(*new_args)  \n",
    "                elif isinstance(expr,sq.TensorProduct):\n",
    "                    return sq.TensorProduct(*new_args)  \n",
    "\n",
    "            else:\n",
    "                return expr\n",
    "            #There would be no else here because tensor product simp would have removed that part\n",
    "        else:\n",
    "            return expr        \n",
    "    \n",
    "def autoDropDim(expr):\n",
    "    #print(\"Expression\")\n",
    "    #if isinstance(expr,sp.Mul):\n",
    "        #print(\"type:multiplier\")\n",
    "    #display(expr)\n",
    "    \n",
    "    \n",
    "    if isinstance(expr,sq.TensorProduct):\n",
    "        new_args=[]\n",
    "        for _ in expr.args:\n",
    "            #display(_)\n",
    "            #print(type(_))\n",
    "            if _ != sp.Integer(1):\n",
    "            #if not isinstance(_,core.numbers.One):\n",
    "                new_args.append(_)\n",
    "        #print(\"TensorProduct with %d non-ones in the tensor product\"%len(new_args))\n",
    "        if(len(new_args)==0):\n",
    "            return sp.Integer(1)\n",
    "        else:\n",
    "            return sq.TensorProduct(*new_args)\n",
    "    else:\n",
    "        if expr.has(sq.TensorProduct):\n",
    "            #if it is a sum or a product, run this function for each part and then combine the parts; return the result\n",
    "            if isinstance(expr,sp.Mul) or isinstance(expr,sp.Add):\n",
    "                new_args=[] #list(expr.args)\n",
    "                for _ in expr.args:\n",
    "                    new_args.append(autoDropDim(_))\n",
    "                if isinstance(expr,sp.Mul):        \n",
    "                    return sp.Mul(*new_args)\n",
    "                elif isinstance(expr,sp.Add):\n",
    "                    return sp.Add(*new_args)  \n",
    "                \n",
    "            #There would be no else here because tensor product simp would have removed that part\n",
    "        else:\n",
    "            return expr #when the expression is just an integer or some such\n",
    "\n",
    "\n",
    "        \n",
    "def tsimp(e,pruneMe=True):\n",
    "    res=sq.qapply(powerDrop(sq.tensorproduct.tensor_product_simp(sq.qapply(e)).doit()))\n",
    "    if pruneMe:\n",
    "        return prune(res)\n",
    "    else:\n",
    "        return res\n",
    "\n",
    "def tdsimp(e,pruneMe=True):\n",
    "    res=autoDropDim(sq.qapply(powerDrop(autoDropDim(sq.tensorproduct.tensor_product_simp(sq.qapply(e)).doit()))))\n",
    "    if pruneMe:\n",
    "        return prune(res)\n",
    "    else:\n",
    "        return res\n",
    "    #return autoDropDim(sq.tensorproduct.tensor_product_simp_Mul(e).doit())\n",
    "    #return autoDropDim(sq.tensorproduct.tensor_product_simp_Mul(sq.qapply(e)).doit())\n",
    "    #return autoDropDim(sq.tensorproduct.tensor_product_simp(e).doit())"
   ]
  },
  {
   "cell_type": "markdown",
   "metadata": {
    "heading_collapsed": true
   },
   "source": [
    "## \\[Ignore\\] Convert a matrix from Sympy Quantum to Numpy"
   ]
  },
  {
   "cell_type": "code",
   "execution_count": null,
   "metadata": {
    "hidden": true
   },
   "outputs": [],
   "source": [
    "def srep(ρ):\n",
    "    return sq.represent(ρ)\n",
    "\n",
    "def rep(ρ):\n",
    "    return np.array(sq.represent(ρ)).astype(np.complex)"
   ]
  },
  {
   "cell_type": "code",
   "execution_count": null,
   "metadata": {
    "hidden": true
   },
   "outputs": [],
   "source": [
    "def kron(*args):\n",
    "    print(\"Tensoring; size\",len(args))\n",
    "    \n",
    "    res = args[0]\n",
    "    count=0\n",
    "    for _ in args[1:]:\n",
    "        res=np.kron(res,_)\n",
    "        count+=1\n",
    "        print(count)\n",
    "    return res\n",
    "        "
   ]
  },
  {
   "cell_type": "markdown",
   "metadata": {
    "heading_collapsed": true
   },
   "source": [
    "# \\[Ignore\\] Testing, stage 1"
   ]
  },
  {
   "cell_type": "markdown",
   "metadata": {
    "hidden": true
   },
   "source": [
    "## Define the problem, symbolically"
   ]
  },
  {
   "cell_type": "code",
   "execution_count": null,
   "metadata": {
    "hidden": true
   },
   "outputs": [],
   "source": [
    "k0=Qubit(0)\n",
    "k1=Qubit(1)\n",
    "\n",
    "ρ=k0*Dagger(k0)\n",
    "\n",
    "ρ_=rep(ρ)"
   ]
  },
  {
   "cell_type": "code",
   "execution_count": null,
   "metadata": {
    "hidden": true
   },
   "outputs": [],
   "source": [
    "print(type(ρ_))\n",
    "display(ρ)\n",
    "display(sq.represent(ρ))\n",
    "display(ρ_)"
   ]
  },
  {
   "cell_type": "markdown",
   "metadata": {
    "heading_collapsed": true,
    "hidden": true
   },
   "source": [
    "## Define the SDP and solve it"
   ]
  },
  {
   "cell_type": "code",
   "execution_count": null,
   "metadata": {
    "hidden": true
   },
   "outputs": [],
   "source": [
    "#size of the problem\n",
    "n=2 #cp.Integer(2)\n",
    "#ρ_matr=\n",
    "\n",
    "#density matrix to optimize over\n",
    "ρ1 = cp.Variable((n,n), symmetric=True)\n",
    "\n",
    "#density matrix, so positive\n",
    "constraints = [ρ1 >> 0]\n",
    "constraints += [cp.trace(ρ1) == 1]\n",
    "\n",
    "prob = cp.Problem(cp.Maximize(cp.trace(ρ_ @ ρ1)), constraints)\n",
    "\n",
    "prob.solve(solver=cp.CVXOPT,verbose=True)\n",
    "\n",
    "                  \n",
    "#cp.trace(ρ_mat @ ρ1)),                  "
   ]
  },
  {
   "cell_type": "markdown",
   "metadata": {
    "heading_collapsed": true
   },
   "source": [
    "# \\[Ignore\\] DI CF with Alice testing rigidity + ET"
   ]
  },
  {
   "cell_type": "markdown",
   "metadata": {
    "heading_collapsed": true,
    "hidden": true
   },
   "source": [
    "## Settings"
   ]
  },
  {
   "cell_type": "code",
   "execution_count": null,
   "metadata": {
    "hidden": true
   },
   "outputs": [],
   "source": [
    "verbose=True\n",
    "fileName = \"cache_temp_1\""
   ]
  },
  {
   "cell_type": "markdown",
   "metadata": {
    "heading_collapsed": true,
    "hidden": true
   },
   "source": [
    "## Bare kets"
   ]
  },
  {
   "cell_type": "code",
   "execution_count": null,
   "metadata": {
    "hidden": true
   },
   "outputs": [],
   "source": [
    "# I am using an O and an L for denoting 0 and 1 (so visually they are similar and can still be variables in python)\n",
    "o=Qubit(0)\n",
    "l=Qubit(1)\n",
    "\n",
    "I = sp.Integer(1)\n",
    "\n",
    "D = Dagger\n",
    "\n",
    "ι = sp.I #ImaginaryUnit"
   ]
  },
  {
   "cell_type": "markdown",
   "metadata": {
    "heading_collapsed": true,
    "hidden": true
   },
   "source": [
    "## Initial components of the state"
   ]
  },
  {
   "cell_type": "code",
   "execution_count": null,
   "metadata": {
    "hidden": true
   },
   "outputs": [],
   "source": [
    "TP=sTP\n",
    "#Convention\n",
    "# ABC X'Y'Z' Y'' Z'' A' S' S'' R' G' B' C'\n",
    "\n",
    "ψ_ABC=(TP(o,o,o) + TP(l,l,l))/sp.sqrt(2)\n",
    "display(ψ_ABC)\n",
    "\n",
    "ψ_XYZYZ=(TP(o,o,l,o,l) + TP(o,l,o,l,o) + TP(l,o,o,o,o) + TP(l,l,l,l,l))/sp.sqrt(4)\n",
    "display(ψ_XYZYZ)\n",
    "\n",
    "#No, I did not do this on purpose\n",
    "ψ_ASS = TP(o,o,o)\n",
    "display(ψ_ASS)\n",
    "\n",
    "#Random number\n",
    "ψ_R = (o + l )/sp.sqrt(2)\n",
    "display(ψ_R)\n",
    "\n",
    "ψ1=TP(ψ_ABC,ψ_XYZYZ,ψ_ASS,ψ_R)\n",
    "display(tdsimp(ψ1))\n",
    "display(rep(ψ1))"
   ]
  },
  {
   "cell_type": "markdown",
   "metadata": {
    "hidden": true
   },
   "source": [
    "## Unitary"
   ]
  },
  {
   "cell_type": "markdown",
   "metadata": {
    "heading_collapsed": true,
    "hidden": true
   },
   "source": [
    "### Pauli X, projectors for measuring in Y and Z"
   ]
  },
  {
   "cell_type": "code",
   "execution_count": null,
   "metadata": {
    "code_folding": [
     7
    ],
    "hidden": true
   },
   "outputs": [],
   "source": [
    "#Convention\n",
    "# ABC X'Y'Z' Y'' Z'' A' S' S'' R' G' B' C'\n",
    "\n",
    "Π_z0 = rep(o * D(o))\n",
    "Π_z1 = rep(l * D(l))\n",
    "display(Π_z0,Π_z1)\n",
    "\n",
    "def Π_z(i):\n",
    "    if i==0:\n",
    "        return Π_z0\n",
    "    else:\n",
    "        return Π_z1\n",
    "\n",
    "x0 = (o + l)/sp.sqrt(2)\n",
    "x1 = (o + l)/sp.sqrt(2)\n",
    "\n",
    "Π_x0 = rep(x0 * D(x0))\n",
    "Π_x1 = rep(x1 * D(x1))\n",
    "display(Π_x0,Π_x1)\n",
    "\n",
    "y0 = (o + ι*l)/sp.sqrt(2)\n",
    "y1 = (o - ι*l)/sp.sqrt(2)\n",
    "\n",
    "Π_y0 = rep(y0 * D(y0))\n",
    "Π_y1 = rep(y1 * D(y1))\n",
    "display(Π_y0,Π_y1)\n",
    "\n",
    "\n",
    "X_hat = rep(o * D(l) + l *D(o))\n",
    "display(X_hat)"
   ]
  },
  {
   "cell_type": "markdown",
   "metadata": {
    "heading_collapsed": true,
    "hidden": true
   },
   "source": [
    "### Assembling the Unitary and the projector"
   ]
  },
  {
   "cell_type": "code",
   "execution_count": null,
   "metadata": {
    "hidden": true
   },
   "outputs": [],
   "source": [
    "#display(rep(TP(X_hat,X_hat) + TP(X_hat,X_hat)))\n",
    "#np.kron(Π_x0,Π_x0)\n",
    "TP=kron\n",
    "\n",
    "#kron(Π_x0,Π_x0,Π_x0)\n",
    "#display(rep(TP(X_hat,I)))\n",
    "#display(rep(U_I))\n",
    "display(TP(Π_x0,Π_x0))\n",
    "\n",
    "display(TP(Π_x0,I,I,        #ABC\n",
    "         Π_z0,I,I, I,I))   #XYZ YZ  #ASSRGBC\n",
    "\n",
    "display(TP(Π_x0,I,I,        #ABC\n",
    "         Π_z0,I,I, I,I,   #XYZ YZ  #ASSRGBC\n",
    "         I,I,I,I,I,I,I))\n",
    "\n",
    "# M = TP(Π_x0,I,I,        #ABC\n",
    "#          Π_z0,I,I, I,I,   #XYZ YZ  #ASSRGBC\n",
    "#          I,I,I,I,I,I)"
   ]
  },
  {
   "cell_type": "code",
   "execution_count": null,
   "metadata": {
    "hidden": true
   },
   "outputs": [],
   "source": [
    "#res = TP(M,I)"
   ]
  },
  {
   "cell_type": "code",
   "execution_count": null,
   "metadata": {
    "hidden": true,
    "scrolled": false
   },
   "outputs": [],
   "source": [
    "#Constructing the unitary\n",
    "TP=kron\n",
    "\n",
    "\n",
    "\n",
    "try:\n",
    "    print(\"Loading from file\",fileName)\n",
    "    loadedThis=dill.load(open(fileName, \"rb\"))    \n",
    "    [U,U_I,U_II,Π]=loadedThis\n",
    "    print(\"Done\")\n",
    "except:\n",
    "    print(\"Loading failed. Computing instead.\")\n",
    "    loadedThis=None\n",
    "\n",
    "\n",
    "\n",
    "    #Convention\n",
    "    # ABC X'Y'Z' Y'' Z'' A' S' S'' R' G' B' C'\n",
    "    I = srep(Π_z0 + Π_z1)\n",
    "\n",
    "\n",
    "\n",
    "    # The matrices are too big for it to handle\n",
    "    # p=Pool(10)\n",
    "\n",
    "    # res = sum(p.starmap(TP, \n",
    "    #                 [(Π_x0,I,I,        #ABC\n",
    "    #          Π_z0,I,I, I,I,   #XYZ YZ  #ASSRGBC\n",
    "    #          I,I,I,I,I,I),\n",
    "    #                  (Π_x1,I,I,        #ABC\n",
    "    #          Π_z0,I,I, I,I,   #XYZ YZ  #ASSRGBC\n",
    "    #          X_hat,I,I,I,I,I),\n",
    "    #                  (Π_y0,I,I,        #ABC\n",
    "    #          Π_z1,I,I, I,I,   #XYZ YZ  #ASSRGBC\n",
    "    #          I,I,I,I,I,I),\n",
    "    #                  (Π_y1,I,I,        #ABC\n",
    "    #          Π_z1,I,I, I,I,   #XYZ YZ  #ASSRGBC\n",
    "    #          X_hat,I,I,I,I,I),                 \n",
    "    #                     ]))\n",
    "    # display(res)\n",
    "\n",
    "    U_I = TP(Π_x0,I,I,        #ABC\n",
    "             Π_z0,I,I, I,I,   #XYZ YZ  #ASSRGBC\n",
    "             I,I,I,I,I,I,I) + \\\n",
    "          TP(Π_x1,I,I,        #ABC\n",
    "             Π_z0,I,I, I,I,   #XYZ YZ  #ASSRGBC\n",
    "             X_hat,I,I,I,I,I,I) + \\\n",
    "          TP(Π_y0,I,I,        #ABC\n",
    "             Π_z1,I,I, I,I,   #XYZ YZ  #ASSRGBC\n",
    "             I,I,I,I,I,I,I) + \\\n",
    "          TP(Π_y1,I,I,        #ABC\n",
    "             Π_z1,I,I, I,I,   #XYZ YZ  #ASSRGBC\n",
    "             X_hat,I,I,I,I,I,I)\n",
    "\n",
    "    display(U_I)\n",
    "\n",
    "\n",
    "    bi = [0,1]\n",
    "\n",
    "    U_II = None\n",
    "    def f(a,x,r):\n",
    "        return (a+(x*r))%2\n",
    "\n",
    "    for a,x,r in itertools.product(bi,bi,bi):        \n",
    "        #print(a,x,r,f(a,x,r))\n",
    "        if (f(a,x,r)):\n",
    "            _ = TP(I,I,I,        #ABC\n",
    "                Π_z(x),I,I, I,I,   #XYZ YZ  \n",
    "                Π_z(a),X_hat,X_hat,Π_z(r),I,I,I) #ASSRGBC\n",
    "        else:\n",
    "            _ = TP(I,I,I,        #ABC\n",
    "                Π_z(x),I,I, I,I,   #XYZ YZ  \n",
    "                Π_z(a),I,I,Π_z(r),I,I,I) #ASSRGBC\n",
    "\n",
    "        if U_II is None:\n",
    "            U_II = _\n",
    "            #display(rep(_))\n",
    "            #display(_)\n",
    "        else:\n",
    "            U_II += _\n",
    "            #display(_)\n",
    "        #Qubit(0)\n",
    "    #display(U_II)\n",
    "\n",
    "\n",
    "    U = U_II * U_I\n",
    "\n",
    "    if(verbose): display(U)\n",
    "    print(\"Constructed the unitary\")\n",
    "\n",
    "    ρ1=U*ψ1*D(U*ψ1)\n",
    "    display(ρ1)\n",
    "\n",
    "\n",
    "\n",
    "    ####################Constructing the projector\n",
    "\n",
    "    Π = None\n",
    "    _ = None\n",
    "    #GHZ winning condition\n",
    "    def f(a,b,c,x,y,z,g):\n",
    "        if( (x+g)%2 == 1 and (a+b+c+1)%2 == (x*y*z)):\n",
    "            return 1\n",
    "        else:\n",
    "            return 0    \n",
    "    Π_ = None\n",
    "    #I_ = Π_z0 + Π_z1\n",
    "\n",
    "    for a,b,c, x,y,z, g in itertools.product(bi,bi,bi, bi,bi,bi, bi):        \n",
    "        if (f(a,b,c, x,y,z, g)==1):\n",
    "            #print(a,b,c, x,y,z, g, f(a,b,c,x,y,z,g))\n",
    "            _ = TP(I,I,I,        #ABC\n",
    "                Π_z(x),I,I, Π_z(y),Π_z(z),   #XYZ YZ  \n",
    "                Π_z(a),I,I,I,Π_z(g),Π_z(b),Π_z(c)) #ASSRGBC\n",
    "\n",
    "            if Π is None:\n",
    "                Π = _\n",
    "                # print(\"calculated the symbolic part, working on the representation\")\n",
    "                # Π_ = rep(_)\n",
    "                # print(\"completed the representation\")\n",
    "            else:\n",
    "                Π += _\n",
    "                # Π_ = rep(_)\n",
    "\n",
    "\n",
    "    if(verbose): \n",
    "        display(Π)\n",
    "        # display(Π_)\n",
    "        #display(sq.represent(Π))\n",
    "        #display(rep(Π))\n",
    "    print(\"Constructed the projector\")\n",
    "\n",
    "    dill.dump([U,U_I,U_II,Π], open(fileName, \"wb\"))\n",
    "    print(\"Saved to disk\")\n"
   ]
  },
  {
   "cell_type": "code",
   "execution_count": null,
   "metadata": {
    "hidden": true
   },
   "outputs": [],
   "source": [
    "print (\"ga\")"
   ]
  },
  {
   "cell_type": "code",
   "execution_count": null,
   "metadata": {
    "hidden": true
   },
   "outputs": [],
   "source": [
    "TP=sTP\n",
    "\n",
    "a= TP(o,o)\n",
    "aD = D(TP(o,o))\n",
    "Op = (a*aD)\n",
    "display(Op)\n",
    "display(rep(Op))\n",
    "Op*a"
   ]
  },
  {
   "cell_type": "code",
   "execution_count": null,
   "metadata": {
    "hidden": true
   },
   "outputs": [],
   "source": [
    "TP=sTP\n",
    "allZero=TP(o,o,o,        #ABC\n",
    "         o,o,o, o,o,   #XYZ YZ  #ASSRGBC\n",
    "         o,o,o,o,o,o)\n",
    "\n",
    "display(allZero)\n",
    "result=Π*allZero\n",
    "#rep(result)"
   ]
  },
  {
   "cell_type": "code",
   "execution_count": null,
   "metadata": {
    "hidden": true
   },
   "outputs": [],
   "source": [
    "#display(U*ψ1)\n",
    "#ψ1_A=sq.qapply(U*ψ1)\n",
    "#rep(ψ1)\n",
    "#rep(U)"
   ]
  },
  {
   "cell_type": "markdown",
   "metadata": {
    "heading_collapsed": true,
    "hidden": true
   },
   "source": [
    "## TODO\n",
    "\n",
    "* sympy seems too slow to do the symbolic calculations; need to write a routine to convert everything into numerical matrices even before multiplying them\n",
    "* Need to find a way of implementing a partial trace for cvxpy"
   ]
  },
  {
   "cell_type": "markdown",
   "metadata": {},
   "source": [
    "# QuTiP | DI CF with Alice testing rigidity + Weak ET"
   ]
  },
  {
   "cell_type": "code",
   "execution_count": null,
   "metadata": {
    "init_cell": true
   },
   "outputs": [],
   "source": [
    "verbose=True\n",
    "fileName = \"cache_temp_1\""
   ]
  },
  {
   "cell_type": "markdown",
   "metadata": {
    "heading_collapsed": true
   },
   "source": [
    "## Bare Kets"
   ]
  },
  {
   "cell_type": "code",
   "execution_count": null,
   "metadata": {
    "hidden": true,
    "init_cell": true
   },
   "outputs": [],
   "source": [
    "o=qt.basis(2,0)\n",
    "l=qt.basis(2,1)\n",
    "\n",
    "\n",
    "I=qt.identity(2)\n",
    "\n",
    "ι = 0+1j\n",
    "\n",
    "TP = qt.tensor\n",
    "\n",
    "def D(obj):\n",
    "    return obj.dag()"
   ]
  },
  {
   "cell_type": "markdown",
   "metadata": {},
   "source": [
    "## Initial Components of the state"
   ]
  },
  {
   "cell_type": "code",
   "execution_count": null,
   "metadata": {
    "init_cell": true
   },
   "outputs": [],
   "source": [
    "ψ_ABC=(TP(o,o,o) + TP(l,l,l))/np.sqrt(2)\n",
    "#display(ψ_ABC)\n",
    "\n",
    "ψ_XYZYZ=(TP(o,o,l,o,l) + TP(o,l,o,l,o) + TP(l,o,o,o,o) + TP(l,l,l,l,l))/np.sqrt(4)\n",
    "#display(ψ_XYZYZ)\n",
    "\n",
    "#No, I did not do this on purpose\n",
    "ψ_ASS = TP(o,o,o)\n",
    "#display(ψ_ASS)\n",
    "\n",
    "#Random number\n",
    "ψ_R = (o + l )/np.sqrt(2)\n",
    "#display(ψ_R)\n",
    "\n",
    "ψ1=TP(ψ_ABC,ψ_XYZYZ,ψ_ASS,ψ_R)\n",
    "display(ψ1)\n",
    "# print(tdsimp(ψ1))\n",
    "# print(rep(ψ1))"
   ]
  },
  {
   "cell_type": "markdown",
   "metadata": {},
   "source": [
    "## The unitary and the projector"
   ]
  },
  {
   "cell_type": "markdown",
   "metadata": {
    "heading_collapsed": true
   },
   "source": [
    "### Projectors for measurement etc"
   ]
  },
  {
   "cell_type": "code",
   "execution_count": null,
   "metadata": {
    "hidden": true,
    "init_cell": true
   },
   "outputs": [],
   "source": [
    "\n",
    "Π_z0 = o * D(o)\n",
    "Π_z1 = l * D(l)\n",
    "display(Π_z0,Π_z1)\n",
    "\n",
    "def Π_z(i):\n",
    "    if i==0:\n",
    "        return Π_z0\n",
    "    else:\n",
    "        return Π_z1\n",
    "\n",
    "x0 = (o + l)/np.sqrt(2)\n",
    "x1 = (o + l)/np.sqrt(2)\n",
    "\n",
    "Π_x0 = x0 * D(x0)\n",
    "Π_x1 = x1 * D(x1)\n",
    "display(Π_x0,Π_x1)\n",
    "\n",
    "y0 = (o + ι*l)/np.sqrt(2)\n",
    "y1 = (o - ι*l)/np.sqrt(2)\n",
    "\n",
    "Π_y0 = y0 * D(y0)\n",
    "Π_y1 = y1 * D(y1)\n",
    "display(Π_y0,Π_y1)\n",
    "\n",
    "\n",
    "X_hat = o * D(l) + l *D(o)\n",
    "display(X_hat)"
   ]
  },
  {
   "cell_type": "markdown",
   "metadata": {
    "heading_collapsed": true
   },
   "source": [
    "### Assembling the unitary and the projectors\n",
    "\n",
    "We define ```U, ρ1, Π``` (qutip objects), ready to use."
   ]
  },
  {
   "cell_type": "code",
   "execution_count": null,
   "metadata": {
    "hidden": true,
    "init_cell": true
   },
   "outputs": [],
   "source": [
    "#Constructing the unitary\n",
    "\n",
    "U_I = TP(Π_x0,        #A(BC)\n",
    "         Π_z0,I,I, I,I,   #XYZ YZ  #ASSR(GBC)\n",
    "         I,I,I,I) + \\\n",
    "      TP(Π_x1,        #A(BC)\n",
    "         Π_z0,I,I, I,I,   #XYZ YZ  #ASSR(GBC)\n",
    "         X_hat,I,I,I) + \\\n",
    "      TP(Π_y0,        #A(BC)\n",
    "         Π_z1,I,I, I,I,   #XYZ YZ  #ASSR(GBC)\n",
    "         I,I,I,I) + \\\n",
    "      TP(Π_y1,        #A(BC)\n",
    "         Π_z1,I,I, I,I,   #XYZ YZ  #ASSR(GBC)\n",
    "         X_hat,I,I,I)\n",
    "\n",
    "\n",
    "bi = [0,1]\n",
    "\n",
    "U_II = None\n",
    "def f(a,x,r):\n",
    "    return (a+(x*r))%2\n",
    "\n",
    "for a,x,r in itertools.product(bi,bi,bi):        \n",
    "    #print(a,x,r,f(a,x,r))\n",
    "    if (f(a,x,r)):\n",
    "        _ = TP(I,        #A(BC)\n",
    "            Π_z(x),I,I, I,I,   #XYZ YZ  \n",
    "            Π_z(a),X_hat,X_hat,Π_z(r)) #ASSR(GBC)\n",
    "    else:\n",
    "        _ = TP(I,        #A(BC)\n",
    "            Π_z(x),I,I, I,I,   #XYZ YZ  \n",
    "            Π_z(a),I,I,Π_z(r)) #ASSR(GBC)\n",
    "\n",
    "    if U_II is None:\n",
    "        U_II = _\n",
    "        #display(rep(_))\n",
    "        #display(_)\n",
    "    else:\n",
    "        U_II += _\n",
    "        #display(_)\n",
    "    #Qubit(0)\n",
    "#display(U_II)\n",
    "\n",
    "\n",
    "U = U_II * U_I\n",
    "\n",
    "print(\"Constructed the unitary\")\n",
    "if(verbose): \n",
    "    display(U)\n",
    "\n",
    "\n",
    "ρ1=ψ1.ptrace([0,3,4,5,6,7,8,9,10,11])\n",
    "\n",
    "Uρ1U=U*ρ1*D(U)\n",
    "\n",
    "#        0     12345   678   9\n",
    "#ψ1=TP(ψ_ABC,ψ_XYZYZ,ψ_ASS,ψ_R)\n",
    "#We also need to trace out S' (the first S above, i.e. index 7)\n",
    "trS_Uρ1U= Uρ1U.ptrace([0,1,2,3,4,5,6,8,9])\n",
    "\n",
    "if verbose:\n",
    "    print(\"Trace S' of this should equal trace G' σ1\")\n",
    "    display(Uρ1U)\n",
    "\n",
    "\n",
    "\n",
    "####################Constructing the projector\n",
    "\n",
    "Π = None\n",
    "_ = None\n",
    "#GHZ winning condition\n",
    "def f(a,b,c,x,y,z,g):\n",
    "    if( (x+g)%2 == 1 and (a+b+c+1)%2 == (x*y*z)):\n",
    "        return 1\n",
    "    else:\n",
    "        return 0    \n",
    "Π_ = None\n",
    "#I_ = Π_z0 + Π_z1\n",
    "\n",
    "for a,b,c, x,y,z, g in itertools.product(bi,bi,bi, bi,bi,bi, bi):        \n",
    "    if (f(a,b,c, x,y,z, g)==1):\n",
    "        #print(a,b,c, x,y,z, g, f(a,b,c,x,y,z,g))\n",
    "        _ = TP(I,        #A(BC)\n",
    "            Π_z(x), Π_z(y),Π_z(z),   #X(YZ) YZ  \n",
    "            Π_z(a),I,I,Π_z(g),Π_z(b),Π_z(c)) #A(S)SRGBC\n",
    "\n",
    "        if Π is None:\n",
    "            Π = _\n",
    "            # print(\"calculated the symbolic part, working on the representation\")\n",
    "            # Π_ = rep(_)\n",
    "            # print(\"completed the representation\")\n",
    "        else:\n",
    "            Π += _\n",
    "            # Π_ = rep(_)\n",
    "\n",
    "\n",
    "print(\"Constructed the projector\")            \n",
    "if(verbose): \n",
    "    display(Π)\n",
    "    # display(Π_)\n",
    "    #display(sq.represent(Π))\n",
    "    #display(rep(Π))\n",
    "\n",
    "#     dill.dump([U,U_I,U_II,Π], open(fileName, \"wb\"))\n",
    "#     print(\"Saved to disk\")\n"
   ]
  },
  {
   "cell_type": "markdown",
   "metadata": {
    "heading_collapsed": true
   },
   "source": [
    "### Temproary"
   ]
  },
  {
   "cell_type": "code",
   "execution_count": null,
   "metadata": {
    "hidden": true
   },
   "outputs": [],
   "source": [
    "display(U)\n",
    "display(ψ1)\n",
    "#             A,X,Y,Z,Y,Z,A,S,S ,R\n",
    "ρ1=ψ1.ptrace([0,3,4,5,6,7,8,9,10,11]) #after the trace, it automatically yields a density matrix\n",
    "\n",
    "#U*ρ1\n",
    "display(ρ1)"
   ]
  },
  {
   "cell_type": "code",
   "execution_count": null,
   "metadata": {
    "hidden": true
   },
   "outputs": [],
   "source": [
    "# a=qt.basis(2,0)\n",
    "\n",
    "# Π=a*D(a)\n",
    "\n",
    "# display(Π*a)\n",
    "# display(qt.sigmaz()*a)"
   ]
  },
  {
   "cell_type": "code",
   "execution_count": null,
   "metadata": {
    "hidden": true
   },
   "outputs": [],
   "source": [
    "σx=qt.sigmax()\n",
    "σz=qt.sigmaz()\n",
    "\n",
    "\n"
   ]
  },
  {
   "cell_type": "code",
   "execution_count": null,
   "metadata": {
    "hidden": true
   },
   "outputs": [],
   "source": [
    "TP(σz,σz,σz, I,I,\n",
    "   I,I,I, I,I,\n",
    "   I,I,I, I,I)\n",
    "\n"
   ]
  },
  {
   "cell_type": "code",
   "execution_count": null,
   "metadata": {
    "hidden": true
   },
   "outputs": [],
   "source": [
    "o*o.dag()"
   ]
  },
  {
   "cell_type": "markdown",
   "metadata": {},
   "source": [
    "# The SDP itself"
   ]
  },
  {
   "cell_type": "code",
   "execution_count": null,
   "metadata": {},
   "outputs": [],
   "source": [
    "\n",
    "σ1 = cp.Variable((2**10,2**10), hermitian=True)\n",
    "σ2 = cp.Variable((2**10,2**10),hermitian=True)\n",
    "\n",
    "constraints = [σ1>>0, σ2>>0]\n",
    "#constraints += [cp.trace(σ1)==1,cp.trace(σ2)==1]\n",
    "\n",
    "\n",
    "#The non-trivial constraints\n",
    "\n",
    "trB_σ2=partial_trace(σ2,[2]*10,8) #trace out C'; AXYZASR(B)CG\n",
    "trBC_σ2=partial_trace(trB_σ2,[2]*9,8) #trace out C'; AXYZASR(C)G\n",
    "\n",
    "trG_σ1=partial_trace(σ1,[2]*10,9) #trace out G; AXYZYZASR(G)\n",
    "\n",
    "trY_σ1=partial_trace(σ1,[2]*10,2) #trace out Y; AX(Y)ZYZASRG\n",
    "trYZ_σ1=partial_trace(trY_σ1,[2]*9,2) #trace out Z; AX(Z)YZASRG"
   ]
  },
  {
   "cell_type": "code",
   "execution_count": null,
   "metadata": {},
   "outputs": [],
   "source": [
    "trYZ_σ1"
   ]
  },
  {
   "cell_type": "code",
   "execution_count": null,
   "metadata": {},
   "outputs": [],
   "source": [
    "constraints += [trG_σ1 == trS_Uρ1U.data, trBC_σ2 == trYZ_σ1 ]"
   ]
  },
  {
   "cell_type": "code",
   "execution_count": null,
   "metadata": {
    "scrolled": false
   },
   "outputs": [],
   "source": [
    "#prob = cp.Problem(cp.Maximize(cp.trace(cp.real(Π @ σ1 @ Π))),constraints)\n",
    "prob = cp.Problem(cp.Maximize(0),constraints)\n",
    "prob.solve(solver=cp.SCS,verbose=True)"
   ]
  },
  {
   "cell_type": "markdown",
   "metadata": {},
   "source": [
    "## The SDP did not work"
   ]
  },
  {
   "cell_type": "code",
   "execution_count": 14,
   "metadata": {},
   "outputs": [],
   "source": [
    "\n",
    "Λ1 = cp.Variable((2**3,2**3), hermitian=True)\n",
    "Λ2 = cp.Variable((2**3,2**3),hermitian=True)\n",
    "\n",
    "constraints = [Λ1>>0, Λ2>>0]\n",
    "#constraints += [cp.trace(Λ1)==1,cp.trace(Λ2)==1]\n",
    "\n",
    "\n",
    "#The non-trivial constraints\n",
    "\n",
    "trA_Λ2=partial_trace(Λ2,[2]*3,0) \n",
    "\n",
    "trA_Λ1=partial_trace(Λ1,[2]*3,0) \n",
    "\n",
    "#constraints=[Λ1 >> 0, Λ2 >> 0]\n",
    "constraints += [trA_Λ1 == np.eye(4)/4.0, trA_Λ2 == trA_Λ1]\n"
   ]
  },
  {
   "cell_type": "code",
   "execution_count": 15,
   "metadata": {
    "scrolled": false
   },
   "outputs": [
    {
     "name": "stdout",
     "output_type": "stream",
     "text": [
      "\n",
      "\n",
      "Problem\n",
      "  Name                   :                 \n",
      "  Objective sense        : min             \n",
      "  Type                   : CONIC (conic optimization problem)\n",
      "  Constraints            : 576             \n",
      "  Cones                  : 0               \n",
      "  Scalar variables       : 200             \n",
      "  Matrix variables       : 2               \n",
      "  Integer variables      : 0               \n",
      "\n",
      "Optimizer started.\n",
      "Problem\n",
      "  Name                   :                 \n",
      "  Objective sense        : min             \n",
      "  Type                   : CONIC (conic optimization problem)\n",
      "  Constraints            : 576             \n",
      "  Cones                  : 0               \n",
      "  Scalar variables       : 200             \n",
      "  Matrix variables       : 2               \n",
      "  Integer variables      : 0               \n",
      "\n",
      "Optimizer  - threads                : 20              \n",
      "Optimizer  - solved problem         : the primal      \n",
      "Optimizer  - Constraints            : 512\n",
      "Optimizer  - Cones                  : 1\n",
      "Optimizer  - Scalar variables       : 97                conic                  : 97              \n",
      "Optimizer  - Semi-definite variables: 2                 scalarized             : 272             \n",
      "Factor     - setup time             : 0.01              dense det. time        : 0.00            \n",
      "Factor     - ML order time          : 0.01              GP order time          : 0.00            \n",
      "Factor     - nonzeros before factor : 6.63e+04          after factor           : 6.63e+04        \n",
      "Factor     - dense dim.             : 2                 flops                  : 1.18e+07        \n",
      "ITE PFEAS    DFEAS    GFEAS    PRSTATUS   POBJ              DOBJ              MU       TIME  \n",
      "0   1.0e+00  1.0e+00  1.0e+00  0.00e+00   -5.000000000e-01  -5.000000000e-01  1.0e+00  0.04  \n",
      "1   1.9e-01  1.9e-01  8.5e-02  3.76e+00   -1.223602387e+00  -1.105450180e+00  1.9e-01  0.07  \n",
      "2   2.3e-03  2.3e-03  9.9e-05  1.57e+00   -9.994051801e-01  -9.982538187e-01  2.3e-03  0.08  \n",
      "3   1.4e-08  1.4e-08  1.4e-12  1.00e+00   -9.999999958e-01  -9.999999892e-01  1.4e-08  0.09  \n",
      "Optimizer terminated. Time: 0.10    \n",
      "\n",
      "\n",
      "Interior-point solution summary\n",
      "  Problem status  : PRIMAL_AND_DUAL_FEASIBLE\n",
      "  Solution status : OPTIMAL\n",
      "  Primal.  obj: -9.9999999584e-01   nrm: 2e-01    Viol.  con: 4e-09    var: 0e+00    barvar: 0e+00  \n",
      "  Dual.    obj: -9.9999998916e-01   nrm: 1e+00    Viol.  con: 0e+00    var: 4e-09    barvar: 4e-09  \n"
     ]
    },
    {
     "data": {
      "text/plain": [
       "0.999999995840394"
      ]
     },
     "execution_count": 15,
     "metadata": {},
     "output_type": "execute_result"
    }
   ],
   "source": [
    "Π_ = TP(Π_y0,I,I)\n",
    "\n",
    "prob = cp.Problem(cp.Maximize( cp.real(cp.trace(Π_ @Λ1@ Π_)) ), constraints)\n",
    "prob.solve(solver=cp.MOSEK,verbose=True)"
   ]
  },
  {
   "cell_type": "code",
   "execution_count": null,
   "metadata": {},
   "outputs": [],
   "source": [
    "\n",
    "# Λ = cp.Variable((100,100), hermitian=True)\n",
    "\n",
    "# #constraints = [Λ>>0]\n",
    "# #The non-trivial constraints\n",
    "\n",
    "# #trA_Λ=partial_trace(Λ,[2]*3,0) \n",
    "\n",
    "# # constraints=[Λ1 >> 0, Λ2 >> 0]\n",
    "# #constraints += [trA_Λ == np.eye(4)/4.0]\n",
    "# #constraints += [cp.trace(Λ)==1]\n",
    "\n",
    "\n",
    "# #Π_ = np.eye(8) #TP(Π_y0,I,I)\n",
    "\n",
    "# #prob = cp.Problem(cp.Maximize( cp.real(cp.trace(Π_ @ Λ @ Π_)) ), constraints)\n",
    "# #prob = cp.Problem(cp.Maximize( cp.real(cp.trace(Λ)) ), constraints)\n",
    "# prob = cp.Problem(cp.Maximize(0), constraints)\n",
    "# prob.solve(solver=cp.MOSEK,verbose=True)\n"
   ]
  },
  {
   "cell_type": "markdown",
   "metadata": {
    "heading_collapsed": true
   },
   "source": [
    "# Temporary"
   ]
  },
  {
   "cell_type": "code",
   "execution_count": null,
   "metadata": {
    "hidden": true
   },
   "outputs": [],
   "source": [
    "#Uttam Bhai's formula\n",
    "#उत्तम भाई\n",
    "\n",
    "for i in [True,False]:\n",
    "    for j in [True,False]:\n",
    "        for k in [True,False]:\n",
    "            print ((i or (j and k)), ((i or j) and (i or k)))            "
   ]
  },
  {
   "cell_type": "code",
   "execution_count": null,
   "metadata": {
    "hidden": true
   },
   "outputs": [],
   "source": []
  }
 ],
 "metadata": {
  "celltoolbar": "Initialization Cell",
  "kernelspec": {
   "display_name": "Python 3",
   "language": "python",
   "name": "python3"
  },
  "language_info": {
   "codemirror_mode": {
    "name": "ipython",
    "version": 3
   },
   "file_extension": ".py",
   "mimetype": "text/x-python",
   "name": "python",
   "nbconvert_exporter": "python",
   "pygments_lexer": "ipython3",
   "version": "3.6.10"
  },
  "toc": {
   "base_numbering": 1,
   "nav_menu": {},
   "number_sections": true,
   "sideBar": true,
   "skip_h1_title": false,
   "title_cell": "Table of Contents",
   "title_sidebar": "Contents",
   "toc_cell": false,
   "toc_position": {
    "height": "calc(100% - 180px)",
    "left": "10px",
    "top": "150px",
    "width": "165px"
   },
   "toc_section_display": true,
   "toc_window_display": true
  }
 },
 "nbformat": 4,
 "nbformat_minor": 2
}
