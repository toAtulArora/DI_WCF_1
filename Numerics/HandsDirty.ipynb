{
 "cells": [
  {
   "cell_type": "markdown",
   "metadata": {
    "heading_collapsed": true
   },
   "source": [
    "# \\[Ignore\\] Learning by Examples"
   ]
  },
  {
   "cell_type": "markdown",
   "metadata": {
    "hidden": true
   },
   "source": [
    "## Simple SDP solver"
   ]
  },
  {
   "cell_type": "code",
   "execution_count": 6,
   "metadata": {
    "hidden": true
   },
   "outputs": [
    {
     "name": "stdout",
     "output_type": "stream",
     "text": [
      "     pcost       dcost       gap    pres   dres   k/t\n",
      " 0:  1.5678e+00  1.5678e+00  9e+00  3e+00  4e-01  1e+00\n",
      " 1:  2.4030e+00  2.4911e+00  5e-01  3e-01  4e-02  2e-01\n",
      " 2:  2.6535e+00  2.6672e+00  7e-02  4e-02  5e-03  3e-02\n",
      " 3:  2.6456e+00  2.6514e+00  2e-02  1e-02  2e-03  1e-02\n",
      " 4:  2.6544e+00  2.6555e+00  5e-03  3e-03  4e-04  2e-03\n",
      " 5:  2.6540e+00  2.6542e+00  1e-03  7e-04  1e-04  5e-04\n",
      " 6:  2.6544e+00  2.6544e+00  3e-04  2e-04  2e-05  1e-04\n",
      " 7:  2.6543e+00  2.6543e+00  7e-05  4e-05  6e-06  3e-05\n",
      " 8:  2.6543e+00  2.6544e+00  2e-05  9e-06  1e-06  6e-06\n",
      " 9:  2.6543e+00  2.6543e+00  3e-06  2e-06  2e-07  1e-06\n",
      "10:  2.6543e+00  2.6543e+00  6e-07  3e-07  5e-08  2e-07\n",
      "11:  2.6543e+00  2.6543e+00  1e-07  5e-08  7e-09  3e-08\n",
      "Optimal solution found.\n",
      "The optimal value is 2.6543479996361037\n",
      "A solution X is\n",
      "[[ 1.60816352 -0.59785914 -0.69585439]\n",
      " [-0.59785914  0.22238688  0.24705027]\n",
      " [-0.69585439  0.24705027  1.3970322 ]]\n"
     ]
    }
   ],
   "source": [
    "import cvxpy as cp\n",
    "import numpy as np\n",
    "\n",
    "# Generate a random SDP.\n",
    "n = 3\n",
    "p = 3\n",
    "np.random.seed(1)\n",
    "C = np.random.randn(n, n)\n",
    "A = []\n",
    "b = []\n",
    "for i in range(p):\n",
    "    A.append(np.random.randn(n, n))\n",
    "    b.append(np.random.randn())\n",
    "\n",
    "# Define and solve the CVXPY problem.\n",
    "# Create a symmetric matrix variable.\n",
    "X = cp.Variable((n,n), symmetric=True)\n",
    "# The operator >> denotes matrix inequality.\n",
    "\n",
    "constraints = [X >> 0]\n",
    "constraints += [\n",
    "    cp.trace(A[i] @ X) == b[i] for i in range(p)\n",
    "]\n",
    "\n",
    "prob = cp.Problem(cp.Minimize(cp.trace(C @ X)),\n",
    "                  constraints)\n",
    "prob.solve(solver=cp.CVXOPT,verbose=True)\n",
    "\n",
    "# Print result.\n",
    "print(\"The optimal value is\", prob.value)\n",
    "print(\"A solution X is\")\n",
    "print(X.value)"
   ]
  },
  {
   "cell_type": "markdown",
   "metadata": {
    "heading_collapsed": true
   },
   "source": [
    "# \\[Ignore\\] Figuring how to use Tensor products"
   ]
  },
  {
   "cell_type": "code",
   "execution_count": 18,
   "metadata": {
    "hidden": true
   },
   "outputs": [],
   "source": [
    "from sympy.physics.quantum.qubit import Qubit\n",
    "from sympy.physics.quantum.dagger import Dagger\n",
    "from sympy.physics.quantum import TensorProduct\n",
    "import sympy.physics.quantum as sq\n",
    "import sympy as sp"
   ]
  },
  {
   "cell_type": "markdown",
   "metadata": {
    "hidden": true
   },
   "source": [
    "## Extending the functionality of sympy Quantum \n",
    "(imported from the swapKCBS project)"
   ]
  },
  {
   "cell_type": "markdown",
   "metadata": {
    "heading_collapsed": true,
    "hidden": true
   },
   "source": [
    "### Extending tensor"
   ]
  },
  {
   "cell_type": "code",
   "execution_count": 23,
   "metadata": {
    "hidden": true
   },
   "outputs": [],
   "source": [
    "\n",
    "def powerDrop(expr):\n",
    "    if isinstance(expr,sp.Pow): #TODO: make sure the base is not too complex\n",
    "        # print(\"PowerEncountered\")\n",
    "        if expr.exp>=2:\n",
    "            # print(\"glaba\")\n",
    "            # display(expr.base)\n",
    "            _=sq.qapply(sp.Mul(expr.base,expr.base))\n",
    "            if expr.exp>2:\n",
    "                return powerDrop(_*sp.Pow(expr.base,expr.exp-2))\n",
    "            else:\n",
    "                return _\n",
    "        else:\n",
    "            return expr #autoDropDim(sp.Mul(expr.base,expr.base))\n",
    "    else:\n",
    "        if expr.has(sp.Pow):\n",
    "            #if it is a sum or a product, run this function for each part and then combine the parts; return the result\n",
    "            if isinstance(expr,sp.Mul) or isinstance(expr,sp.Add) or isinstance(expr,sq.TensorProduct):\n",
    "                new_args=[] #list(expr.args)\n",
    "                for _ in expr.args:\n",
    "                    new_args.append(powerDrop(_))\n",
    "                if isinstance(expr,sp.Mul):        \n",
    "                    return sp.Mul(*new_args)\n",
    "                elif isinstance(expr,sp.Add):\n",
    "                    return sp.Add(*new_args)  \n",
    "                elif isinstance(expr,sq.TensorProduct):\n",
    "                    return sq.TensorProduct(*new_args)  \n",
    "\n",
    "            else:\n",
    "                return expr\n",
    "            #There would be no else here because tensor product simp would have removed that part\n",
    "        else:\n",
    "            return expr        \n",
    "    \n",
    "def autoDropDim(expr):\n",
    "    #print(\"Expression\")\n",
    "    #if isinstance(expr,sp.Mul):\n",
    "        #print(\"type:multiplier\")\n",
    "    #display(expr)\n",
    "    \n",
    "    \n",
    "    if isinstance(expr,sq.TensorProduct):\n",
    "        new_args=[]\n",
    "        for _ in expr.args:\n",
    "            #display(_)\n",
    "            #print(type(_))\n",
    "            if _ != sp.Integer(1):\n",
    "            #if not isinstance(_,core.numbers.One):\n",
    "                new_args.append(_)\n",
    "        #print(\"TensorProduct with %d non-ones in the tensor product\"%len(new_args))\n",
    "        if(len(new_args)==0):\n",
    "            return sp.Integer(1)\n",
    "        else:\n",
    "            return sq.TensorProduct(*new_args)\n",
    "    else:\n",
    "        if expr.has(sq.TensorProduct):\n",
    "            #if it is a sum or a product, run this function for each part and then combine the parts; return the result\n",
    "            if isinstance(expr,sp.Mul) or isinstance(expr,sp.Add):\n",
    "                new_args=[] #list(expr.args)\n",
    "                for _ in expr.args:\n",
    "                    new_args.append(autoDropDim(_))\n",
    "                if isinstance(expr,sp.Mul):        \n",
    "                    return sp.Mul(*new_args)\n",
    "                elif isinstance(expr,sp.Add):\n",
    "                    return sp.Add(*new_args)  \n",
    "                \n",
    "            #There would be no else here because tensor product simp would have removed that part\n",
    "        else:\n",
    "            return expr #when the expression is just an integer or some such\n",
    "\n",
    "\n",
    "        \n",
    "def tsimp(e,pruneMe=True):\n",
    "    res=sq.qapply(powerDrop(sq.tensorproduct.tensor_product_simp(sq.qapply(e)).doit()))\n",
    "    if pruneMe:\n",
    "        return prune(res)\n",
    "    else:\n",
    "        return res\n",
    "\n",
    "def tdsimp(e,pruneMe=True):\n",
    "    res=autoDropDim(sq.qapply(powerDrop(autoDropDim(sq.tensorproduct.tensor_product_simp(sq.qapply(e)).doit()))))\n",
    "    if pruneMe:\n",
    "        return prune(res)\n",
    "    else:\n",
    "        return res\n",
    "    #return autoDropDim(sq.tensorproduct.tensor_product_simp_Mul(e).doit())\n",
    "    #return autoDropDim(sq.tensorproduct.tensor_product_simp_Mul(sq.qapply(e)).doit())\n",
    "    #return autoDropDim(sq.tensorproduct.tensor_product_simp(e).doit())"
   ]
  },
  {
   "cell_type": "markdown",
   "metadata": {
    "heading_collapsed": true,
    "hidden": true
   },
   "source": [
    "### Prune"
   ]
  },
  {
   "cell_type": "code",
   "execution_count": 24,
   "metadata": {
    "hidden": true
   },
   "outputs": [],
   "source": [
    "def prune(expr,thr=10,remNum=False):\n",
    "    if isinstance(expr,sp.Number): \n",
    "        if remNum==False:\n",
    "            if sp.Abs(expr)<10**(-thr):\n",
    "                return sp.Integer(0)\n",
    "            else:\n",
    "                return expr\n",
    "        else:\n",
    "            return sp.Integer(1)\n",
    "    else:\n",
    "        if expr.has(sp.Number):\n",
    "            #if it is a sum or a product, run this function for each part and then combine the parts; return the result\n",
    "            if isinstance(expr,sp.Mul) or isinstance(expr,sp.Add) or isinstance(expr,sq.TensorProduct):\n",
    "                new_args=[] #list(expr.args)\n",
    "                for _ in expr.args:\n",
    "                    new_args.append(prune(_,thr,remNum))\n",
    "                if isinstance(expr,sp.Mul):        \n",
    "                    return sp.Mul(*new_args)\n",
    "                elif isinstance(expr,sp.Add):\n",
    "                    return sp.Add(*new_args)  \n",
    "                elif isinstance(expr,sq.TensorProduct):\n",
    "                    return sq.TensorProduct(*new_args)  \n",
    "\n",
    "            else:\n",
    "                return expr\n",
    "            #There would be no else here because tensor product simp would have removed that part\n",
    "        else:\n",
    "            return expr        \n",
    "\n",
    "# test=(A[0]*2)\n",
    "# test.has(sp.Number)\n",
    "# prune(test,remNum=True)"
   ]
  },
  {
   "cell_type": "markdown",
   "metadata": {
    "hidden": true
   },
   "source": [
    "## Testing now"
   ]
  },
  {
   "cell_type": "code",
   "execution_count": 25,
   "metadata": {
    "hidden": true
   },
   "outputs": [],
   "source": [
    "k0=Qubit(0)\n",
    "k1=Qubit(1)"
   ]
  },
  {
   "cell_type": "code",
   "execution_count": 35,
   "metadata": {
    "hidden": true
   },
   "outputs": [],
   "source": [
    "v=TensorProduct(k0,k1)\n",
    "w=TensorProduct(k1,k1)\n",
    "#sp.Integer(1)"
   ]
  },
  {
   "cell_type": "code",
   "execution_count": 36,
   "metadata": {
    "hidden": true
   },
   "outputs": [
    {
     "data": {
      "text/latex": [
       "$\\displaystyle {{\\left|1\\right\\rangle }}\\otimes {{\\left|1\\right\\rangle }}$"
      ],
      "text/plain": [
       "|1>x|1>"
      ]
     },
     "execution_count": 36,
     "metadata": {},
     "output_type": "execute_result"
    }
   ],
   "source": [
    "w"
   ]
  },
  {
   "cell_type": "code",
   "execution_count": 30,
   "metadata": {
    "hidden": true
   },
   "outputs": [
    {
     "data": {
      "text/latex": [
       "$\\displaystyle 1$"
      ],
      "text/plain": [
       "1"
      ]
     },
     "execution_count": 30,
     "metadata": {},
     "output_type": "execute_result"
    }
   ],
   "source": [
    "tdsimp(Dagger(v)*v)"
   ]
  },
  {
   "cell_type": "code",
   "execution_count": 31,
   "metadata": {
    "hidden": true
   },
   "outputs": [
    {
     "data": {
      "text/latex": [
       "$\\displaystyle 0$"
      ],
      "text/plain": [
       "0"
      ]
     },
     "execution_count": 31,
     "metadata": {},
     "output_type": "execute_result"
    }
   ],
   "source": [
    "tdsimp(Dagger(w)*v)"
   ]
  },
  {
   "cell_type": "markdown",
   "metadata": {},
   "source": [
    "# Libraries"
   ]
  },
  {
   "cell_type": "code",
   "execution_count": 5,
   "metadata": {
    "init_cell": true
   },
   "outputs": [],
   "source": [
    "from sympy.physics.quantum.qubit import Qubit\n",
    "from sympy.physics.quantum.dagger import Dagger\n",
    "from sympy.physics.quantum import TensorProduct as TP\n",
    "import sympy.physics.quantum as sq\n",
    "import sympy as sp\n",
    "\n",
    "\n",
    "import cvxpy as cp\n",
    "import numpy as np\n",
    "import itertools"
   ]
  },
  {
   "cell_type": "markdown",
   "metadata": {
    "heading_collapsed": true
   },
   "source": [
    "## Extending the tensor product functionality"
   ]
  },
  {
   "cell_type": "markdown",
   "metadata": {
    "heading_collapsed": true,
    "hidden": true
   },
   "source": [
    "### Prune"
   ]
  },
  {
   "cell_type": "code",
   "execution_count": 6,
   "metadata": {
    "hidden": true,
    "init_cell": true
   },
   "outputs": [],
   "source": [
    "def prune(expr,thr=10,remNum=False):\n",
    "    if isinstance(expr,sp.Number): \n",
    "        if remNum==False:\n",
    "            if sp.Abs(expr)<10**(-thr):\n",
    "                return sp.Integer(0)\n",
    "            else:\n",
    "                return expr\n",
    "        else:\n",
    "            return sp.Integer(1)\n",
    "    else:\n",
    "        if expr.has(sp.Number):\n",
    "            #if it is a sum or a product, run this function for each part and then combine the parts; return the result\n",
    "            if isinstance(expr,sp.Mul) or isinstance(expr,sp.Add) or isinstance(expr,sq.TensorProduct):\n",
    "                new_args=[] #list(expr.args)\n",
    "                for _ in expr.args:\n",
    "                    new_args.append(prune(_,thr,remNum))\n",
    "                if isinstance(expr,sp.Mul):        \n",
    "                    return sp.Mul(*new_args)\n",
    "                elif isinstance(expr,sp.Add):\n",
    "                    return sp.Add(*new_args)  \n",
    "                elif isinstance(expr,sq.TensorProduct):\n",
    "                    return sq.TensorProduct(*new_args)  \n",
    "\n",
    "            else:\n",
    "                return expr\n",
    "            #There would be no else here because tensor product simp would have removed that part\n",
    "        else:\n",
    "            return expr        \n",
    "\n",
    "# test=(A[0]*2)\n",
    "# test.has(sp.Number)\n",
    "# prune(test,remNum=True)"
   ]
  },
  {
   "cell_type": "markdown",
   "metadata": {
    "heading_collapsed": true,
    "hidden": true
   },
   "source": [
    "### Extending Tensor"
   ]
  },
  {
   "cell_type": "code",
   "execution_count": 7,
   "metadata": {
    "hidden": true,
    "init_cell": true
   },
   "outputs": [],
   "source": [
    "\n",
    "def powerDrop(expr):\n",
    "    if isinstance(expr,sp.Pow): #TODO: make sure the base is not too complex\n",
    "        # print(\"PowerEncountered\")\n",
    "        if expr.exp>=2:\n",
    "            # print(\"glaba\")\n",
    "            # display(expr.base)\n",
    "            _=sq.qapply(sp.Mul(expr.base,expr.base))\n",
    "            if expr.exp>2:\n",
    "                return powerDrop(_*sp.Pow(expr.base,expr.exp-2))\n",
    "            else:\n",
    "                return _\n",
    "        else:\n",
    "            return expr #autoDropDim(sp.Mul(expr.base,expr.base))\n",
    "    else:\n",
    "        if expr.has(sp.Pow):\n",
    "            #if it is a sum or a product, run this function for each part and then combine the parts; return the result\n",
    "            if isinstance(expr,sp.Mul) or isinstance(expr,sp.Add) or isinstance(expr,sq.TensorProduct):\n",
    "                new_args=[] #list(expr.args)\n",
    "                for _ in expr.args:\n",
    "                    new_args.append(powerDrop(_))\n",
    "                if isinstance(expr,sp.Mul):        \n",
    "                    return sp.Mul(*new_args)\n",
    "                elif isinstance(expr,sp.Add):\n",
    "                    return sp.Add(*new_args)  \n",
    "                elif isinstance(expr,sq.TensorProduct):\n",
    "                    return sq.TensorProduct(*new_args)  \n",
    "\n",
    "            else:\n",
    "                return expr\n",
    "            #There would be no else here because tensor product simp would have removed that part\n",
    "        else:\n",
    "            return expr        \n",
    "    \n",
    "def autoDropDim(expr):\n",
    "    #print(\"Expression\")\n",
    "    #if isinstance(expr,sp.Mul):\n",
    "        #print(\"type:multiplier\")\n",
    "    #display(expr)\n",
    "    \n",
    "    \n",
    "    if isinstance(expr,sq.TensorProduct):\n",
    "        new_args=[]\n",
    "        for _ in expr.args:\n",
    "            #display(_)\n",
    "            #print(type(_))\n",
    "            if _ != sp.Integer(1):\n",
    "            #if not isinstance(_,core.numbers.One):\n",
    "                new_args.append(_)\n",
    "        #print(\"TensorProduct with %d non-ones in the tensor product\"%len(new_args))\n",
    "        if(len(new_args)==0):\n",
    "            return sp.Integer(1)\n",
    "        else:\n",
    "            return sq.TensorProduct(*new_args)\n",
    "    else:\n",
    "        if expr.has(sq.TensorProduct):\n",
    "            #if it is a sum or a product, run this function for each part and then combine the parts; return the result\n",
    "            if isinstance(expr,sp.Mul) or isinstance(expr,sp.Add):\n",
    "                new_args=[] #list(expr.args)\n",
    "                for _ in expr.args:\n",
    "                    new_args.append(autoDropDim(_))\n",
    "                if isinstance(expr,sp.Mul):        \n",
    "                    return sp.Mul(*new_args)\n",
    "                elif isinstance(expr,sp.Add):\n",
    "                    return sp.Add(*new_args)  \n",
    "                \n",
    "            #There would be no else here because tensor product simp would have removed that part\n",
    "        else:\n",
    "            return expr #when the expression is just an integer or some such\n",
    "\n",
    "\n",
    "        \n",
    "def tsimp(e,pruneMe=True):\n",
    "    res=sq.qapply(powerDrop(sq.tensorproduct.tensor_product_simp(sq.qapply(e)).doit()))\n",
    "    if pruneMe:\n",
    "        return prune(res)\n",
    "    else:\n",
    "        return res\n",
    "\n",
    "def tdsimp(e,pruneMe=True):\n",
    "    res=autoDropDim(sq.qapply(powerDrop(autoDropDim(sq.tensorproduct.tensor_product_simp(sq.qapply(e)).doit()))))\n",
    "    if pruneMe:\n",
    "        return prune(res)\n",
    "    else:\n",
    "        return res\n",
    "    #return autoDropDim(sq.tensorproduct.tensor_product_simp_Mul(e).doit())\n",
    "    #return autoDropDim(sq.tensorproduct.tensor_product_simp_Mul(sq.qapply(e)).doit())\n",
    "    #return autoDropDim(sq.tensorproduct.tensor_product_simp(e).doit())"
   ]
  },
  {
   "cell_type": "markdown",
   "metadata": {},
   "source": [
    "## Convert a matrix from Sympy Quantum to Numpy"
   ]
  },
  {
   "cell_type": "code",
   "execution_count": 8,
   "metadata": {
    "init_cell": true
   },
   "outputs": [],
   "source": [
    "def rep(ρ):\n",
    "    return np.array(sq.represent(ρ)).astype(np.complex64)"
   ]
  },
  {
   "cell_type": "markdown",
   "metadata": {},
   "source": [
    "# Testing, stage 1"
   ]
  },
  {
   "cell_type": "markdown",
   "metadata": {},
   "source": [
    "## Define the problem, symbolically"
   ]
  },
  {
   "cell_type": "code",
   "execution_count": 30,
   "metadata": {},
   "outputs": [],
   "source": [
    "k0=Qubit(0)\n",
    "k1=Qubit(1)\n",
    "\n",
    "ρ=k0*Dagger(k0)\n",
    "\n",
    "ρ_=rep(ρ)"
   ]
  },
  {
   "cell_type": "code",
   "execution_count": 37,
   "metadata": {},
   "outputs": [
    {
     "name": "stdout",
     "output_type": "stream",
     "text": [
      "<class 'numpy.ndarray'>\n"
     ]
    },
    {
     "data": {
      "text/latex": [
       "$\\displaystyle {\\left|0\\right\\rangle }{\\left\\langle 0\\right|}$"
      ],
      "text/plain": [
       "|0><0|"
      ]
     },
     "metadata": {},
     "output_type": "display_data"
    },
    {
     "data": {
      "text/latex": [
       "$\\displaystyle \\left[\\begin{matrix}1 & 0\\\\0 & 0\\end{matrix}\\right]$"
      ],
      "text/plain": [
       "Matrix([\n",
       "[1, 0],\n",
       "[0, 0]])"
      ]
     },
     "metadata": {},
     "output_type": "display_data"
    },
    {
     "data": {
      "text/plain": [
       "array([[1., 0.],\n",
       "       [0., 0.]])"
      ]
     },
     "metadata": {},
     "output_type": "display_data"
    }
   ],
   "source": [
    "print(type(ρ_))\n",
    "display(ρ)\n",
    "display(sq.represent(ρ))\n",
    "display(ρ_)"
   ]
  },
  {
   "cell_type": "markdown",
   "metadata": {
    "heading_collapsed": true
   },
   "source": [
    "## Define the SDP and solve it"
   ]
  },
  {
   "cell_type": "code",
   "execution_count": 36,
   "metadata": {
    "hidden": true
   },
   "outputs": [
    {
     "name": "stdout",
     "output_type": "stream",
     "text": [
      "     pcost       dcost       gap    pres   dres   k/t\n",
      " 0: -5.0000e-01 -5.0000e-01  1e+00  2e-16  2e+00  1e+00\n",
      " 1: -7.6888e-01 -7.7110e-01  2e-01  2e-16  3e-01  2e-01\n",
      " 2: -9.9769e-01 -9.9802e-01  5e-03  1e-16  7e-03  3e-03\n",
      " 3: -9.9998e-01 -9.9998e-01  5e-05  2e-16  7e-05  3e-05\n",
      " 4: -1.0000e+00 -1.0000e+00  5e-07  2e-16  7e-07  3e-07\n",
      " 5: -1.0000e+00 -1.0000e+00  5e-09  2e-16  7e-09  3e-09\n",
      "Optimal solution found.\n"
     ]
    },
    {
     "data": {
      "text/plain": [
       "0.9999999976879534"
      ]
     },
     "execution_count": 36,
     "metadata": {},
     "output_type": "execute_result"
    }
   ],
   "source": [
    "#size of the problem\n",
    "n=2 #cp.Integer(2)\n",
    "#ρ_matr=\n",
    "\n",
    "#density matrix to optimize over\n",
    "ρ1 = cp.Variable((n,n), symmetric=True)\n",
    "\n",
    "#density matrix, so positive\n",
    "constraints = [ρ1 >> 0]\n",
    "constraints += [cp.trace(ρ1) == 1]\n",
    "\n",
    "prob = cp.Problem(cp.Maximize(cp.trace(ρ_ @ ρ1)), constraints)\n",
    "\n",
    "prob.solve(solver=cp.CVXOPT,verbose=True)\n",
    "\n",
    "                  \n",
    "#cp.trace(ρ_mat @ ρ1)),                  "
   ]
  },
  {
   "cell_type": "markdown",
   "metadata": {},
   "source": [
    "# DI CF with Alice testing rigidity + ET"
   ]
  },
  {
   "cell_type": "markdown",
   "metadata": {},
   "source": [
    "## Settings"
   ]
  },
  {
   "cell_type": "code",
   "execution_count": 9,
   "metadata": {
    "init_cell": true
   },
   "outputs": [],
   "source": [
    "verbose=True"
   ]
  },
  {
   "cell_type": "markdown",
   "metadata": {},
   "source": [
    "## Bare kets"
   ]
  },
  {
   "cell_type": "code",
   "execution_count": 10,
   "metadata": {
    "init_cell": true
   },
   "outputs": [],
   "source": [
    "# I am using an O and an L for denoting 0 and 1 (so visually they are similar and can still be variables in python)\n",
    "o=Qubit(0)\n",
    "l=Qubit(1)\n",
    "\n",
    "I = sp.Integer(1)\n",
    "\n",
    "D = Dagger\n",
    "\n",
    "ι = sp.I #ImaginaryUnit"
   ]
  },
  {
   "cell_type": "markdown",
   "metadata": {},
   "source": [
    "## Initial components of the state"
   ]
  },
  {
   "cell_type": "code",
   "execution_count": 11,
   "metadata": {
    "init_cell": true
   },
   "outputs": [
    {
     "data": {
      "text/latex": [
       "$\\displaystyle \\frac{\\sqrt{2} \\left({{\\left|0\\right\\rangle }}\\otimes {{\\left|0\\right\\rangle }}\\otimes {{\\left|0\\right\\rangle }} + {{\\left|1\\right\\rangle }}\\otimes {{\\left|1\\right\\rangle }}\\otimes {{\\left|1\\right\\rangle }}\\right)}{2}$"
      ],
      "text/plain": [
       "sqrt(2)*(|0>x|0>x|0> + |1>x|1>x|1>)/2"
      ]
     },
     "metadata": {},
     "output_type": "display_data"
    },
    {
     "data": {
      "text/latex": [
       "$\\displaystyle \\frac{{{\\left|0\\right\\rangle }}\\otimes {{\\left|0\\right\\rangle }}\\otimes {{\\left|1\\right\\rangle }}\\otimes {{\\left|0\\right\\rangle }}\\otimes {{\\left|1\\right\\rangle }} + {{\\left|0\\right\\rangle }}\\otimes {{\\left|1\\right\\rangle }}\\otimes {{\\left|0\\right\\rangle }}\\otimes {{\\left|1\\right\\rangle }}\\otimes {{\\left|0\\right\\rangle }} + {{\\left|1\\right\\rangle }}\\otimes {{\\left|0\\right\\rangle }}\\otimes {{\\left|0\\right\\rangle }}\\otimes {{\\left|0\\right\\rangle }}\\otimes {{\\left|0\\right\\rangle }} + {{\\left|1\\right\\rangle }}\\otimes {{\\left|1\\right\\rangle }}\\otimes {{\\left|1\\right\\rangle }}\\otimes {{\\left|1\\right\\rangle }}\\otimes {{\\left|1\\right\\rangle }}}{2}$"
      ],
      "text/plain": [
       "(|0>x|0>x|1>x|0>x|1> + |0>x|1>x|0>x|1>x|0> + |1>x|0>x|0>x|0>x|0> + |1>x|1>x|1>x|1>x|1>)/2"
      ]
     },
     "metadata": {},
     "output_type": "display_data"
    },
    {
     "data": {
      "text/latex": [
       "$\\displaystyle {{\\left|0\\right\\rangle }}\\otimes {{\\left|0\\right\\rangle }}\\otimes {{\\left|0\\right\\rangle }}$"
      ],
      "text/plain": [
       "|0>x|0>x|0>"
      ]
     },
     "metadata": {},
     "output_type": "display_data"
    },
    {
     "data": {
      "text/latex": [
       "$\\displaystyle \\frac{\\sqrt{2} \\left({\\left|0\\right\\rangle } + {\\left|1\\right\\rangle }\\right)}{2}$"
      ],
      "text/plain": [
       "sqrt(2)*(|0> + |1>)/2"
      ]
     },
     "metadata": {},
     "output_type": "display_data"
    },
    {
     "data": {
      "text/latex": [
       "$\\displaystyle \\frac{{{{\\left|0\\right\\rangle }}\\otimes {{\\left|0\\right\\rangle }}\\otimes {{\\left|0\\right\\rangle }}}\\otimes {{{\\left|0\\right\\rangle }}\\otimes {{\\left|0\\right\\rangle }}\\otimes {{\\left|1\\right\\rangle }}\\otimes {{\\left|0\\right\\rangle }}\\otimes {{\\left|1\\right\\rangle }}}\\otimes {{{\\left|0\\right\\rangle }}\\otimes {{\\left|0\\right\\rangle }}\\otimes {{\\left|0\\right\\rangle }}}\\otimes {{\\left|0\\right\\rangle }}}{4} + \\frac{{{{\\left|0\\right\\rangle }}\\otimes {{\\left|0\\right\\rangle }}\\otimes {{\\left|0\\right\\rangle }}}\\otimes {{{\\left|0\\right\\rangle }}\\otimes {{\\left|0\\right\\rangle }}\\otimes {{\\left|1\\right\\rangle }}\\otimes {{\\left|0\\right\\rangle }}\\otimes {{\\left|1\\right\\rangle }}}\\otimes {{{\\left|0\\right\\rangle }}\\otimes {{\\left|0\\right\\rangle }}\\otimes {{\\left|0\\right\\rangle }}}\\otimes {{\\left|1\\right\\rangle }}}{4} + \\frac{{{{\\left|0\\right\\rangle }}\\otimes {{\\left|0\\right\\rangle }}\\otimes {{\\left|0\\right\\rangle }}}\\otimes {{{\\left|0\\right\\rangle }}\\otimes {{\\left|1\\right\\rangle }}\\otimes {{\\left|0\\right\\rangle }}\\otimes {{\\left|1\\right\\rangle }}\\otimes {{\\left|0\\right\\rangle }}}\\otimes {{{\\left|0\\right\\rangle }}\\otimes {{\\left|0\\right\\rangle }}\\otimes {{\\left|0\\right\\rangle }}}\\otimes {{\\left|0\\right\\rangle }}}{4} + \\frac{{{{\\left|0\\right\\rangle }}\\otimes {{\\left|0\\right\\rangle }}\\otimes {{\\left|0\\right\\rangle }}}\\otimes {{{\\left|0\\right\\rangle }}\\otimes {{\\left|1\\right\\rangle }}\\otimes {{\\left|0\\right\\rangle }}\\otimes {{\\left|1\\right\\rangle }}\\otimes {{\\left|0\\right\\rangle }}}\\otimes {{{\\left|0\\right\\rangle }}\\otimes {{\\left|0\\right\\rangle }}\\otimes {{\\left|0\\right\\rangle }}}\\otimes {{\\left|1\\right\\rangle }}}{4} + \\frac{{{{\\left|0\\right\\rangle }}\\otimes {{\\left|0\\right\\rangle }}\\otimes {{\\left|0\\right\\rangle }}}\\otimes {{{\\left|1\\right\\rangle }}\\otimes {{\\left|0\\right\\rangle }}\\otimes {{\\left|0\\right\\rangle }}\\otimes {{\\left|0\\right\\rangle }}\\otimes {{\\left|0\\right\\rangle }}}\\otimes {{{\\left|0\\right\\rangle }}\\otimes {{\\left|0\\right\\rangle }}\\otimes {{\\left|0\\right\\rangle }}}\\otimes {{\\left|0\\right\\rangle }}}{4} + \\frac{{{{\\left|0\\right\\rangle }}\\otimes {{\\left|0\\right\\rangle }}\\otimes {{\\left|0\\right\\rangle }}}\\otimes {{{\\left|1\\right\\rangle }}\\otimes {{\\left|0\\right\\rangle }}\\otimes {{\\left|0\\right\\rangle }}\\otimes {{\\left|0\\right\\rangle }}\\otimes {{\\left|0\\right\\rangle }}}\\otimes {{{\\left|0\\right\\rangle }}\\otimes {{\\left|0\\right\\rangle }}\\otimes {{\\left|0\\right\\rangle }}}\\otimes {{\\left|1\\right\\rangle }}}{4} + \\frac{{{{\\left|0\\right\\rangle }}\\otimes {{\\left|0\\right\\rangle }}\\otimes {{\\left|0\\right\\rangle }}}\\otimes {{{\\left|1\\right\\rangle }}\\otimes {{\\left|1\\right\\rangle }}\\otimes {{\\left|1\\right\\rangle }}\\otimes {{\\left|1\\right\\rangle }}\\otimes {{\\left|1\\right\\rangle }}}\\otimes {{{\\left|0\\right\\rangle }}\\otimes {{\\left|0\\right\\rangle }}\\otimes {{\\left|0\\right\\rangle }}}\\otimes {{\\left|0\\right\\rangle }}}{4} + \\frac{{{{\\left|0\\right\\rangle }}\\otimes {{\\left|0\\right\\rangle }}\\otimes {{\\left|0\\right\\rangle }}}\\otimes {{{\\left|1\\right\\rangle }}\\otimes {{\\left|1\\right\\rangle }}\\otimes {{\\left|1\\right\\rangle }}\\otimes {{\\left|1\\right\\rangle }}\\otimes {{\\left|1\\right\\rangle }}}\\otimes {{{\\left|0\\right\\rangle }}\\otimes {{\\left|0\\right\\rangle }}\\otimes {{\\left|0\\right\\rangle }}}\\otimes {{\\left|1\\right\\rangle }}}{4} + \\frac{{{{\\left|1\\right\\rangle }}\\otimes {{\\left|1\\right\\rangle }}\\otimes {{\\left|1\\right\\rangle }}}\\otimes {{{\\left|0\\right\\rangle }}\\otimes {{\\left|0\\right\\rangle }}\\otimes {{\\left|1\\right\\rangle }}\\otimes {{\\left|0\\right\\rangle }}\\otimes {{\\left|1\\right\\rangle }}}\\otimes {{{\\left|0\\right\\rangle }}\\otimes {{\\left|0\\right\\rangle }}\\otimes {{\\left|0\\right\\rangle }}}\\otimes {{\\left|0\\right\\rangle }}}{4} + \\frac{{{{\\left|1\\right\\rangle }}\\otimes {{\\left|1\\right\\rangle }}\\otimes {{\\left|1\\right\\rangle }}}\\otimes {{{\\left|0\\right\\rangle }}\\otimes {{\\left|0\\right\\rangle }}\\otimes {{\\left|1\\right\\rangle }}\\otimes {{\\left|0\\right\\rangle }}\\otimes {{\\left|1\\right\\rangle }}}\\otimes {{{\\left|0\\right\\rangle }}\\otimes {{\\left|0\\right\\rangle }}\\otimes {{\\left|0\\right\\rangle }}}\\otimes {{\\left|1\\right\\rangle }}}{4} + \\frac{{{{\\left|1\\right\\rangle }}\\otimes {{\\left|1\\right\\rangle }}\\otimes {{\\left|1\\right\\rangle }}}\\otimes {{{\\left|0\\right\\rangle }}\\otimes {{\\left|1\\right\\rangle }}\\otimes {{\\left|0\\right\\rangle }}\\otimes {{\\left|1\\right\\rangle }}\\otimes {{\\left|0\\right\\rangle }}}\\otimes {{{\\left|0\\right\\rangle }}\\otimes {{\\left|0\\right\\rangle }}\\otimes {{\\left|0\\right\\rangle }}}\\otimes {{\\left|0\\right\\rangle }}}{4} + \\frac{{{{\\left|1\\right\\rangle }}\\otimes {{\\left|1\\right\\rangle }}\\otimes {{\\left|1\\right\\rangle }}}\\otimes {{{\\left|0\\right\\rangle }}\\otimes {{\\left|1\\right\\rangle }}\\otimes {{\\left|0\\right\\rangle }}\\otimes {{\\left|1\\right\\rangle }}\\otimes {{\\left|0\\right\\rangle }}}\\otimes {{{\\left|0\\right\\rangle }}\\otimes {{\\left|0\\right\\rangle }}\\otimes {{\\left|0\\right\\rangle }}}\\otimes {{\\left|1\\right\\rangle }}}{4} + \\frac{{{{\\left|1\\right\\rangle }}\\otimes {{\\left|1\\right\\rangle }}\\otimes {{\\left|1\\right\\rangle }}}\\otimes {{{\\left|1\\right\\rangle }}\\otimes {{\\left|0\\right\\rangle }}\\otimes {{\\left|0\\right\\rangle }}\\otimes {{\\left|0\\right\\rangle }}\\otimes {{\\left|0\\right\\rangle }}}\\otimes {{{\\left|0\\right\\rangle }}\\otimes {{\\left|0\\right\\rangle }}\\otimes {{\\left|0\\right\\rangle }}}\\otimes {{\\left|0\\right\\rangle }}}{4} + \\frac{{{{\\left|1\\right\\rangle }}\\otimes {{\\left|1\\right\\rangle }}\\otimes {{\\left|1\\right\\rangle }}}\\otimes {{{\\left|1\\right\\rangle }}\\otimes {{\\left|0\\right\\rangle }}\\otimes {{\\left|0\\right\\rangle }}\\otimes {{\\left|0\\right\\rangle }}\\otimes {{\\left|0\\right\\rangle }}}\\otimes {{{\\left|0\\right\\rangle }}\\otimes {{\\left|0\\right\\rangle }}\\otimes {{\\left|0\\right\\rangle }}}\\otimes {{\\left|1\\right\\rangle }}}{4} + \\frac{{{{\\left|1\\right\\rangle }}\\otimes {{\\left|1\\right\\rangle }}\\otimes {{\\left|1\\right\\rangle }}}\\otimes {{{\\left|1\\right\\rangle }}\\otimes {{\\left|1\\right\\rangle }}\\otimes {{\\left|1\\right\\rangle }}\\otimes {{\\left|1\\right\\rangle }}\\otimes {{\\left|1\\right\\rangle }}}\\otimes {{{\\left|0\\right\\rangle }}\\otimes {{\\left|0\\right\\rangle }}\\otimes {{\\left|0\\right\\rangle }}}\\otimes {{\\left|0\\right\\rangle }}}{4} + \\frac{{{{\\left|1\\right\\rangle }}\\otimes {{\\left|1\\right\\rangle }}\\otimes {{\\left|1\\right\\rangle }}}\\otimes {{{\\left|1\\right\\rangle }}\\otimes {{\\left|1\\right\\rangle }}\\otimes {{\\left|1\\right\\rangle }}\\otimes {{\\left|1\\right\\rangle }}\\otimes {{\\left|1\\right\\rangle }}}\\otimes {{{\\left|0\\right\\rangle }}\\otimes {{\\left|0\\right\\rangle }}\\otimes {{\\left|0\\right\\rangle }}}\\otimes {{\\left|1\\right\\rangle }}}{4}$"
      ],
      "text/plain": [
       "|0>x|0>x|0>x|0>x|0>x|1>x|0>x|1>x|0>x|0>x|0>x|0>/4 + |0>x|0>x|0>x|0>x|0>x|1>x|0>x|1>x|0>x|0>x|0>x|1>/4 + |0>x|0>x|0>x|0>x|1>x|0>x|1>x|0>x|0>x|0>x|0>x|0>/4 + |0>x|0>x|0>x|0>x|1>x|0>x|1>x|0>x|0>x|0>x|0>x|1>/4 + |0>x|0>x|0>x|1>x|0>x|0>x|0>x|0>x|0>x|0>x|0>x|0>/4 + |0>x|0>x|0>x|1>x|0>x|0>x|0>x|0>x|0>x|0>x|0>x|1>/4 + |0>x|0>x|0>x|1>x|1>x|1>x|1>x|1>x|0>x|0>x|0>x|0>/4 + |0>x|0>x|0>x|1>x|1>x|1>x|1>x|1>x|0>x|0>x|0>x|1>/4 + |1>x|1>x|1>x|0>x|0>x|1>x|0>x|1>x|0>x|0>x|0>x|0>/4 + |1>x|1>x|1>x|0>x|0>x|1>x|0>x|1>x|0>x|0>x|0>x|1>/4 + |1>x|1>x|1>x|0>x|1>x|0>x|1>x|0>x|0>x|0>x|0>x|0>/4 + |1>x|1>x|1>x|0>x|1>x|0>x|1>x|0>x|0>x|0>x|0>x|1>/4 + |1>x|1>x|1>x|1>x|0>x|0>x|0>x|0>x|0>x|0>x|0>x|0>/4 + |1>x|1>x|1>x|1>x|0>x|0>x|0>x|0>x|0>x|0>x|0>x|1>/4 + |1>x|1>x|1>x|1>x|1>x|1>x|1>x|1>x|0>x|0>x|0>x|0>/4 + |1>x|1>x|1>x|1>x|1>x|1>x|1>x|1>x|0>x|0>x|0>x|1>/4"
      ]
     },
     "metadata": {},
     "output_type": "display_data"
    }
   ],
   "source": [
    "\n",
    "#Convention\n",
    "# ABC X'Y'Z' Y'' Z'' A' S' S'' R' G' B' C'\n",
    "\n",
    "ψ_ABC=(TP(o,o,o) + TP(l,l,l))/sp.sqrt(2)\n",
    "display(ψ_ABC)\n",
    "\n",
    "ψ_XYZYZ=(TP(o,o,l,o,l) + TP(o,l,o,l,o) + TP(l,o,o,o,o) + TP(l,l,l,l,l))/sp.sqrt(4)\n",
    "display(ψ_XYZYZ)\n",
    "\n",
    "#No, I did not do this on purpose\n",
    "ψ_ASS = TP(o,o,o)\n",
    "display(ψ_ASS)\n",
    "\n",
    "#Random number\n",
    "ψ_R = (o + l )/sp.sqrt(2)\n",
    "display(ψ_R)\n",
    "\n",
    "ψ1=TP(ψ_ABC,ψ_XYZYZ,ψ_ASS,ψ_R)\n",
    "display(tdsimp(ψ1))"
   ]
  },
  {
   "cell_type": "markdown",
   "metadata": {},
   "source": [
    "## Unitary"
   ]
  },
  {
   "cell_type": "markdown",
   "metadata": {},
   "source": [
    "### Pauli X, projectors for measuring in Y and Z"
   ]
  },
  {
   "cell_type": "code",
   "execution_count": 12,
   "metadata": {
    "code_folding": [
     7
    ],
    "init_cell": true
   },
   "outputs": [
    {
     "data": {
      "text/latex": [
       "$\\displaystyle {\\left|0\\right\\rangle }{\\left\\langle 0\\right|}$"
      ],
      "text/plain": [
       "|0><0|"
      ]
     },
     "metadata": {},
     "output_type": "display_data"
    },
    {
     "data": {
      "text/latex": [
       "$\\displaystyle {\\left|1\\right\\rangle }{\\left\\langle 1\\right|}$"
      ],
      "text/plain": [
       "|1><1|"
      ]
     },
     "metadata": {},
     "output_type": "display_data"
    },
    {
     "data": {
      "text/latex": [
       "$\\displaystyle \\frac{\\left({\\left|0\\right\\rangle } + {\\left|1\\right\\rangle }\\right) \\left({\\left\\langle 0\\right|} + {\\left\\langle 1\\right|}\\right)}{2}$"
      ],
      "text/plain": [
       "(|0> + |1>)*(<0| + <1|)/2"
      ]
     },
     "metadata": {},
     "output_type": "display_data"
    },
    {
     "data": {
      "text/latex": [
       "$\\displaystyle \\frac{\\left({\\left|0\\right\\rangle } + {\\left|1\\right\\rangle }\\right) \\left({\\left\\langle 0\\right|} + {\\left\\langle 1\\right|}\\right)}{2}$"
      ],
      "text/plain": [
       "(|0> + |1>)*(<0| + <1|)/2"
      ]
     },
     "metadata": {},
     "output_type": "display_data"
    },
    {
     "data": {
      "text/latex": [
       "$\\displaystyle \\frac{\\left({\\left|0\\right\\rangle } + i {\\left|1\\right\\rangle }\\right) \\left({\\left\\langle 0\\right|} - i {\\left\\langle 1\\right|}\\right)}{2}$"
      ],
      "text/plain": [
       "(|0> + I*|1>)*(<0| - I*<1|)/2"
      ]
     },
     "metadata": {},
     "output_type": "display_data"
    },
    {
     "data": {
      "text/latex": [
       "$\\displaystyle \\frac{\\left({\\left|0\\right\\rangle } - i {\\left|1\\right\\rangle }\\right) \\left({\\left\\langle 0\\right|} + i {\\left\\langle 1\\right|}\\right)}{2}$"
      ],
      "text/plain": [
       "(|0> - I*|1>)*(<0| + I*<1|)/2"
      ]
     },
     "metadata": {},
     "output_type": "display_data"
    },
    {
     "data": {
      "text/latex": [
       "$\\displaystyle {\\left|0\\right\\rangle }{\\left\\langle 1\\right|} + {\\left|1\\right\\rangle }{\\left\\langle 0\\right|}$"
      ],
      "text/plain": [
       "|0><1| + |1><0|"
      ]
     },
     "metadata": {},
     "output_type": "display_data"
    }
   ],
   "source": [
    "#Convention\n",
    "# ABC X'Y'Z' Y'' Z'' A' S' S'' R' G' B' C'\n",
    "\n",
    "Π_z0 = o * D(o)\n",
    "Π_z1 = l * D(l)\n",
    "display(Π_z0,Π_z1)\n",
    "\n",
    "def Π_z(i):\n",
    "    if i==0:\n",
    "        return Π_z0\n",
    "    else:\n",
    "        return Π_z1\n",
    "\n",
    "x0 = (o + l)/sp.sqrt(2)\n",
    "x1 = (o + l)/sp.sqrt(2)\n",
    "\n",
    "Π_x0 = x0 * D(x0)\n",
    "Π_x1 = x1 * D(x1)\n",
    "display(Π_x0,Π_x1)\n",
    "\n",
    "y0 = (o + ι*l)/sp.sqrt(2)\n",
    "y1 = (o - ι*l)/sp.sqrt(2)\n",
    "\n",
    "Π_y0 = y0 * D(y0)\n",
    "Π_y1 = y1 * D(y1)\n",
    "display(Π_y0,Π_y1)\n",
    "#rep(y0)\n",
    "\n",
    "X_hat = o * D(l) + l *D(o)\n",
    "display(X_hat)"
   ]
  },
  {
   "cell_type": "markdown",
   "metadata": {},
   "source": [
    "### Assembling the Unitary and the projector"
   ]
  },
  {
   "cell_type": "code",
   "execution_count": 13,
   "metadata": {
    "init_cell": true,
    "scrolled": false
   },
   "outputs": [
    {
     "data": {
      "text/latex": [
       "$\\displaystyle \\left({1}\\otimes {1}\\otimes {1}\\otimes {{\\left|0\\right\\rangle }{\\left\\langle 0\\right|}}\\otimes {1}\\otimes {1}\\otimes {1}\\otimes {1}\\otimes {{\\left|0\\right\\rangle }{\\left\\langle 0\\right|}}\\otimes {1}\\otimes {1}\\otimes {{\\left|0\\right\\rangle }{\\left\\langle 0\\right|}}\\otimes {1}\\otimes {1}\\otimes {1} + {1}\\otimes {1}\\otimes {1}\\otimes {{\\left|0\\right\\rangle }{\\left\\langle 0\\right|}}\\otimes {1}\\otimes {1}\\otimes {1}\\otimes {1}\\otimes {{\\left|0\\right\\rangle }{\\left\\langle 0\\right|}}\\otimes {1}\\otimes {1}\\otimes {{\\left|1\\right\\rangle }{\\left\\langle 1\\right|}}\\otimes {1}\\otimes {1}\\otimes {1} + {1}\\otimes {1}\\otimes {1}\\otimes {{\\left|0\\right\\rangle }{\\left\\langle 0\\right|}}\\otimes {1}\\otimes {1}\\otimes {1}\\otimes {1}\\otimes {{\\left|1\\right\\rangle }{\\left\\langle 1\\right|}}\\otimes \\left({{\\left|0\\right\\rangle }{\\left\\langle 1\\right|} + {\\left|1\\right\\rangle }{\\left\\langle 0\\right|}}\\right)\\otimes \\left({{\\left|0\\right\\rangle }{\\left\\langle 1\\right|} + {\\left|1\\right\\rangle }{\\left\\langle 0\\right|}}\\right)\\otimes {{\\left|0\\right\\rangle }{\\left\\langle 0\\right|}}\\otimes {1}\\otimes {1}\\otimes {1} + {1}\\otimes {1}\\otimes {1}\\otimes {{\\left|0\\right\\rangle }{\\left\\langle 0\\right|}}\\otimes {1}\\otimes {1}\\otimes {1}\\otimes {1}\\otimes {{\\left|1\\right\\rangle }{\\left\\langle 1\\right|}}\\otimes \\left({{\\left|0\\right\\rangle }{\\left\\langle 1\\right|} + {\\left|1\\right\\rangle }{\\left\\langle 0\\right|}}\\right)\\otimes \\left({{\\left|0\\right\\rangle }{\\left\\langle 1\\right|} + {\\left|1\\right\\rangle }{\\left\\langle 0\\right|}}\\right)\\otimes {{\\left|1\\right\\rangle }{\\left\\langle 1\\right|}}\\otimes {1}\\otimes {1}\\otimes {1} + {1}\\otimes {1}\\otimes {1}\\otimes {{\\left|1\\right\\rangle }{\\left\\langle 1\\right|}}\\otimes {1}\\otimes {1}\\otimes {1}\\otimes {1}\\otimes {{\\left|0\\right\\rangle }{\\left\\langle 0\\right|}}\\otimes {1}\\otimes {1}\\otimes {{\\left|0\\right\\rangle }{\\left\\langle 0\\right|}}\\otimes {1}\\otimes {1}\\otimes {1} + {1}\\otimes {1}\\otimes {1}\\otimes {{\\left|1\\right\\rangle }{\\left\\langle 1\\right|}}\\otimes {1}\\otimes {1}\\otimes {1}\\otimes {1}\\otimes {{\\left|0\\right\\rangle }{\\left\\langle 0\\right|}}\\otimes \\left({{\\left|0\\right\\rangle }{\\left\\langle 1\\right|} + {\\left|1\\right\\rangle }{\\left\\langle 0\\right|}}\\right)\\otimes \\left({{\\left|0\\right\\rangle }{\\left\\langle 1\\right|} + {\\left|1\\right\\rangle }{\\left\\langle 0\\right|}}\\right)\\otimes {{\\left|1\\right\\rangle }{\\left\\langle 1\\right|}}\\otimes {1}\\otimes {1}\\otimes {1} + {1}\\otimes {1}\\otimes {1}\\otimes {{\\left|1\\right\\rangle }{\\left\\langle 1\\right|}}\\otimes {1}\\otimes {1}\\otimes {1}\\otimes {1}\\otimes {{\\left|1\\right\\rangle }{\\left\\langle 1\\right|}}\\otimes {1}\\otimes {1}\\otimes {{\\left|1\\right\\rangle }{\\left\\langle 1\\right|}}\\otimes {1}\\otimes {1}\\otimes {1} + {1}\\otimes {1}\\otimes {1}\\otimes {{\\left|1\\right\\rangle }{\\left\\langle 1\\right|}}\\otimes {1}\\otimes {1}\\otimes {1}\\otimes {1}\\otimes {{\\left|1\\right\\rangle }{\\left\\langle 1\\right|}}\\otimes \\left({{\\left|0\\right\\rangle }{\\left\\langle 1\\right|} + {\\left|1\\right\\rangle }{\\left\\langle 0\\right|}}\\right)\\otimes \\left({{\\left|0\\right\\rangle }{\\left\\langle 1\\right|} + {\\left|1\\right\\rangle }{\\left\\langle 0\\right|}}\\right)\\otimes {{\\left|0\\right\\rangle }{\\left\\langle 0\\right|}}\\otimes {1}\\otimes {1}\\otimes {1}\\right) \\left(\\frac{\\left({\\left({\\left|0\\right\\rangle } - i {\\left|1\\right\\rangle }\\right) \\left({\\left\\langle 0\\right|} + i {\\left\\langle 1\\right|}\\right)}\\right)\\otimes {1}\\otimes {1}\\otimes {{\\left|1\\right\\rangle }{\\left\\langle 1\\right|}}\\otimes {1}\\otimes {1}\\otimes {1}\\otimes {1}\\otimes \\left({{\\left|0\\right\\rangle }{\\left\\langle 1\\right|} + {\\left|1\\right\\rangle }{\\left\\langle 0\\right|}}\\right)\\otimes {1}\\otimes {1}\\otimes {1}\\otimes {1}\\otimes {1}\\otimes {1}}{2} + \\frac{\\left({\\left({\\left|0\\right\\rangle } + i {\\left|1\\right\\rangle }\\right) \\left({\\left\\langle 0\\right|} - i {\\left\\langle 1\\right|}\\right)}\\right)\\otimes {1}\\otimes {1}\\otimes {{\\left|1\\right\\rangle }{\\left\\langle 1\\right|}}\\otimes {1}\\otimes {1}\\otimes {1}\\otimes {1}\\otimes {1}\\otimes {1}\\otimes {1}\\otimes {1}\\otimes {1}\\otimes {1}\\otimes {1}}{2} + \\frac{\\left({\\left({\\left|0\\right\\rangle } + {\\left|1\\right\\rangle }\\right) \\left({\\left\\langle 0\\right|} + {\\left\\langle 1\\right|}\\right)}\\right)\\otimes {1}\\otimes {1}\\otimes {{\\left|0\\right\\rangle }{\\left\\langle 0\\right|}}\\otimes {1}\\otimes {1}\\otimes {1}\\otimes {1}\\otimes {1}\\otimes {1}\\otimes {1}\\otimes {1}\\otimes {1}\\otimes {1}\\otimes {1}}{2} + \\frac{\\left({\\left({\\left|0\\right\\rangle } + {\\left|1\\right\\rangle }\\right) \\left({\\left\\langle 0\\right|} + {\\left\\langle 1\\right|}\\right)}\\right)\\otimes {1}\\otimes {1}\\otimes {{\\left|0\\right\\rangle }{\\left\\langle 0\\right|}}\\otimes {1}\\otimes {1}\\otimes {1}\\otimes {1}\\otimes \\left({{\\left|0\\right\\rangle }{\\left\\langle 1\\right|} + {\\left|1\\right\\rangle }{\\left\\langle 0\\right|}}\\right)\\otimes {1}\\otimes {1}\\otimes {1}\\otimes {1}\\otimes {1}\\otimes {1}}{2}\\right)$"
      ],
      "text/plain": [
       "(1x1x1x|0><0|x1x1x1x1x|0><0|x1x1x|0><0|x1x1x1 + 1x1x1x|0><0|x1x1x1x1x|0><0|x1x1x|1><1|x1x1x1 + 1x1x1x|0><0|x1x1x1x1x|1><1|x(|0><1| + |1><0|)x(|0><1| + |1><0|)x|0><0|x1x1x1 + 1x1x1x|0><0|x1x1x1x1x|1><1|x(|0><1| + |1><0|)x(|0><1| + |1><0|)x|1><1|x1x1x1 + 1x1x1x|1><1|x1x1x1x1x|0><0|x1x1x|0><0|x1x1x1 + 1x1x1x|1><1|x1x1x1x1x|0><0|x(|0><1| + |1><0|)x(|0><1| + |1><0|)x|1><1|x1x1x1 + 1x1x1x|1><1|x1x1x1x1x|1><1|x1x1x|1><1|x1x1x1 + 1x1x1x|1><1|x1x1x1x1x|1><1|x(|0><1| + |1><0|)x(|0><1| + |1><0|)x|0><0|x1x1x1)*(((|0> - I*|1>)*(<0| + I*<1|))x1x1x|1><1|x1x1x1x1x(|0><1| + |1><0|)x1x1x1x1x1x1/2 + ((|0> + I*|1>)*(<0| - I*<1|))x1x1x|1><1|x1x1x1x1x1x1x1x1x1x1x1/2 + ((|0> + |1>)*(<0| + <1|))x1x1x|0><0|x1x1x1x1x1x1x1x1x1x1x1/2 + ((|0> + |1>)*(<0| + <1|))x1x1x|0><0|x1x1x1x1x(|0><1| + |1><0|)x1x1x1x1x1x1/2)"
      ]
     },
     "metadata": {},
     "output_type": "display_data"
    },
    {
     "name": "stdout",
     "output_type": "stream",
     "text": [
      "Constructed the unitary\n"
     ]
    },
    {
     "data": {
      "text/latex": [
       "$\\displaystyle \\frac{\\left({1}\\otimes {1}\\otimes {1}\\otimes {{\\left|0\\right\\rangle }{\\left\\langle 0\\right|}}\\otimes {1}\\otimes {1}\\otimes {1}\\otimes {1}\\otimes {{\\left|0\\right\\rangle }{\\left\\langle 0\\right|}}\\otimes {1}\\otimes {1}\\otimes {{\\left|0\\right\\rangle }{\\left\\langle 0\\right|}}\\otimes {1}\\otimes {1}\\otimes {1} + {1}\\otimes {1}\\otimes {1}\\otimes {{\\left|0\\right\\rangle }{\\left\\langle 0\\right|}}\\otimes {1}\\otimes {1}\\otimes {1}\\otimes {1}\\otimes {{\\left|0\\right\\rangle }{\\left\\langle 0\\right|}}\\otimes {1}\\otimes {1}\\otimes {{\\left|1\\right\\rangle }{\\left\\langle 1\\right|}}\\otimes {1}\\otimes {1}\\otimes {1} + {1}\\otimes {1}\\otimes {1}\\otimes {{\\left|0\\right\\rangle }{\\left\\langle 0\\right|}}\\otimes {1}\\otimes {1}\\otimes {1}\\otimes {1}\\otimes {{\\left|1\\right\\rangle }{\\left\\langle 1\\right|}}\\otimes \\left({{\\left|0\\right\\rangle }{\\left\\langle 1\\right|} + {\\left|1\\right\\rangle }{\\left\\langle 0\\right|}}\\right)\\otimes \\left({{\\left|0\\right\\rangle }{\\left\\langle 1\\right|} + {\\left|1\\right\\rangle }{\\left\\langle 0\\right|}}\\right)\\otimes {{\\left|0\\right\\rangle }{\\left\\langle 0\\right|}}\\otimes {1}\\otimes {1}\\otimes {1} + {1}\\otimes {1}\\otimes {1}\\otimes {{\\left|0\\right\\rangle }{\\left\\langle 0\\right|}}\\otimes {1}\\otimes {1}\\otimes {1}\\otimes {1}\\otimes {{\\left|1\\right\\rangle }{\\left\\langle 1\\right|}}\\otimes \\left({{\\left|0\\right\\rangle }{\\left\\langle 1\\right|} + {\\left|1\\right\\rangle }{\\left\\langle 0\\right|}}\\right)\\otimes \\left({{\\left|0\\right\\rangle }{\\left\\langle 1\\right|} + {\\left|1\\right\\rangle }{\\left\\langle 0\\right|}}\\right)\\otimes {{\\left|1\\right\\rangle }{\\left\\langle 1\\right|}}\\otimes {1}\\otimes {1}\\otimes {1} + {1}\\otimes {1}\\otimes {1}\\otimes {{\\left|1\\right\\rangle }{\\left\\langle 1\\right|}}\\otimes {1}\\otimes {1}\\otimes {1}\\otimes {1}\\otimes {{\\left|0\\right\\rangle }{\\left\\langle 0\\right|}}\\otimes {1}\\otimes {1}\\otimes {{\\left|0\\right\\rangle }{\\left\\langle 0\\right|}}\\otimes {1}\\otimes {1}\\otimes {1} + {1}\\otimes {1}\\otimes {1}\\otimes {{\\left|1\\right\\rangle }{\\left\\langle 1\\right|}}\\otimes {1}\\otimes {1}\\otimes {1}\\otimes {1}\\otimes {{\\left|0\\right\\rangle }{\\left\\langle 0\\right|}}\\otimes \\left({{\\left|0\\right\\rangle }{\\left\\langle 1\\right|} + {\\left|1\\right\\rangle }{\\left\\langle 0\\right|}}\\right)\\otimes \\left({{\\left|0\\right\\rangle }{\\left\\langle 1\\right|} + {\\left|1\\right\\rangle }{\\left\\langle 0\\right|}}\\right)\\otimes {{\\left|1\\right\\rangle }{\\left\\langle 1\\right|}}\\otimes {1}\\otimes {1}\\otimes {1} + {1}\\otimes {1}\\otimes {1}\\otimes {{\\left|1\\right\\rangle }{\\left\\langle 1\\right|}}\\otimes {1}\\otimes {1}\\otimes {1}\\otimes {1}\\otimes {{\\left|1\\right\\rangle }{\\left\\langle 1\\right|}}\\otimes {1}\\otimes {1}\\otimes {{\\left|1\\right\\rangle }{\\left\\langle 1\\right|}}\\otimes {1}\\otimes {1}\\otimes {1} + {1}\\otimes {1}\\otimes {1}\\otimes {{\\left|1\\right\\rangle }{\\left\\langle 1\\right|}}\\otimes {1}\\otimes {1}\\otimes {1}\\otimes {1}\\otimes {{\\left|1\\right\\rangle }{\\left\\langle 1\\right|}}\\otimes \\left({{\\left|0\\right\\rangle }{\\left\\langle 1\\right|} + {\\left|1\\right\\rangle }{\\left\\langle 0\\right|}}\\right)\\otimes \\left({{\\left|0\\right\\rangle }{\\left\\langle 1\\right|} + {\\left|1\\right\\rangle }{\\left\\langle 0\\right|}}\\right)\\otimes {{\\left|0\\right\\rangle }{\\left\\langle 0\\right|}}\\otimes {1}\\otimes {1}\\otimes {1}\\right) \\left(\\frac{\\left({\\left({\\left|0\\right\\rangle } - i {\\left|1\\right\\rangle }\\right) \\left({\\left\\langle 0\\right|} + i {\\left\\langle 1\\right|}\\right)}\\right)\\otimes {1}\\otimes {1}\\otimes {{\\left|1\\right\\rangle }{\\left\\langle 1\\right|}}\\otimes {1}\\otimes {1}\\otimes {1}\\otimes {1}\\otimes \\left({{\\left|0\\right\\rangle }{\\left\\langle 1\\right|} + {\\left|1\\right\\rangle }{\\left\\langle 0\\right|}}\\right)\\otimes {1}\\otimes {1}\\otimes {1}\\otimes {1}\\otimes {1}\\otimes {1}}{2} + \\frac{\\left({\\left({\\left|0\\right\\rangle } + i {\\left|1\\right\\rangle }\\right) \\left({\\left\\langle 0\\right|} - i {\\left\\langle 1\\right|}\\right)}\\right)\\otimes {1}\\otimes {1}\\otimes {{\\left|1\\right\\rangle }{\\left\\langle 1\\right|}}\\otimes {1}\\otimes {1}\\otimes {1}\\otimes {1}\\otimes {1}\\otimes {1}\\otimes {1}\\otimes {1}\\otimes {1}\\otimes {1}\\otimes {1}}{2} + \\frac{\\left({\\left({\\left|0\\right\\rangle } + {\\left|1\\right\\rangle }\\right) \\left({\\left\\langle 0\\right|} + {\\left\\langle 1\\right|}\\right)}\\right)\\otimes {1}\\otimes {1}\\otimes {{\\left|0\\right\\rangle }{\\left\\langle 0\\right|}}\\otimes {1}\\otimes {1}\\otimes {1}\\otimes {1}\\otimes {1}\\otimes {1}\\otimes {1}\\otimes {1}\\otimes {1}\\otimes {1}\\otimes {1}}{2} + \\frac{\\left({\\left({\\left|0\\right\\rangle } + {\\left|1\\right\\rangle }\\right) \\left({\\left\\langle 0\\right|} + {\\left\\langle 1\\right|}\\right)}\\right)\\otimes {1}\\otimes {1}\\otimes {{\\left|0\\right\\rangle }{\\left\\langle 0\\right|}}\\otimes {1}\\otimes {1}\\otimes {1}\\otimes {1}\\otimes \\left({{\\left|0\\right\\rangle }{\\left\\langle 1\\right|} + {\\left|1\\right\\rangle }{\\left\\langle 0\\right|}}\\right)\\otimes {1}\\otimes {1}\\otimes {1}\\otimes {1}\\otimes {1}\\otimes {1}}{2}\\right) \\left({{{\\left|0\\right\\rangle }}\\otimes {{\\left|0\\right\\rangle }}\\otimes {{\\left|0\\right\\rangle }} + {{\\left|1\\right\\rangle }}\\otimes {{\\left|1\\right\\rangle }}\\otimes {{\\left|1\\right\\rangle }}}\\right)\\otimes \\left({{{\\left|0\\right\\rangle }}\\otimes {{\\left|0\\right\\rangle }}\\otimes {{\\left|1\\right\\rangle }}\\otimes {{\\left|0\\right\\rangle }}\\otimes {{\\left|1\\right\\rangle }} + {{\\left|0\\right\\rangle }}\\otimes {{\\left|1\\right\\rangle }}\\otimes {{\\left|0\\right\\rangle }}\\otimes {{\\left|1\\right\\rangle }}\\otimes {{\\left|0\\right\\rangle }} + {{\\left|1\\right\\rangle }}\\otimes {{\\left|0\\right\\rangle }}\\otimes {{\\left|0\\right\\rangle }}\\otimes {{\\left|0\\right\\rangle }}\\otimes {{\\left|0\\right\\rangle }} + {{\\left|1\\right\\rangle }}\\otimes {{\\left|1\\right\\rangle }}\\otimes {{\\left|1\\right\\rangle }}\\otimes {{\\left|1\\right\\rangle }}\\otimes {{\\left|1\\right\\rangle }}}\\right)\\otimes {{{\\left|0\\right\\rangle }}\\otimes {{\\left|0\\right\\rangle }}\\otimes {{\\left|0\\right\\rangle }}}\\otimes \\left({{\\left|0\\right\\rangle } + {\\left|1\\right\\rangle }}\\right) \\left({{{\\left\\langle 0\\right|}}\\otimes {{\\left\\langle 0\\right|}}\\otimes {{\\left\\langle 0\\right|}} + {{\\left\\langle 1\\right|}}\\otimes {{\\left\\langle 1\\right|}}\\otimes {{\\left\\langle 1\\right|}}}\\right)\\otimes \\left({{{\\left\\langle 0\\right|}}\\otimes {{\\left\\langle 0\\right|}}\\otimes {{\\left\\langle 1\\right|}}\\otimes {{\\left\\langle 0\\right|}}\\otimes {{\\left\\langle 1\\right|}} + {{\\left\\langle 0\\right|}}\\otimes {{\\left\\langle 1\\right|}}\\otimes {{\\left\\langle 0\\right|}}\\otimes {{\\left\\langle 1\\right|}}\\otimes {{\\left\\langle 0\\right|}} + {{\\left\\langle 1\\right|}}\\otimes {{\\left\\langle 0\\right|}}\\otimes {{\\left\\langle 0\\right|}}\\otimes {{\\left\\langle 0\\right|}}\\otimes {{\\left\\langle 0\\right|}} + {{\\left\\langle 1\\right|}}\\otimes {{\\left\\langle 1\\right|}}\\otimes {{\\left\\langle 1\\right|}}\\otimes {{\\left\\langle 1\\right|}}\\otimes {{\\left\\langle 1\\right|}}}\\right)\\otimes {{{\\left\\langle 0\\right|}}\\otimes {{\\left\\langle 0\\right|}}\\otimes {{\\left\\langle 0\\right|}}}\\otimes \\left({{\\left\\langle 0\\right|} + {\\left\\langle 1\\right|}}\\right) \\left(\\frac{\\left({\\left({\\left|0\\right\\rangle } - i {\\left|1\\right\\rangle }\\right) \\left({\\left\\langle 0\\right|} + i {\\left\\langle 1\\right|}\\right)}\\right)\\otimes {1}\\otimes {1}\\otimes {{\\left|1\\right\\rangle }{\\left\\langle 1\\right|}}\\otimes {1}\\otimes {1}\\otimes {1}\\otimes {1}\\otimes \\left({{\\left|0\\right\\rangle }{\\left\\langle 1\\right|} + {\\left|1\\right\\rangle }{\\left\\langle 0\\right|}}\\right)\\otimes {1}\\otimes {1}\\otimes {1}\\otimes {1}\\otimes {1}\\otimes {1}}{2} + \\frac{\\left({\\left({\\left|0\\right\\rangle } + i {\\left|1\\right\\rangle }\\right) \\left({\\left\\langle 0\\right|} - i {\\left\\langle 1\\right|}\\right)}\\right)\\otimes {1}\\otimes {1}\\otimes {{\\left|1\\right\\rangle }{\\left\\langle 1\\right|}}\\otimes {1}\\otimes {1}\\otimes {1}\\otimes {1}\\otimes {1}\\otimes {1}\\otimes {1}\\otimes {1}\\otimes {1}\\otimes {1}\\otimes {1}}{2} + \\frac{\\left({\\left({\\left|0\\right\\rangle } + {\\left|1\\right\\rangle }\\right) \\left({\\left\\langle 0\\right|} + {\\left\\langle 1\\right|}\\right)}\\right)\\otimes {1}\\otimes {1}\\otimes {{\\left|0\\right\\rangle }{\\left\\langle 0\\right|}}\\otimes {1}\\otimes {1}\\otimes {1}\\otimes {1}\\otimes {1}\\otimes {1}\\otimes {1}\\otimes {1}\\otimes {1}\\otimes {1}\\otimes {1}}{2} + \\frac{\\left({\\left({\\left|0\\right\\rangle } + {\\left|1\\right\\rangle }\\right) \\left({\\left\\langle 0\\right|} + {\\left\\langle 1\\right|}\\right)}\\right)\\otimes {1}\\otimes {1}\\otimes {{\\left|0\\right\\rangle }{\\left\\langle 0\\right|}}\\otimes {1}\\otimes {1}\\otimes {1}\\otimes {1}\\otimes \\left({{\\left|0\\right\\rangle }{\\left\\langle 1\\right|} + {\\left|1\\right\\rangle }{\\left\\langle 0\\right|}}\\right)\\otimes {1}\\otimes {1}\\otimes {1}\\otimes {1}\\otimes {1}\\otimes {1}}{2}\\right) \\left({1}\\otimes {1}\\otimes {1}\\otimes {{\\left|0\\right\\rangle }{\\left\\langle 0\\right|}}\\otimes {1}\\otimes {1}\\otimes {1}\\otimes {1}\\otimes {{\\left|0\\right\\rangle }{\\left\\langle 0\\right|}}\\otimes {1}\\otimes {1}\\otimes {{\\left|0\\right\\rangle }{\\left\\langle 0\\right|}}\\otimes {1}\\otimes {1}\\otimes {1} + {1}\\otimes {1}\\otimes {1}\\otimes {{\\left|0\\right\\rangle }{\\left\\langle 0\\right|}}\\otimes {1}\\otimes {1}\\otimes {1}\\otimes {1}\\otimes {{\\left|0\\right\\rangle }{\\left\\langle 0\\right|}}\\otimes {1}\\otimes {1}\\otimes {{\\left|1\\right\\rangle }{\\left\\langle 1\\right|}}\\otimes {1}\\otimes {1}\\otimes {1} + {1}\\otimes {1}\\otimes {1}\\otimes {{\\left|0\\right\\rangle }{\\left\\langle 0\\right|}}\\otimes {1}\\otimes {1}\\otimes {1}\\otimes {1}\\otimes {{\\left|1\\right\\rangle }{\\left\\langle 1\\right|}}\\otimes \\left({{\\left|0\\right\\rangle }{\\left\\langle 1\\right|} + {\\left|1\\right\\rangle }{\\left\\langle 0\\right|}}\\right)\\otimes \\left({{\\left|0\\right\\rangle }{\\left\\langle 1\\right|} + {\\left|1\\right\\rangle }{\\left\\langle 0\\right|}}\\right)\\otimes {{\\left|0\\right\\rangle }{\\left\\langle 0\\right|}}\\otimes {1}\\otimes {1}\\otimes {1} + {1}\\otimes {1}\\otimes {1}\\otimes {{\\left|0\\right\\rangle }{\\left\\langle 0\\right|}}\\otimes {1}\\otimes {1}\\otimes {1}\\otimes {1}\\otimes {{\\left|1\\right\\rangle }{\\left\\langle 1\\right|}}\\otimes \\left({{\\left|0\\right\\rangle }{\\left\\langle 1\\right|} + {\\left|1\\right\\rangle }{\\left\\langle 0\\right|}}\\right)\\otimes \\left({{\\left|0\\right\\rangle }{\\left\\langle 1\\right|} + {\\left|1\\right\\rangle }{\\left\\langle 0\\right|}}\\right)\\otimes {{\\left|1\\right\\rangle }{\\left\\langle 1\\right|}}\\otimes {1}\\otimes {1}\\otimes {1} + {1}\\otimes {1}\\otimes {1}\\otimes {{\\left|1\\right\\rangle }{\\left\\langle 1\\right|}}\\otimes {1}\\otimes {1}\\otimes {1}\\otimes {1}\\otimes {{\\left|0\\right\\rangle }{\\left\\langle 0\\right|}}\\otimes {1}\\otimes {1}\\otimes {{\\left|0\\right\\rangle }{\\left\\langle 0\\right|}}\\otimes {1}\\otimes {1}\\otimes {1} + {1}\\otimes {1}\\otimes {1}\\otimes {{\\left|1\\right\\rangle }{\\left\\langle 1\\right|}}\\otimes {1}\\otimes {1}\\otimes {1}\\otimes {1}\\otimes {{\\left|0\\right\\rangle }{\\left\\langle 0\\right|}}\\otimes \\left({{\\left|0\\right\\rangle }{\\left\\langle 1\\right|} + {\\left|1\\right\\rangle }{\\left\\langle 0\\right|}}\\right)\\otimes \\left({{\\left|0\\right\\rangle }{\\left\\langle 1\\right|} + {\\left|1\\right\\rangle }{\\left\\langle 0\\right|}}\\right)\\otimes {{\\left|1\\right\\rangle }{\\left\\langle 1\\right|}}\\otimes {1}\\otimes {1}\\otimes {1} + {1}\\otimes {1}\\otimes {1}\\otimes {{\\left|1\\right\\rangle }{\\left\\langle 1\\right|}}\\otimes {1}\\otimes {1}\\otimes {1}\\otimes {1}\\otimes {{\\left|1\\right\\rangle }{\\left\\langle 1\\right|}}\\otimes {1}\\otimes {1}\\otimes {{\\left|1\\right\\rangle }{\\left\\langle 1\\right|}}\\otimes {1}\\otimes {1}\\otimes {1} + {1}\\otimes {1}\\otimes {1}\\otimes {{\\left|1\\right\\rangle }{\\left\\langle 1\\right|}}\\otimes {1}\\otimes {1}\\otimes {1}\\otimes {1}\\otimes {{\\left|1\\right\\rangle }{\\left\\langle 1\\right|}}\\otimes \\left({{\\left|0\\right\\rangle }{\\left\\langle 1\\right|} + {\\left|1\\right\\rangle }{\\left\\langle 0\\right|}}\\right)\\otimes \\left({{\\left|0\\right\\rangle }{\\left\\langle 1\\right|} + {\\left|1\\right\\rangle }{\\left\\langle 0\\right|}}\\right)\\otimes {{\\left|0\\right\\rangle }{\\left\\langle 0\\right|}}\\otimes {1}\\otimes {1}\\otimes {1}\\right)}{16}$"
      ],
      "text/plain": [
       "(1x1x1x|0><0|x1x1x1x1x|0><0|x1x1x|0><0|x1x1x1 + 1x1x1x|0><0|x1x1x1x1x|0><0|x1x1x|1><1|x1x1x1 + 1x1x1x|0><0|x1x1x1x1x|1><1|x(|0><1| + |1><0|)x(|0><1| + |1><0|)x|0><0|x1x1x1 + 1x1x1x|0><0|x1x1x1x1x|1><1|x(|0><1| + |1><0|)x(|0><1| + |1><0|)x|1><1|x1x1x1 + 1x1x1x|1><1|x1x1x1x1x|0><0|x1x1x|0><0|x1x1x1 + 1x1x1x|1><1|x1x1x1x1x|0><0|x(|0><1| + |1><0|)x(|0><1| + |1><0|)x|1><1|x1x1x1 + 1x1x1x|1><1|x1x1x1x1x|1><1|x1x1x|1><1|x1x1x1 + 1x1x1x|1><1|x1x1x1x1x|1><1|x(|0><1| + |1><0|)x(|0><1| + |1><0|)x|0><0|x1x1x1)*(((|0> - I*|1>)*(<0| + I*<1|))x1x1x|1><1|x1x1x1x1x(|0><1| + |1><0|)x1x1x1x1x1x1/2 + ((|0> + I*|1>)*(<0| - I*<1|))x1x1x|1><1|x1x1x1x1x1x1x1x1x1x1x1/2 + ((|0> + |1>)*(<0| + <1|))x1x1x|0><0|x1x1x1x1x1x1x1x1x1x1x1/2 + ((|0> + |1>)*(<0| + <1|))x1x1x|0><0|x1x1x1x1x(|0><1| + |1><0|)x1x1x1x1x1x1/2)*(|0>x|0>x|0> + |1>x|1>x|1>)x(|0>x|0>x|1>x|0>x|1> + |0>x|1>x|0>x|1>x|0> + |1>x|0>x|0>x|0>x|0> + |1>x|1>x|1>x|1>x|1>)x|0>x|0>x|0>x(|0> + |1>)*(<0|x<0|x<0| + <1|x<1|x<1|)x(<0|x<0|x<1|x<0|x<1| + <0|x<1|x<0|x<1|x<0| + <1|x<0|x<0|x<0|x<0| + <1|x<1|x<1|x<1|x<1|)x<0|x<0|x<0|x(<0| + <1|)*(((|0> - I*|1>)*(<0| + I*<1|))x1x1x|1><1|x1x1x1x1x(|0><1| + |1><0|)x1x1x1x1x1x1/2 + ((|0> + I*|1>)*(<0| - I*<1|))x1x1x|1><1|x1x1x1x1x1x1x1x1x1x1x1/2 + ((|0> + |1>)*(<0| + <1|))x1x1x|0><0|x1x1x1x1x1x1x1x1x1x1x1/2 + ((|0> + |1>)*(<0| + <1|))x1x1x|0><0|x1x1x1x1x(|0><1| + |1><0|)x1x1x1x1x1x1/2)*(1x1x1x|0><0|x1x1x1x1x|0><0|x1x1x|0><0|x1x1x1 + 1x1x1x|0><0|x1x1x1x1x|0><0|x1x1x|1><1|x1x1x1 + 1x1x1x|0><0|x1x1x1x1x|1><1|x(|0><1| + |1><0|)x(|0><1| + |1><0|)x|0><0|x1x1x1 + 1x1x1x|0><0|x1x1x1x1x|1><1|x(|0><1| + |1><0|)x(|0><1| + |1><0|)x|1><1|x1x1x1 + 1x1x1x|1><1|x1x1x1x1x|0><0|x1x1x|0><0|x1x1x1 + 1x1x1x|1><1|x1x1x1x1x|0><0|x(|0><1| + |1><0|)x(|0><1| + |1><0|)x|1><1|x1x1x1 + 1x1x1x|1><1|x1x1x1x1x|1><1|x1x1x|1><1|x1x1x1 + 1x1x1x|1><1|x1x1x1x1x|1><1|x(|0><1| + |1><0|)x(|0><1| + |1><0|)x|0><0|x1x1x1)/16"
      ]
     },
     "metadata": {},
     "output_type": "display_data"
    },
    {
     "data": {
      "text/latex": [
       "$\\displaystyle {1}\\otimes {1}\\otimes {1}\\otimes {{\\left|0\\right\\rangle }{\\left\\langle 0\\right|}}\\otimes {1}\\otimes {1}\\otimes {{\\left|0\\right\\rangle }{\\left\\langle 0\\right|}}\\otimes {{\\left|0\\right\\rangle }{\\left\\langle 0\\right|}}\\otimes {{\\left|0\\right\\rangle }{\\left\\langle 0\\right|}}\\otimes {1}\\otimes {1}\\otimes {1}\\otimes {{\\left|1\\right\\rangle }{\\left\\langle 1\\right|}}\\otimes {{\\left|0\\right\\rangle }{\\left\\langle 0\\right|}}\\otimes {{\\left|1\\right\\rangle }{\\left\\langle 1\\right|}} + {1}\\otimes {1}\\otimes {1}\\otimes {{\\left|0\\right\\rangle }{\\left\\langle 0\\right|}}\\otimes {1}\\otimes {1}\\otimes {{\\left|0\\right\\rangle }{\\left\\langle 0\\right|}}\\otimes {{\\left|0\\right\\rangle }{\\left\\langle 0\\right|}}\\otimes {{\\left|0\\right\\rangle }{\\left\\langle 0\\right|}}\\otimes {1}\\otimes {1}\\otimes {1}\\otimes {{\\left|1\\right\\rangle }{\\left\\langle 1\\right|}}\\otimes {{\\left|1\\right\\rangle }{\\left\\langle 1\\right|}}\\otimes {{\\left|0\\right\\rangle }{\\left\\langle 0\\right|}} + {1}\\otimes {1}\\otimes {1}\\otimes {{\\left|0\\right\\rangle }{\\left\\langle 0\\right|}}\\otimes {1}\\otimes {1}\\otimes {{\\left|0\\right\\rangle }{\\left\\langle 0\\right|}}\\otimes {{\\left|0\\right\\rangle }{\\left\\langle 0\\right|}}\\otimes {{\\left|1\\right\\rangle }{\\left\\langle 1\\right|}}\\otimes {1}\\otimes {1}\\otimes {1}\\otimes {{\\left|1\\right\\rangle }{\\left\\langle 1\\right|}}\\otimes {{\\left|0\\right\\rangle }{\\left\\langle 0\\right|}}\\otimes {{\\left|0\\right\\rangle }{\\left\\langle 0\\right|}} + {1}\\otimes {1}\\otimes {1}\\otimes {{\\left|0\\right\\rangle }{\\left\\langle 0\\right|}}\\otimes {1}\\otimes {1}\\otimes {{\\left|0\\right\\rangle }{\\left\\langle 0\\right|}}\\otimes {{\\left|0\\right\\rangle }{\\left\\langle 0\\right|}}\\otimes {{\\left|1\\right\\rangle }{\\left\\langle 1\\right|}}\\otimes {1}\\otimes {1}\\otimes {1}\\otimes {{\\left|1\\right\\rangle }{\\left\\langle 1\\right|}}\\otimes {{\\left|1\\right\\rangle }{\\left\\langle 1\\right|}}\\otimes {{\\left|1\\right\\rangle }{\\left\\langle 1\\right|}} + {1}\\otimes {1}\\otimes {1}\\otimes {{\\left|0\\right\\rangle }{\\left\\langle 0\\right|}}\\otimes {1}\\otimes {1}\\otimes {{\\left|0\\right\\rangle }{\\left\\langle 0\\right|}}\\otimes {{\\left|1\\right\\rangle }{\\left\\langle 1\\right|}}\\otimes {{\\left|0\\right\\rangle }{\\left\\langle 0\\right|}}\\otimes {1}\\otimes {1}\\otimes {1}\\otimes {{\\left|1\\right\\rangle }{\\left\\langle 1\\right|}}\\otimes {{\\left|0\\right\\rangle }{\\left\\langle 0\\right|}}\\otimes {{\\left|1\\right\\rangle }{\\left\\langle 1\\right|}} + {1}\\otimes {1}\\otimes {1}\\otimes {{\\left|0\\right\\rangle }{\\left\\langle 0\\right|}}\\otimes {1}\\otimes {1}\\otimes {{\\left|0\\right\\rangle }{\\left\\langle 0\\right|}}\\otimes {{\\left|1\\right\\rangle }{\\left\\langle 1\\right|}}\\otimes {{\\left|0\\right\\rangle }{\\left\\langle 0\\right|}}\\otimes {1}\\otimes {1}\\otimes {1}\\otimes {{\\left|1\\right\\rangle }{\\left\\langle 1\\right|}}\\otimes {{\\left|1\\right\\rangle }{\\left\\langle 1\\right|}}\\otimes {{\\left|0\\right\\rangle }{\\left\\langle 0\\right|}} + {1}\\otimes {1}\\otimes {1}\\otimes {{\\left|0\\right\\rangle }{\\left\\langle 0\\right|}}\\otimes {1}\\otimes {1}\\otimes {{\\left|0\\right\\rangle }{\\left\\langle 0\\right|}}\\otimes {{\\left|1\\right\\rangle }{\\left\\langle 1\\right|}}\\otimes {{\\left|1\\right\\rangle }{\\left\\langle 1\\right|}}\\otimes {1}\\otimes {1}\\otimes {1}\\otimes {{\\left|1\\right\\rangle }{\\left\\langle 1\\right|}}\\otimes {{\\left|0\\right\\rangle }{\\left\\langle 0\\right|}}\\otimes {{\\left|0\\right\\rangle }{\\left\\langle 0\\right|}} + {1}\\otimes {1}\\otimes {1}\\otimes {{\\left|0\\right\\rangle }{\\left\\langle 0\\right|}}\\otimes {1}\\otimes {1}\\otimes {{\\left|0\\right\\rangle }{\\left\\langle 0\\right|}}\\otimes {{\\left|1\\right\\rangle }{\\left\\langle 1\\right|}}\\otimes {{\\left|1\\right\\rangle }{\\left\\langle 1\\right|}}\\otimes {1}\\otimes {1}\\otimes {1}\\otimes {{\\left|1\\right\\rangle }{\\left\\langle 1\\right|}}\\otimes {{\\left|1\\right\\rangle }{\\left\\langle 1\\right|}}\\otimes {{\\left|1\\right\\rangle }{\\left\\langle 1\\right|}} + {1}\\otimes {1}\\otimes {1}\\otimes {{\\left|0\\right\\rangle }{\\left\\langle 0\\right|}}\\otimes {1}\\otimes {1}\\otimes {{\\left|1\\right\\rangle }{\\left\\langle 1\\right|}}\\otimes {{\\left|0\\right\\rangle }{\\left\\langle 0\\right|}}\\otimes {{\\left|0\\right\\rangle }{\\left\\langle 0\\right|}}\\otimes {1}\\otimes {1}\\otimes {1}\\otimes {{\\left|1\\right\\rangle }{\\left\\langle 1\\right|}}\\otimes {{\\left|0\\right\\rangle }{\\left\\langle 0\\right|}}\\otimes {{\\left|1\\right\\rangle }{\\left\\langle 1\\right|}} + {1}\\otimes {1}\\otimes {1}\\otimes {{\\left|0\\right\\rangle }{\\left\\langle 0\\right|}}\\otimes {1}\\otimes {1}\\otimes {{\\left|1\\right\\rangle }{\\left\\langle 1\\right|}}\\otimes {{\\left|0\\right\\rangle }{\\left\\langle 0\\right|}}\\otimes {{\\left|0\\right\\rangle }{\\left\\langle 0\\right|}}\\otimes {1}\\otimes {1}\\otimes {1}\\otimes {{\\left|1\\right\\rangle }{\\left\\langle 1\\right|}}\\otimes {{\\left|1\\right\\rangle }{\\left\\langle 1\\right|}}\\otimes {{\\left|0\\right\\rangle }{\\left\\langle 0\\right|}} + {1}\\otimes {1}\\otimes {1}\\otimes {{\\left|0\\right\\rangle }{\\left\\langle 0\\right|}}\\otimes {1}\\otimes {1}\\otimes {{\\left|1\\right\\rangle }{\\left\\langle 1\\right|}}\\otimes {{\\left|0\\right\\rangle }{\\left\\langle 0\\right|}}\\otimes {{\\left|1\\right\\rangle }{\\left\\langle 1\\right|}}\\otimes {1}\\otimes {1}\\otimes {1}\\otimes {{\\left|1\\right\\rangle }{\\left\\langle 1\\right|}}\\otimes {{\\left|0\\right\\rangle }{\\left\\langle 0\\right|}}\\otimes {{\\left|0\\right\\rangle }{\\left\\langle 0\\right|}} + {1}\\otimes {1}\\otimes {1}\\otimes {{\\left|0\\right\\rangle }{\\left\\langle 0\\right|}}\\otimes {1}\\otimes {1}\\otimes {{\\left|1\\right\\rangle }{\\left\\langle 1\\right|}}\\otimes {{\\left|0\\right\\rangle }{\\left\\langle 0\\right|}}\\otimes {{\\left|1\\right\\rangle }{\\left\\langle 1\\right|}}\\otimes {1}\\otimes {1}\\otimes {1}\\otimes {{\\left|1\\right\\rangle }{\\left\\langle 1\\right|}}\\otimes {{\\left|1\\right\\rangle }{\\left\\langle 1\\right|}}\\otimes {{\\left|1\\right\\rangle }{\\left\\langle 1\\right|}} + {1}\\otimes {1}\\otimes {1}\\otimes {{\\left|0\\right\\rangle }{\\left\\langle 0\\right|}}\\otimes {1}\\otimes {1}\\otimes {{\\left|1\\right\\rangle }{\\left\\langle 1\\right|}}\\otimes {{\\left|1\\right\\rangle }{\\left\\langle 1\\right|}}\\otimes {{\\left|0\\right\\rangle }{\\left\\langle 0\\right|}}\\otimes {1}\\otimes {1}\\otimes {1}\\otimes {{\\left|1\\right\\rangle }{\\left\\langle 1\\right|}}\\otimes {{\\left|0\\right\\rangle }{\\left\\langle 0\\right|}}\\otimes {{\\left|1\\right\\rangle }{\\left\\langle 1\\right|}} + {1}\\otimes {1}\\otimes {1}\\otimes {{\\left|0\\right\\rangle }{\\left\\langle 0\\right|}}\\otimes {1}\\otimes {1}\\otimes {{\\left|1\\right\\rangle }{\\left\\langle 1\\right|}}\\otimes {{\\left|1\\right\\rangle }{\\left\\langle 1\\right|}}\\otimes {{\\left|0\\right\\rangle }{\\left\\langle 0\\right|}}\\otimes {1}\\otimes {1}\\otimes {1}\\otimes {{\\left|1\\right\\rangle }{\\left\\langle 1\\right|}}\\otimes {{\\left|1\\right\\rangle }{\\left\\langle 1\\right|}}\\otimes {{\\left|0\\right\\rangle }{\\left\\langle 0\\right|}} + {1}\\otimes {1}\\otimes {1}\\otimes {{\\left|0\\right\\rangle }{\\left\\langle 0\\right|}}\\otimes {1}\\otimes {1}\\otimes {{\\left|1\\right\\rangle }{\\left\\langle 1\\right|}}\\otimes {{\\left|1\\right\\rangle }{\\left\\langle 1\\right|}}\\otimes {{\\left|1\\right\\rangle }{\\left\\langle 1\\right|}}\\otimes {1}\\otimes {1}\\otimes {1}\\otimes {{\\left|1\\right\\rangle }{\\left\\langle 1\\right|}}\\otimes {{\\left|0\\right\\rangle }{\\left\\langle 0\\right|}}\\otimes {{\\left|0\\right\\rangle }{\\left\\langle 0\\right|}} + {1}\\otimes {1}\\otimes {1}\\otimes {{\\left|0\\right\\rangle }{\\left\\langle 0\\right|}}\\otimes {1}\\otimes {1}\\otimes {{\\left|1\\right\\rangle }{\\left\\langle 1\\right|}}\\otimes {{\\left|1\\right\\rangle }{\\left\\langle 1\\right|}}\\otimes {{\\left|1\\right\\rangle }{\\left\\langle 1\\right|}}\\otimes {1}\\otimes {1}\\otimes {1}\\otimes {{\\left|1\\right\\rangle }{\\left\\langle 1\\right|}}\\otimes {{\\left|1\\right\\rangle }{\\left\\langle 1\\right|}}\\otimes {{\\left|1\\right\\rangle }{\\left\\langle 1\\right|}} + {1}\\otimes {1}\\otimes {1}\\otimes {{\\left|1\\right\\rangle }{\\left\\langle 1\\right|}}\\otimes {1}\\otimes {1}\\otimes {{\\left|0\\right\\rangle }{\\left\\langle 0\\right|}}\\otimes {{\\left|0\\right\\rangle }{\\left\\langle 0\\right|}}\\otimes {{\\left|0\\right\\rangle }{\\left\\langle 0\\right|}}\\otimes {1}\\otimes {1}\\otimes {1}\\otimes {{\\left|0\\right\\rangle }{\\left\\langle 0\\right|}}\\otimes {{\\left|0\\right\\rangle }{\\left\\langle 0\\right|}}\\otimes {{\\left|1\\right\\rangle }{\\left\\langle 1\\right|}} + {1}\\otimes {1}\\otimes {1}\\otimes {{\\left|1\\right\\rangle }{\\left\\langle 1\\right|}}\\otimes {1}\\otimes {1}\\otimes {{\\left|0\\right\\rangle }{\\left\\langle 0\\right|}}\\otimes {{\\left|0\\right\\rangle }{\\left\\langle 0\\right|}}\\otimes {{\\left|0\\right\\rangle }{\\left\\langle 0\\right|}}\\otimes {1}\\otimes {1}\\otimes {1}\\otimes {{\\left|0\\right\\rangle }{\\left\\langle 0\\right|}}\\otimes {{\\left|1\\right\\rangle }{\\left\\langle 1\\right|}}\\otimes {{\\left|0\\right\\rangle }{\\left\\langle 0\\right|}} + {1}\\otimes {1}\\otimes {1}\\otimes {{\\left|1\\right\\rangle }{\\left\\langle 1\\right|}}\\otimes {1}\\otimes {1}\\otimes {{\\left|0\\right\\rangle }{\\left\\langle 0\\right|}}\\otimes {{\\left|0\\right\\rangle }{\\left\\langle 0\\right|}}\\otimes {{\\left|1\\right\\rangle }{\\left\\langle 1\\right|}}\\otimes {1}\\otimes {1}\\otimes {1}\\otimes {{\\left|0\\right\\rangle }{\\left\\langle 0\\right|}}\\otimes {{\\left|0\\right\\rangle }{\\left\\langle 0\\right|}}\\otimes {{\\left|0\\right\\rangle }{\\left\\langle 0\\right|}} + {1}\\otimes {1}\\otimes {1}\\otimes {{\\left|1\\right\\rangle }{\\left\\langle 1\\right|}}\\otimes {1}\\otimes {1}\\otimes {{\\left|0\\right\\rangle }{\\left\\langle 0\\right|}}\\otimes {{\\left|0\\right\\rangle }{\\left\\langle 0\\right|}}\\otimes {{\\left|1\\right\\rangle }{\\left\\langle 1\\right|}}\\otimes {1}\\otimes {1}\\otimes {1}\\otimes {{\\left|0\\right\\rangle }{\\left\\langle 0\\right|}}\\otimes {{\\left|1\\right\\rangle }{\\left\\langle 1\\right|}}\\otimes {{\\left|1\\right\\rangle }{\\left\\langle 1\\right|}} + {1}\\otimes {1}\\otimes {1}\\otimes {{\\left|1\\right\\rangle }{\\left\\langle 1\\right|}}\\otimes {1}\\otimes {1}\\otimes {{\\left|0\\right\\rangle }{\\left\\langle 0\\right|}}\\otimes {{\\left|1\\right\\rangle }{\\left\\langle 1\\right|}}\\otimes {{\\left|0\\right\\rangle }{\\left\\langle 0\\right|}}\\otimes {1}\\otimes {1}\\otimes {1}\\otimes {{\\left|0\\right\\rangle }{\\left\\langle 0\\right|}}\\otimes {{\\left|0\\right\\rangle }{\\left\\langle 0\\right|}}\\otimes {{\\left|1\\right\\rangle }{\\left\\langle 1\\right|}} + {1}\\otimes {1}\\otimes {1}\\otimes {{\\left|1\\right\\rangle }{\\left\\langle 1\\right|}}\\otimes {1}\\otimes {1}\\otimes {{\\left|0\\right\\rangle }{\\left\\langle 0\\right|}}\\otimes {{\\left|1\\right\\rangle }{\\left\\langle 1\\right|}}\\otimes {{\\left|0\\right\\rangle }{\\left\\langle 0\\right|}}\\otimes {1}\\otimes {1}\\otimes {1}\\otimes {{\\left|0\\right\\rangle }{\\left\\langle 0\\right|}}\\otimes {{\\left|1\\right\\rangle }{\\left\\langle 1\\right|}}\\otimes {{\\left|0\\right\\rangle }{\\left\\langle 0\\right|}} + {1}\\otimes {1}\\otimes {1}\\otimes {{\\left|1\\right\\rangle }{\\left\\langle 1\\right|}}\\otimes {1}\\otimes {1}\\otimes {{\\left|0\\right\\rangle }{\\left\\langle 0\\right|}}\\otimes {{\\left|1\\right\\rangle }{\\left\\langle 1\\right|}}\\otimes {{\\left|1\\right\\rangle }{\\left\\langle 1\\right|}}\\otimes {1}\\otimes {1}\\otimes {1}\\otimes {{\\left|0\\right\\rangle }{\\left\\langle 0\\right|}}\\otimes {{\\left|0\\right\\rangle }{\\left\\langle 0\\right|}}\\otimes {{\\left|0\\right\\rangle }{\\left\\langle 0\\right|}} + {1}\\otimes {1}\\otimes {1}\\otimes {{\\left|1\\right\\rangle }{\\left\\langle 1\\right|}}\\otimes {1}\\otimes {1}\\otimes {{\\left|0\\right\\rangle }{\\left\\langle 0\\right|}}\\otimes {{\\left|1\\right\\rangle }{\\left\\langle 1\\right|}}\\otimes {{\\left|1\\right\\rangle }{\\left\\langle 1\\right|}}\\otimes {1}\\otimes {1}\\otimes {1}\\otimes {{\\left|0\\right\\rangle }{\\left\\langle 0\\right|}}\\otimes {{\\left|1\\right\\rangle }{\\left\\langle 1\\right|}}\\otimes {{\\left|1\\right\\rangle }{\\left\\langle 1\\right|}} + {1}\\otimes {1}\\otimes {1}\\otimes {{\\left|1\\right\\rangle }{\\left\\langle 1\\right|}}\\otimes {1}\\otimes {1}\\otimes {{\\left|1\\right\\rangle }{\\left\\langle 1\\right|}}\\otimes {{\\left|0\\right\\rangle }{\\left\\langle 0\\right|}}\\otimes {{\\left|0\\right\\rangle }{\\left\\langle 0\\right|}}\\otimes {1}\\otimes {1}\\otimes {1}\\otimes {{\\left|0\\right\\rangle }{\\left\\langle 0\\right|}}\\otimes {{\\left|0\\right\\rangle }{\\left\\langle 0\\right|}}\\otimes {{\\left|1\\right\\rangle }{\\left\\langle 1\\right|}} + {1}\\otimes {1}\\otimes {1}\\otimes {{\\left|1\\right\\rangle }{\\left\\langle 1\\right|}}\\otimes {1}\\otimes {1}\\otimes {{\\left|1\\right\\rangle }{\\left\\langle 1\\right|}}\\otimes {{\\left|0\\right\\rangle }{\\left\\langle 0\\right|}}\\otimes {{\\left|0\\right\\rangle }{\\left\\langle 0\\right|}}\\otimes {1}\\otimes {1}\\otimes {1}\\otimes {{\\left|0\\right\\rangle }{\\left\\langle 0\\right|}}\\otimes {{\\left|1\\right\\rangle }{\\left\\langle 1\\right|}}\\otimes {{\\left|0\\right\\rangle }{\\left\\langle 0\\right|}} + {1}\\otimes {1}\\otimes {1}\\otimes {{\\left|1\\right\\rangle }{\\left\\langle 1\\right|}}\\otimes {1}\\otimes {1}\\otimes {{\\left|1\\right\\rangle }{\\left\\langle 1\\right|}}\\otimes {{\\left|0\\right\\rangle }{\\left\\langle 0\\right|}}\\otimes {{\\left|1\\right\\rangle }{\\left\\langle 1\\right|}}\\otimes {1}\\otimes {1}\\otimes {1}\\otimes {{\\left|0\\right\\rangle }{\\left\\langle 0\\right|}}\\otimes {{\\left|0\\right\\rangle }{\\left\\langle 0\\right|}}\\otimes {{\\left|0\\right\\rangle }{\\left\\langle 0\\right|}} + {1}\\otimes {1}\\otimes {1}\\otimes {{\\left|1\\right\\rangle }{\\left\\langle 1\\right|}}\\otimes {1}\\otimes {1}\\otimes {{\\left|1\\right\\rangle }{\\left\\langle 1\\right|}}\\otimes {{\\left|0\\right\\rangle }{\\left\\langle 0\\right|}}\\otimes {{\\left|1\\right\\rangle }{\\left\\langle 1\\right|}}\\otimes {1}\\otimes {1}\\otimes {1}\\otimes {{\\left|0\\right\\rangle }{\\left\\langle 0\\right|}}\\otimes {{\\left|1\\right\\rangle }{\\left\\langle 1\\right|}}\\otimes {{\\left|1\\right\\rangle }{\\left\\langle 1\\right|}} + {1}\\otimes {1}\\otimes {1}\\otimes {{\\left|1\\right\\rangle }{\\left\\langle 1\\right|}}\\otimes {1}\\otimes {1}\\otimes {{\\left|1\\right\\rangle }{\\left\\langle 1\\right|}}\\otimes {{\\left|1\\right\\rangle }{\\left\\langle 1\\right|}}\\otimes {{\\left|0\\right\\rangle }{\\left\\langle 0\\right|}}\\otimes {1}\\otimes {1}\\otimes {1}\\otimes {{\\left|0\\right\\rangle }{\\left\\langle 0\\right|}}\\otimes {{\\left|0\\right\\rangle }{\\left\\langle 0\\right|}}\\otimes {{\\left|0\\right\\rangle }{\\left\\langle 0\\right|}} + {1}\\otimes {1}\\otimes {1}\\otimes {{\\left|1\\right\\rangle }{\\left\\langle 1\\right|}}\\otimes {1}\\otimes {1}\\otimes {{\\left|1\\right\\rangle }{\\left\\langle 1\\right|}}\\otimes {{\\left|1\\right\\rangle }{\\left\\langle 1\\right|}}\\otimes {{\\left|0\\right\\rangle }{\\left\\langle 0\\right|}}\\otimes {1}\\otimes {1}\\otimes {1}\\otimes {{\\left|0\\right\\rangle }{\\left\\langle 0\\right|}}\\otimes {{\\left|1\\right\\rangle }{\\left\\langle 1\\right|}}\\otimes {{\\left|1\\right\\rangle }{\\left\\langle 1\\right|}} + {1}\\otimes {1}\\otimes {1}\\otimes {{\\left|1\\right\\rangle }{\\left\\langle 1\\right|}}\\otimes {1}\\otimes {1}\\otimes {{\\left|1\\right\\rangle }{\\left\\langle 1\\right|}}\\otimes {{\\left|1\\right\\rangle }{\\left\\langle 1\\right|}}\\otimes {{\\left|1\\right\\rangle }{\\left\\langle 1\\right|}}\\otimes {1}\\otimes {1}\\otimes {1}\\otimes {{\\left|0\\right\\rangle }{\\left\\langle 0\\right|}}\\otimes {{\\left|0\\right\\rangle }{\\left\\langle 0\\right|}}\\otimes {{\\left|1\\right\\rangle }{\\left\\langle 1\\right|}} + {1}\\otimes {1}\\otimes {1}\\otimes {{\\left|1\\right\\rangle }{\\left\\langle 1\\right|}}\\otimes {1}\\otimes {1}\\otimes {{\\left|1\\right\\rangle }{\\left\\langle 1\\right|}}\\otimes {{\\left|1\\right\\rangle }{\\left\\langle 1\\right|}}\\otimes {{\\left|1\\right\\rangle }{\\left\\langle 1\\right|}}\\otimes {1}\\otimes {1}\\otimes {1}\\otimes {{\\left|0\\right\\rangle }{\\left\\langle 0\\right|}}\\otimes {{\\left|1\\right\\rangle }{\\left\\langle 1\\right|}}\\otimes {{\\left|0\\right\\rangle }{\\left\\langle 0\\right|}}$"
      ],
      "text/plain": [
       "1x1x1x|0><0|x1x1x|0><0|x|0><0|x|0><0|x1x1x1x|1><1|x|0><0|x|1><1| + 1x1x1x|0><0|x1x1x|0><0|x|0><0|x|0><0|x1x1x1x|1><1|x|1><1|x|0><0| + 1x1x1x|0><0|x1x1x|0><0|x|0><0|x|1><1|x1x1x1x|1><1|x|0><0|x|0><0| + 1x1x1x|0><0|x1x1x|0><0|x|0><0|x|1><1|x1x1x1x|1><1|x|1><1|x|1><1| + 1x1x1x|0><0|x1x1x|0><0|x|1><1|x|0><0|x1x1x1x|1><1|x|0><0|x|1><1| + 1x1x1x|0><0|x1x1x|0><0|x|1><1|x|0><0|x1x1x1x|1><1|x|1><1|x|0><0| + 1x1x1x|0><0|x1x1x|0><0|x|1><1|x|1><1|x1x1x1x|1><1|x|0><0|x|0><0| + 1x1x1x|0><0|x1x1x|0><0|x|1><1|x|1><1|x1x1x1x|1><1|x|1><1|x|1><1| + 1x1x1x|0><0|x1x1x|1><1|x|0><0|x|0><0|x1x1x1x|1><1|x|0><0|x|1><1| + 1x1x1x|0><0|x1x1x|1><1|x|0><0|x|0><0|x1x1x1x|1><1|x|1><1|x|0><0| + 1x1x1x|0><0|x1x1x|1><1|x|0><0|x|1><1|x1x1x1x|1><1|x|0><0|x|0><0| + 1x1x1x|0><0|x1x1x|1><1|x|0><0|x|1><1|x1x1x1x|1><1|x|1><1|x|1><1| + 1x1x1x|0><0|x1x1x|1><1|x|1><1|x|0><0|x1x1x1x|1><1|x|0><0|x|1><1| + 1x1x1x|0><0|x1x1x|1><1|x|1><1|x|0><0|x1x1x1x|1><1|x|1><1|x|0><0| + 1x1x1x|0><0|x1x1x|1><1|x|1><1|x|1><1|x1x1x1x|1><1|x|0><0|x|0><0| + 1x1x1x|0><0|x1x1x|1><1|x|1><1|x|1><1|x1x1x1x|1><1|x|1><1|x|1><1| + 1x1x1x|1><1|x1x1x|0><0|x|0><0|x|0><0|x1x1x1x|0><0|x|0><0|x|1><1| + 1x1x1x|1><1|x1x1x|0><0|x|0><0|x|0><0|x1x1x1x|0><0|x|1><1|x|0><0| + 1x1x1x|1><1|x1x1x|0><0|x|0><0|x|1><1|x1x1x1x|0><0|x|0><0|x|0><0| + 1x1x1x|1><1|x1x1x|0><0|x|0><0|x|1><1|x1x1x1x|0><0|x|1><1|x|1><1| + 1x1x1x|1><1|x1x1x|0><0|x|1><1|x|0><0|x1x1x1x|0><0|x|0><0|x|1><1| + 1x1x1x|1><1|x1x1x|0><0|x|1><1|x|0><0|x1x1x1x|0><0|x|1><1|x|0><0| + 1x1x1x|1><1|x1x1x|0><0|x|1><1|x|1><1|x1x1x1x|0><0|x|0><0|x|0><0| + 1x1x1x|1><1|x1x1x|0><0|x|1><1|x|1><1|x1x1x1x|0><0|x|1><1|x|1><1| + 1x1x1x|1><1|x1x1x|1><1|x|0><0|x|0><0|x1x1x1x|0><0|x|0><0|x|1><1| + 1x1x1x|1><1|x1x1x|1><1|x|0><0|x|0><0|x1x1x1x|0><0|x|1><1|x|0><0| + 1x1x1x|1><1|x1x1x|1><1|x|0><0|x|1><1|x1x1x1x|0><0|x|0><0|x|0><0| + 1x1x1x|1><1|x1x1x|1><1|x|0><0|x|1><1|x1x1x1x|0><0|x|1><1|x|1><1| + 1x1x1x|1><1|x1x1x|1><1|x|1><1|x|0><0|x1x1x1x|0><0|x|0><0|x|0><0| + 1x1x1x|1><1|x1x1x|1><1|x|1><1|x|0><0|x1x1x1x|0><0|x|1><1|x|1><1| + 1x1x1x|1><1|x1x1x|1><1|x|1><1|x|1><1|x1x1x1x|0><0|x|0><0|x|1><1| + 1x1x1x|1><1|x1x1x|1><1|x|1><1|x|1><1|x1x1x1x|0><0|x|1><1|x|0><0|"
      ]
     },
     "metadata": {},
     "output_type": "display_data"
    },
    {
     "name": "stdout",
     "output_type": "stream",
     "text": [
      "Constructed the projector\n"
     ]
    }
   ],
   "source": [
    "#Constructing the unitary\n",
    "\n",
    "#Convention\n",
    "# ABC X'Y'Z' Y'' Z'' A' S' S'' R' G' B' C'\n",
    "\n",
    "U_I = TP(Π_x0,I,I,        #ABC\n",
    "         Π_z0,I,I, I,I,   #XYZ YZ  #ASSRGBC\n",
    "         I,I,I,I,I,I,I) + \\\n",
    "      TP(Π_x1,I,I,        #ABC\n",
    "         Π_z0,I,I, I,I,   #XYZ YZ  #ASSRGBC\n",
    "         X_hat,I,I,I,I,I,I) + \\\n",
    "      TP(Π_y0,I,I,        #ABC\n",
    "         Π_z1,I,I, I,I,   #XYZ YZ  #ASSRGBC\n",
    "         I,I,I,I,I,I,I) + \\\n",
    "      TP(Π_y1,I,I,        #ABC\n",
    "         Π_z1,I,I, I,I,   #XYZ YZ  #ASSRGBC\n",
    "         X_hat,I,I,I,I,I,I)\n",
    "\n",
    "#display(U_I)\n",
    "\n",
    "\n",
    "bi = [0,1]\n",
    "\n",
    "U_II = None\n",
    "def f(a,x,r):\n",
    "    return (a+(x*r))%2\n",
    "\n",
    "for a,x,r in itertools.product(bi,bi,bi):        \n",
    "    #print(a,x,r,f(a,x,r))\n",
    "    if (f(a,x,r)):\n",
    "        _ = TP(I,I,I,        #ABC\n",
    "            Π_z(x),I,I, I,I,   #XYZ YZ  \n",
    "            Π_z(a),X_hat,X_hat,Π_z(r),I,I,I) #ASSRGBC\n",
    "    else:\n",
    "        _ = TP(I,I,I,        #ABC\n",
    "            Π_z(x),I,I, I,I,   #XYZ YZ  \n",
    "            Π_z(a),I,I,Π_z(r),I,I,I) #ASSRGBC\n",
    "    \n",
    "    if U_II==None:\n",
    "        U_II = _\n",
    "    else:\n",
    "        U_II += _\n",
    "    #Qubit(0)\n",
    "#display(U_II)\n",
    "\n",
    "\n",
    "U = U_II * U_I\n",
    "\n",
    "if(verbose): display(U)\n",
    "print(\"Constructed the unitary\")\n",
    "\n",
    "ρ1=U*ψ1*D(U*ψ1)\n",
    "display(ρ1)\n",
    "\n",
    "\n",
    "\n",
    "####################Constructing the projector\n",
    "\n",
    "Π = None\n",
    "_ = None\n",
    "#GHZ winning condition\n",
    "def f(a,b,c,x,y,z,g):\n",
    "    if( (x+g)%2 == 1 and (a+b+c+1)%2 == (x*y*z)):\n",
    "        return 1\n",
    "    else:\n",
    "        return 0    \n",
    "\n",
    "#I_ = Π_z0 + Π_z1\n",
    "    \n",
    "for a,b,c, x,y,z, g in itertools.product(bi,bi,bi, bi,bi,bi, bi):        \n",
    "    if (f(a,b,c, x,y,z, g)==1):\n",
    "        #print(a,b,c, x,y,z, g, f(a,b,c,x,y,z,g))\n",
    "        _ = TP(I,I,I,        #ABC\n",
    "            Π_z(x),I,I, Π_z(y),Π_z(z),   #XYZ YZ  \n",
    "            Π_z(a),I,I,I,Π_z(g),Π_z(b),Π_z(c)) #ASSRGBC\n",
    "    \n",
    "        if Π==None:\n",
    "            Π = _\n",
    "        else:\n",
    "            Π += _\n",
    "\n",
    "if(verbose): \n",
    "    display(Π)\n",
    "    #display(sq.represent(Π))\n",
    "    #display(rep(Π))\n",
    "print(\"Constructed the projector\")\n",
    "\n",
    "\n"
   ]
  },
  {
   "cell_type": "code",
   "execution_count": 22,
   "metadata": {},
   "outputs": [],
   "source": [
    "a = D(TP(o,o))"
   ]
  },
  {
   "cell_type": "code",
   "execution_count": 21,
   "metadata": {},
   "outputs": [
    {
     "data": {
      "text/latex": [
       "$\\displaystyle {{\\left|0\\right\\rangle }}\\otimes {{\\left|0\\right\\rangle }}\\otimes {{\\left|0\\right\\rangle }}\\otimes {{\\left|0\\right\\rangle }}\\otimes {{\\left|0\\right\\rangle }}\\otimes {{\\left|0\\right\\rangle }}\\otimes {{\\left|0\\right\\rangle }}\\otimes {{\\left|0\\right\\rangle }}\\otimes {{\\left|0\\right\\rangle }}\\otimes {{\\left|0\\right\\rangle }}\\otimes {{\\left|0\\right\\rangle }}\\otimes {{\\left|0\\right\\rangle }}\\otimes {{\\left|0\\right\\rangle }}\\otimes {{\\left|0\\right\\rangle }}$"
      ],
      "text/plain": [
       "|0>x|0>x|0>x|0>x|0>x|0>x|0>x|0>x|0>x|0>x|0>x|0>x|0>x|0>"
      ]
     },
     "metadata": {},
     "output_type": "display_data"
    },
    {
     "ename": "TypeError",
     "evalue": "as_base_exp() missing 1 required positional argument: 'self'",
     "output_type": "error",
     "traceback": [
      "\u001b[1;31m---------------------------------------------------------------------------\u001b[0m",
      "\u001b[1;31mTypeError\u001b[0m                                 Traceback (most recent call last)",
      "\u001b[1;32m<ipython-input-21-25162a8e3864>\u001b[0m in \u001b[0;36m<module>\u001b[1;34m\u001b[0m\n\u001b[0;32m      3\u001b[0m          o,o,o,o,o,o)\n\u001b[0;32m      4\u001b[0m \u001b[0mdisplay\u001b[0m\u001b[1;33m(\u001b[0m\u001b[0mallZero\u001b[0m\u001b[1;33m)\u001b[0m\u001b[1;33m\u001b[0m\u001b[1;33m\u001b[0m\u001b[0m\n\u001b[1;32m----> 5\u001b[1;33m \u001b[0mresult\u001b[0m\u001b[1;33m=\u001b[0m\u001b[0mΠ\u001b[0m\u001b[1;33m*\u001b[0m\u001b[0mD\u001b[0m\u001b[1;33m\u001b[0m\u001b[1;33m\u001b[0m\u001b[0m\n\u001b[0m",
      "\u001b[1;32m~\\.conda\\envs\\kish\\lib\\site-packages\\sympy\\core\\decorators.py\u001b[0m in \u001b[0;36m__sympifyit_wrapper\u001b[1;34m(a, b)\u001b[0m\n\u001b[0;32m     89\u001b[0m                 \u001b[1;32mif\u001b[0m \u001b[1;32mnot\u001b[0m \u001b[0mhasattr\u001b[0m\u001b[1;33m(\u001b[0m\u001b[0mb\u001b[0m\u001b[1;33m,\u001b[0m \u001b[1;34m'_op_priority'\u001b[0m\u001b[1;33m)\u001b[0m\u001b[1;33m:\u001b[0m\u001b[1;33m\u001b[0m\u001b[1;33m\u001b[0m\u001b[0m\n\u001b[0;32m     90\u001b[0m                     \u001b[0mb\u001b[0m \u001b[1;33m=\u001b[0m \u001b[0msympify\u001b[0m\u001b[1;33m(\u001b[0m\u001b[0mb\u001b[0m\u001b[1;33m,\u001b[0m \u001b[0mstrict\u001b[0m\u001b[1;33m=\u001b[0m\u001b[1;32mTrue\u001b[0m\u001b[1;33m)\u001b[0m\u001b[1;33m\u001b[0m\u001b[1;33m\u001b[0m\u001b[0m\n\u001b[1;32m---> 91\u001b[1;33m                 \u001b[1;32mreturn\u001b[0m \u001b[0mfunc\u001b[0m\u001b[1;33m(\u001b[0m\u001b[0ma\u001b[0m\u001b[1;33m,\u001b[0m \u001b[0mb\u001b[0m\u001b[1;33m)\u001b[0m\u001b[1;33m\u001b[0m\u001b[1;33m\u001b[0m\u001b[0m\n\u001b[0m\u001b[0;32m     92\u001b[0m             \u001b[1;32mexcept\u001b[0m \u001b[0mSympifyError\u001b[0m\u001b[1;33m:\u001b[0m\u001b[1;33m\u001b[0m\u001b[1;33m\u001b[0m\u001b[0m\n\u001b[0;32m     93\u001b[0m                 \u001b[1;32mreturn\u001b[0m \u001b[0mretval\u001b[0m\u001b[1;33m\u001b[0m\u001b[1;33m\u001b[0m\u001b[0m\n",
      "\u001b[1;32m~\\.conda\\envs\\kish\\lib\\site-packages\\sympy\\core\\decorators.py\u001b[0m in \u001b[0;36mbinary_op_wrapper\u001b[1;34m(self, other)\u001b[0m\n\u001b[0;32m    127\u001b[0m                     \u001b[1;32mif\u001b[0m \u001b[0mf\u001b[0m \u001b[1;32mis\u001b[0m \u001b[1;32mnot\u001b[0m \u001b[1;32mNone\u001b[0m\u001b[1;33m:\u001b[0m\u001b[1;33m\u001b[0m\u001b[1;33m\u001b[0m\u001b[0m\n\u001b[0;32m    128\u001b[0m                         \u001b[1;32mreturn\u001b[0m \u001b[0mf\u001b[0m\u001b[1;33m(\u001b[0m\u001b[0mself\u001b[0m\u001b[1;33m)\u001b[0m\u001b[1;33m\u001b[0m\u001b[1;33m\u001b[0m\u001b[0m\n\u001b[1;32m--> 129\u001b[1;33m             \u001b[1;32mreturn\u001b[0m \u001b[0mfunc\u001b[0m\u001b[1;33m(\u001b[0m\u001b[0mself\u001b[0m\u001b[1;33m,\u001b[0m \u001b[0mother\u001b[0m\u001b[1;33m)\u001b[0m\u001b[1;33m\u001b[0m\u001b[1;33m\u001b[0m\u001b[0m\n\u001b[0m\u001b[0;32m    130\u001b[0m         \u001b[1;32mreturn\u001b[0m \u001b[0mbinary_op_wrapper\u001b[0m\u001b[1;33m\u001b[0m\u001b[1;33m\u001b[0m\u001b[0m\n\u001b[0;32m    131\u001b[0m     \u001b[1;32mreturn\u001b[0m \u001b[0mpriority_decorator\u001b[0m\u001b[1;33m\u001b[0m\u001b[1;33m\u001b[0m\u001b[0m\n",
      "\u001b[1;32m~\\.conda\\envs\\kish\\lib\\site-packages\\sympy\\core\\expr.py\u001b[0m in \u001b[0;36m__mul__\u001b[1;34m(self, other)\u001b[0m\n\u001b[0;32m    194\u001b[0m     \u001b[1;33m@\u001b[0m\u001b[0mcall_highest_priority\u001b[0m\u001b[1;33m(\u001b[0m\u001b[1;34m'__rmul__'\u001b[0m\u001b[1;33m)\u001b[0m\u001b[1;33m\u001b[0m\u001b[1;33m\u001b[0m\u001b[0m\n\u001b[0;32m    195\u001b[0m     \u001b[1;32mdef\u001b[0m \u001b[0m__mul__\u001b[0m\u001b[1;33m(\u001b[0m\u001b[0mself\u001b[0m\u001b[1;33m,\u001b[0m \u001b[0mother\u001b[0m\u001b[1;33m)\u001b[0m\u001b[1;33m:\u001b[0m\u001b[1;33m\u001b[0m\u001b[1;33m\u001b[0m\u001b[0m\n\u001b[1;32m--> 196\u001b[1;33m         \u001b[1;32mreturn\u001b[0m \u001b[0mMul\u001b[0m\u001b[1;33m(\u001b[0m\u001b[0mself\u001b[0m\u001b[1;33m,\u001b[0m \u001b[0mother\u001b[0m\u001b[1;33m)\u001b[0m\u001b[1;33m\u001b[0m\u001b[1;33m\u001b[0m\u001b[0m\n\u001b[0m\u001b[0;32m    197\u001b[0m \u001b[1;33m\u001b[0m\u001b[0m\n\u001b[0;32m    198\u001b[0m     \u001b[1;33m@\u001b[0m\u001b[0m_sympifyit\u001b[0m\u001b[1;33m(\u001b[0m\u001b[1;34m'other'\u001b[0m\u001b[1;33m,\u001b[0m \u001b[0mNotImplemented\u001b[0m\u001b[1;33m)\u001b[0m\u001b[1;33m\u001b[0m\u001b[1;33m\u001b[0m\u001b[0m\n",
      "\u001b[1;32m~\\.conda\\envs\\kish\\lib\\site-packages\\sympy\\core\\operations.py\u001b[0m in \u001b[0;36m__new__\u001b[1;34m(cls, *args, **options)\u001b[0m\n\u001b[0;32m     45\u001b[0m             \u001b[1;32mreturn\u001b[0m \u001b[0margs\u001b[0m\u001b[1;33m[\u001b[0m\u001b[1;36m0\u001b[0m\u001b[1;33m]\u001b[0m\u001b[1;33m\u001b[0m\u001b[1;33m\u001b[0m\u001b[0m\n\u001b[0;32m     46\u001b[0m \u001b[1;33m\u001b[0m\u001b[0m\n\u001b[1;32m---> 47\u001b[1;33m         \u001b[0mc_part\u001b[0m\u001b[1;33m,\u001b[0m \u001b[0mnc_part\u001b[0m\u001b[1;33m,\u001b[0m \u001b[0morder_symbols\u001b[0m \u001b[1;33m=\u001b[0m \u001b[0mcls\u001b[0m\u001b[1;33m.\u001b[0m\u001b[0mflatten\u001b[0m\u001b[1;33m(\u001b[0m\u001b[0margs\u001b[0m\u001b[1;33m)\u001b[0m\u001b[1;33m\u001b[0m\u001b[1;33m\u001b[0m\u001b[0m\n\u001b[0m\u001b[0;32m     48\u001b[0m         \u001b[0mis_commutative\u001b[0m \u001b[1;33m=\u001b[0m \u001b[1;32mnot\u001b[0m \u001b[0mnc_part\u001b[0m\u001b[1;33m\u001b[0m\u001b[1;33m\u001b[0m\u001b[0m\n\u001b[0;32m     49\u001b[0m         \u001b[0mobj\u001b[0m \u001b[1;33m=\u001b[0m \u001b[0mcls\u001b[0m\u001b[1;33m.\u001b[0m\u001b[0m_from_args\u001b[0m\u001b[1;33m(\u001b[0m\u001b[0mc_part\u001b[0m \u001b[1;33m+\u001b[0m \u001b[0mnc_part\u001b[0m\u001b[1;33m,\u001b[0m \u001b[0mis_commutative\u001b[0m\u001b[1;33m)\u001b[0m\u001b[1;33m\u001b[0m\u001b[1;33m\u001b[0m\u001b[0m\n",
      "\u001b[1;32m~\\.conda\\envs\\kish\\lib\\site-packages\\sympy\\core\\mul.py\u001b[0m in \u001b[0;36mflatten\u001b[1;34m(cls, seq)\u001b[0m\n\u001b[0;32m    305\u001b[0m                 \u001b[1;31m#      e\u001b[0m\u001b[1;33m\u001b[0m\u001b[1;33m\u001b[0m\u001b[1;33m\u001b[0m\u001b[0m\n\u001b[0;32m    306\u001b[0m                 \u001b[1;31m# o = b\u001b[0m\u001b[1;33m\u001b[0m\u001b[1;33m\u001b[0m\u001b[1;33m\u001b[0m\u001b[0m\n\u001b[1;32m--> 307\u001b[1;33m                 \u001b[0mb\u001b[0m\u001b[1;33m,\u001b[0m \u001b[0me\u001b[0m \u001b[1;33m=\u001b[0m \u001b[0mo\u001b[0m\u001b[1;33m.\u001b[0m\u001b[0mas_base_exp\u001b[0m\u001b[1;33m(\u001b[0m\u001b[1;33m)\u001b[0m\u001b[1;33m\u001b[0m\u001b[1;33m\u001b[0m\u001b[0m\n\u001b[0m\u001b[0;32m    308\u001b[0m \u001b[1;33m\u001b[0m\u001b[0m\n\u001b[0;32m    309\u001b[0m                 \u001b[1;31m#  y\u001b[0m\u001b[1;33m\u001b[0m\u001b[1;33m\u001b[0m\u001b[1;33m\u001b[0m\u001b[0m\n",
      "\u001b[1;31mTypeError\u001b[0m: as_base_exp() missing 1 required positional argument: 'self'"
     ]
    }
   ],
   "source": [
    "allZero=TP(o,o,o,        #ABC\n",
    "         o,o,o, o,o,   #XYZ YZ  #ASSRGBC\n",
    "         o,o,o,o,o,o)\n",
    "display(allZero)\n",
    "result=Π*D"
   ]
  },
  {
   "cell_type": "code",
   "execution_count": null,
   "metadata": {},
   "outputs": [],
   "source": [
    "#display(U*ψ1)\n",
    "#ψ1_A=sq.qapply(U*ψ1)\n",
    "#rep(ψ1)\n",
    "#rep(U)"
   ]
  },
  {
   "cell_type": "markdown",
   "metadata": {},
   "source": [
    "## TODO\n",
    "\n",
    "* sympy seems too slow to do the symbolic calculations; need to write a routine to convert everything into numerical matrices even before multiplying them\n",
    "* Need to find a way of implementing a partial trace for cvxpy"
   ]
  },
  {
   "cell_type": "markdown",
   "metadata": {
    "heading_collapsed": true
   },
   "source": [
    "# Temporary"
   ]
  },
  {
   "cell_type": "code",
   "execution_count": 2,
   "metadata": {
    "hidden": true
   },
   "outputs": [
    {
     "name": "stdout",
     "output_type": "stream",
     "text": [
      "True True\n",
      "True True\n",
      "True True\n",
      "True True\n",
      "True True\n",
      "False False\n",
      "False False\n",
      "False False\n"
     ]
    }
   ],
   "source": [
    "#Uttam Bhai's formula\n",
    "#उत्तम भाई\n",
    "\n",
    "for i in [True,False]:\n",
    "    for j in [True,False]:\n",
    "        for k in [True,False]:\n",
    "            print ((i or (j and k)), ((i or j) and (i or k)))            "
   ]
  },
  {
   "cell_type": "code",
   "execution_count": null,
   "metadata": {
    "hidden": true
   },
   "outputs": [],
   "source": []
  }
 ],
 "metadata": {
  "celltoolbar": "Initialization Cell",
  "kernelspec": {
   "display_name": "Python 3",
   "language": "python",
   "name": "python3"
  },
  "language_info": {
   "codemirror_mode": {
    "name": "ipython",
    "version": 3
   },
   "file_extension": ".py",
   "mimetype": "text/x-python",
   "name": "python",
   "nbconvert_exporter": "python",
   "pygments_lexer": "ipython3",
   "version": "3.7.5"
  },
  "toc": {
   "base_numbering": 1,
   "nav_menu": {},
   "number_sections": true,
   "sideBar": true,
   "skip_h1_title": false,
   "title_cell": "Table of Contents",
   "title_sidebar": "Contents",
   "toc_cell": false,
   "toc_position": {
    "height": "calc(100% - 180px)",
    "left": "10px",
    "top": "150px",
    "width": "165px"
   },
   "toc_section_display": true,
   "toc_window_display": true
  }
 },
 "nbformat": 4,
 "nbformat_minor": 2
}
